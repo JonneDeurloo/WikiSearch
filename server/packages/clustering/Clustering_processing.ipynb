{
 "cells": [
  {
   "cell_type": "code",
   "execution_count": 1,
   "metadata": {},
   "outputs": [],
   "source": [
    "import numpy as np\n",
    "import pandas as pd\n",
    "import nltk\n",
    "import re\n",
    "import os\n",
    "import codecs\n",
    "from sklearn import feature_extraction\n",
    "#import mpld3"
   ]
  },
  {
   "cell_type": "code",
   "execution_count": 2,
   "metadata": {},
   "outputs": [
    {
     "name": "stdout",
     "output_type": "stream",
     "text": [
      "Hello world!\n"
     ]
    }
   ],
   "source": [
    "print(\"Hello world!\")"
   ]
  },
  {
   "cell_type": "markdown",
   "metadata": {},
   "source": [
    "<H1>Import Wikipedia Data</H1>"
   ]
  },
  {
   "cell_type": "code",
   "execution_count": 3,
   "metadata": {},
   "outputs": [
    {
     "data": {
      "text/html": [
       "<div>\n",
       "<style scoped>\n",
       "    .dataframe tbody tr th:only-of-type {\n",
       "        vertical-align: middle;\n",
       "    }\n",
       "\n",
       "    .dataframe tbody tr th {\n",
       "        vertical-align: top;\n",
       "    }\n",
       "\n",
       "    .dataframe thead th {\n",
       "        text-align: right;\n",
       "    }\n",
       "</style>\n",
       "<table border=\"1\" class=\"dataframe\">\n",
       "  <thead>\n",
       "    <tr style=\"text-align: right;\">\n",
       "      <th></th>\n",
       "      <th>Unnamed: 0</th>\n",
       "      <th>0</th>\n",
       "    </tr>\n",
       "  </thead>\n",
       "  <tbody>\n",
       "    <tr>\n",
       "      <th>0</th>\n",
       "      <td>A</td>\n",
       "      <td>#Type: regular article\\r\\nA (named , plural As...</td>\n",
       "    </tr>\n",
       "    <tr>\n",
       "      <th>1</th>\n",
       "      <td>Albedo</td>\n",
       "      <td>#Type: regular article\\r\\nAlbedo () (albedo, m...</td>\n",
       "    </tr>\n",
       "    <tr>\n",
       "      <th>2</th>\n",
       "      <td>An American in Paris</td>\n",
       "      <td>#Type: regular article\\r\\nAn American in Paris...</td>\n",
       "    </tr>\n",
       "    <tr>\n",
       "      <th>3</th>\n",
       "      <td>Autism</td>\n",
       "      <td>#Type: regular article\\r\\n \\r\\nAutism is a dev...</td>\n",
       "    </tr>\n",
       "    <tr>\n",
       "      <th>4</th>\n",
       "      <td>Achilles</td>\n",
       "      <td>#Type: regular article\\r\\nIn Greek mythology, ...</td>\n",
       "    </tr>\n",
       "  </tbody>\n",
       "</table>\n",
       "</div>"
      ],
      "text/plain": [
       "             Unnamed: 0                                                  0\n",
       "0                     A  #Type: regular article\\r\\nA (named , plural As...\n",
       "1                Albedo  #Type: regular article\\r\\nAlbedo () (albedo, m...\n",
       "2  An American in Paris  #Type: regular article\\r\\nAn American in Paris...\n",
       "3                Autism  #Type: regular article\\r\\n \\r\\nAutism is a dev...\n",
       "4              Achilles  #Type: regular article\\r\\nIn Greek mythology, ..."
      ]
     },
     "execution_count": 3,
     "metadata": {},
     "output_type": "execute_result"
    }
   ],
   "source": [
    "data = pd.read_csv(r\"C:\\temp\\output.csv\")\n",
    "data.head()"
   ]
  },
  {
   "cell_type": "code",
   "execution_count": 4,
   "metadata": {},
   "outputs": [],
   "source": [
    "titles  = data[\"Unnamed: 0\"].tolist()\n",
    "synopses = data[\"0\"].tolist()\n",
    "\n",
    "nr_articles = len(data)\n",
    "titles = titles[:nr_articles]\n",
    "synopses = synopses[:nr_articles]"
   ]
  },
  {
   "cell_type": "code",
   "execution_count": 5,
   "metadata": {},
   "outputs": [
    {
     "data": {
      "text/plain": [
       "13385"
      ]
     },
     "execution_count": 5,
     "metadata": {},
     "output_type": "execute_result"
    }
   ],
   "source": [
    "#titles[999]\n",
    "len(data)"
   ]
  },
  {
   "cell_type": "markdown",
   "metadata": {},
   "source": [
    "<H1>Stopword removal, Stemming and Tokenizing</H1>"
   ]
  },
  {
   "cell_type": "code",
   "execution_count": 6,
   "metadata": {},
   "outputs": [],
   "source": [
    "from nltk.tokenize import sent_tokenize, word_tokenize\n",
    "from nltk.corpus import stopwords"
   ]
  },
  {
   "cell_type": "code",
   "execution_count": 7,
   "metadata": {},
   "outputs": [],
   "source": [
    "#nltk.download()"
   ]
  },
  {
   "cell_type": "code",
   "execution_count": 8,
   "metadata": {},
   "outputs": [
    {
     "name": "stdout",
     "output_type": "stream",
     "text": [
      "['i', 'me', 'my', 'myself', 'we', 'our', 'ours', 'ourselves', 'you', \"you're\"]\n"
     ]
    }
   ],
   "source": [
    "# load nltk's English stopwords as variable called 'stopwords'\n",
    "#stopWords = set(stopwords.words('english'))\n",
    "stopwords = nltk.corpus.stopwords.words('english')\n",
    "print (stopwords[:10])"
   ]
  },
  {
   "cell_type": "code",
   "execution_count": 9,
   "metadata": {},
   "outputs": [],
   "source": [
    "# load nltk's SnowballStemmer as variabled 'stemmer'\n",
    "from nltk.stem.snowball import SnowballStemmer\n",
    "stemmer = SnowballStemmer(\"english\")"
   ]
  },
  {
   "cell_type": "code",
   "execution_count": 10,
   "metadata": {},
   "outputs": [],
   "source": [
    "# here I define a tokenizer and stemmer which returns the set of stems in the text that it is passed\n",
    "\n",
    "def tokenize_and_stem(text):\n",
    "    # first tokenize by sentence, then by word to ensure that punctuation is caught as it's own token\n",
    "    tokens = [word for sent in nltk.sent_tokenize(text) for word in nltk.word_tokenize(sent)]\n",
    "    filtered_tokens = []\n",
    "    # filter out any tokens not containing letters (e.g., numeric tokens, raw punctuation)\n",
    "    for token in tokens:\n",
    "        if re.search('[a-zA-Z]', token):\n",
    "            filtered_tokens.append(token)\n",
    "    stems = [stemmer.stem(t) for t in filtered_tokens]\n",
    "    return stems\n",
    "\n",
    "\n",
    "def tokenize_only(text):\n",
    "    # first tokenize by sentence, then by word to ensure that punctuation is caught as it's own token\n",
    "    tokens = [word.lower() for sent in nltk.sent_tokenize(text) for word in nltk.word_tokenize(sent)]\n",
    "    filtered_tokens = []\n",
    "    # filter out any tokens not containing letters (e.g., numeric tokens, raw punctuation)\n",
    "    for token in tokens:\n",
    "        if re.search('[a-zA-Z]', token):\n",
    "            filtered_tokens.append(token)\n",
    "    return filtered_tokens"
   ]
  },
  {
   "cell_type": "code",
   "execution_count": 11,
   "metadata": {},
   "outputs": [
    {
     "name": "stdout",
     "output_type": "stream",
     "text": [
      "0\n",
      "100\n",
      "200\n",
      "300\n",
      "400\n",
      "500\n",
      "600\n",
      "700\n",
      "800\n",
      "900\n",
      "1000\n",
      "1100\n",
      "1200\n",
      "1300\n",
      "1400\n",
      "1500\n",
      "1600\n",
      "1700\n",
      "1800\n",
      "1900\n",
      "2000\n",
      "2100\n",
      "2200\n",
      "2300\n",
      "2400\n",
      "2500\n",
      "2600\n",
      "2700\n",
      "2800\n",
      "2900\n",
      "3000\n",
      "3100\n",
      "3200\n",
      "3300\n",
      "3400\n",
      "3500\n",
      "3600\n",
      "3700\n",
      "3800\n",
      "3900\n",
      "4000\n",
      "4100\n",
      "4200\n",
      "4300\n",
      "4400\n",
      "4500\n",
      "4600\n",
      "4700\n",
      "4800\n",
      "4900\n",
      "5000\n",
      "5100\n",
      "5200\n",
      "5300\n",
      "5400\n",
      "5500\n",
      "5600\n",
      "5700\n",
      "5800\n",
      "5900\n",
      "6000\n",
      "6100\n",
      "6200\n",
      "6300\n",
      "6400\n",
      "6500\n",
      "6600\n",
      "6700\n",
      "6800\n",
      "6900\n",
      "7000\n",
      "7100\n",
      "7200\n",
      "7300\n",
      "7400\n",
      "7500\n",
      "7600\n",
      "7700\n",
      "7800\n",
      "7900\n",
      "8000\n",
      "8100\n",
      "8200\n",
      "8300\n",
      "8400\n",
      "8500\n",
      "8600\n",
      "8700\n",
      "8800\n",
      "8900\n",
      "9000\n",
      "9100\n",
      "9200\n",
      "9300\n",
      "9400\n",
      "9500\n",
      "9600\n",
      "9700\n",
      "9800\n",
      "9900\n",
      "10000\n",
      "10100\n",
      "10200\n",
      "10300\n",
      "10400\n",
      "10500\n",
      "10600\n",
      "10700\n",
      "10800\n",
      "10900\n",
      "11000\n",
      "11100\n",
      "11200\n",
      "11300\n",
      "11400\n",
      "11500\n",
      "11600\n",
      "11700\n",
      "11800\n",
      "11900\n",
      "12000\n",
      "12100\n",
      "12200\n",
      "12300\n",
      "12400\n",
      "12500\n",
      "12600\n",
      "12700\n",
      "12800\n",
      "12900\n",
      "13000\n",
      "13100\n",
      "13200\n",
      "13300\n"
     ]
    }
   ],
   "source": [
    "#not super pythonic, no, not at all.\n",
    "#use extend so it's a big flat list of vocab\n",
    "totalvocab_stemmed = []\n",
    "totalvocab_tokenized = []\n",
    "cnt = 0\n",
    "for i in synopses:\n",
    "    if cnt%100 == 0 :\n",
    "        print(cnt)\n",
    "    cnt = cnt+1\n",
    "    allwords_stemmed = tokenize_and_stem(i) #for each item in 'synopses', tokenize/stem\n",
    "    totalvocab_stemmed.extend(allwords_stemmed) #extend the 'totalvocab_stemmed' list\n",
    "    \n",
    "    allwords_tokenized = tokenize_only(i)\n",
    "    totalvocab_tokenized.extend(allwords_tokenized)"
   ]
  },
  {
   "cell_type": "code",
   "execution_count": 22,
   "metadata": {},
   "outputs": [
    {
     "name": "stdout",
     "output_type": "stream",
     "text": [
      "there are 45778663 items in vocab_frame\n"
     ]
    }
   ],
   "source": [
    "vocab_frame = pd.DataFrame({'words': totalvocab_tokenized}, index = totalvocab_stemmed)\n",
    "print ( 'there are ' + str(vocab_frame.shape[0]) + ' items in vocab_frame')\n"
   ]
  },
  {
   "cell_type": "code",
   "execution_count": 23,
   "metadata": {},
   "outputs": [
    {
     "name": "stdout",
     "output_type": "stream",
     "text": [
      "45778663\n",
      "45778663\n"
     ]
    }
   ],
   "source": [
    "print(len(totalvocab_tokenized))\n",
    "print(len(totalvocab_stemmed))\n",
    "\n",
    "#totalvocab_stemmed.append(\"hacks\")"
   ]
  },
  {
   "cell_type": "code",
   "execution_count": 24,
   "metadata": {},
   "outputs": [
    {
     "name": "stdout",
     "output_type": "stream",
     "text": [
      "           words\n",
      "type        type\n",
      "regular  regular\n",
      "articl   article\n",
      "a              a\n",
      "name       named\n",
      "\n",
      "\n",
      "\n",
      "\n"
     ]
    }
   ],
   "source": [
    "\n",
    "print (vocab_frame.head())\n",
    "print ()\n",
    "print ()\n",
    "print ()\n",
    "print ()"
   ]
  },
  {
   "cell_type": "markdown",
   "metadata": {},
   "source": [
    "<H1>TF-idf similarity</H1>"
   ]
  },
  {
   "cell_type": "code",
   "execution_count": 25,
   "metadata": {},
   "outputs": [
    {
     "name": "stderr",
     "output_type": "stream",
     "text": [
      "C:\\Users\\pieder\\AppData\\Local\\Continuum\\anaconda3\\lib\\site-packages\\sklearn\\feature_extraction\\text.py:300: UserWarning: Your stop_words may be inconsistent with your preprocessing. Tokenizing the stop words generated tokens ['abov', 'afterward', 'alon', 'alreadi', 'alway', 'ani', 'anoth', 'anyon', 'anyth', 'anywher', 'becam', 'becaus', 'becom', 'befor', 'besid', 'cri', 'describ', 'dure', 'els', 'elsewher', 'empti', 'everi', 'everyon', 'everyth', 'everywher', 'fifti', 'forti', 'henc', 'hereaft', 'herebi', 'howev', 'hundr', 'inde', 'mani', 'meanwhil', 'moreov', 'nobodi', 'noon', 'noth', 'nowher', 'onc', 'onli', 'otherwis', 'ourselv', 'perhap', 'pleas', 'sever', 'sinc', 'sincer', 'sixti', 'someon', 'someth', 'sometim', 'somewher', 'themselv', 'thenc', 'thereaft', 'therebi', 'therefor', 'togeth', 'twelv', 'twenti', 'veri', 'whatev', 'whenc', 'whenev', 'wherea', 'whereaft', 'wherebi', 'wherev', 'whi', 'yourselv'] not in stop_words.\n",
      "  'stop_words.' % sorted(inconsistent))\n"
     ]
    },
    {
     "name": "stdout",
     "output_type": "stream",
     "text": [
      "Wall time: 1h 11min 17s\n",
      "(13385, 693)\n"
     ]
    }
   ],
   "source": [
    "from sklearn.feature_extraction.text import TfidfVectorizer\n",
    "\n",
    "#define vectorizer parameters\n",
    "tfidf_vectorizer = TfidfVectorizer(max_df=0.8, max_features=200000,\n",
    "                                 min_df=0.2, stop_words='english',\n",
    "                                 use_idf=True, tokenizer=tokenize_and_stem, ngram_range=(1,3))\n",
    "\n",
    "%time tfidf_matrix = tfidf_vectorizer.fit_transform(synopses) #fit the vectorizer to synopses\n",
    "\n",
    "print(tfidf_matrix.shape)"
   ]
  },
  {
   "cell_type": "code",
   "execution_count": 26,
   "metadata": {},
   "outputs": [],
   "source": [
    "terms = tfidf_vectorizer.get_feature_names()"
   ]
  },
  {
   "cell_type": "code",
   "execution_count": 27,
   "metadata": {},
   "outputs": [
    {
     "data": {
      "text/plain": [
       "<function print>"
      ]
     },
     "execution_count": 27,
     "metadata": {},
     "output_type": "execute_result"
    }
   ],
   "source": [
    "from sklearn.metrics.pairwise import cosine_similarity\n",
    "dist = 1 - cosine_similarity(tfidf_matrix)\n",
    "print \n",
    "print"
   ]
  },
  {
   "cell_type": "code",
   "execution_count": 28,
   "metadata": {},
   "outputs": [
    {
     "name": "stdout",
     "output_type": "stream",
     "text": [
      "[[-2.22044605e-16  9.48454596e-01  8.88030203e-01 ...  9.47561306e-01\n",
      "   9.40035046e-01  8.75928156e-01]\n",
      " [ 9.48454596e-01  0.00000000e+00  9.14082370e-01 ...  8.83295380e-01\n",
      "   8.77809365e-01  8.21998707e-01]\n",
      " [ 8.88030203e-01  9.14082370e-01  0.00000000e+00 ...  9.18644653e-01\n",
      "   8.92124166e-01  7.86359177e-01]\n",
      " ...\n",
      " [ 9.47561306e-01  8.83295380e-01  9.18644653e-01 ...  1.11022302e-16\n",
      "   8.73776046e-01  8.75348981e-01]\n",
      " [ 9.40035046e-01  8.77809365e-01  8.92124166e-01 ...  8.73776046e-01\n",
      "   0.00000000e+00  7.68399875e-01]\n",
      " [ 8.75928156e-01  8.21998707e-01  7.86359177e-01 ...  8.75348981e-01\n",
      "   7.68399875e-01 -2.22044605e-16]]\n"
     ]
    }
   ],
   "source": [
    "print(dist)"
   ]
  },
  {
   "cell_type": "markdown",
   "metadata": {},
   "source": [
    "<H1>Clustering</H1>"
   ]
  },
  {
   "cell_type": "code",
   "execution_count": 39,
   "metadata": {},
   "outputs": [
    {
     "name": "stdout",
     "output_type": "stream",
     "text": [
      "Wall time: 24min 21s\n"
     ]
    }
   ],
   "source": [
    "from sklearn.cluster import KMeans\n",
    "\n",
    "num_clusters = 200\n",
    "\n",
    "km = KMeans(n_clusters=num_clusters)\n",
    "\n",
    "%time km.fit(tfidf_matrix)\n",
    "\n",
    "clusters = km.labels_.tolist()"
   ]
  },
  {
   "cell_type": "code",
   "execution_count": 40,
   "metadata": {},
   "outputs": [],
   "source": [
    "from sklearn.externals import joblib\n",
    "\n",
    "#uncomment the below to save your model \n",
    "#since I've already run my model I am loading from the pickle\n",
    "\n",
    "joblib.dump(km,  'doc_cluster200.pkl')\n",
    "\n",
    "km = joblib.load('doc_cluster200.pkl')\n",
    "clusters = km.labels_.tolist()"
   ]
  },
  {
   "cell_type": "code",
   "execution_count": 41,
   "metadata": {},
   "outputs": [
    {
     "name": "stdout",
     "output_type": "stream",
     "text": [
      "13385\n",
      "13385\n",
      "13385\n",
      "13385\n",
      "13385\n",
      "KMeans(algorithm='auto', copy_x=True, init='k-means++', max_iter=300,\n",
      "    n_clusters=200, n_init=10, n_jobs=None, precompute_distances='auto',\n",
      "    random_state=None, tol=0.0001, verbose=0)\n"
     ]
    }
   ],
   "source": [
    "ranks = list(range(nr_articles))\n",
    "genres = list(range(nr_articles))\n",
    "#ranks\n",
    "print(len(titles))\n",
    "print(len(ranks))\n",
    "print(len(synopses))\n",
    "print(len(genres))\n",
    "print(len(clusters))\n",
    "print(km)\n"
   ]
  },
  {
   "cell_type": "code",
   "execution_count": 42,
   "metadata": {},
   "outputs": [],
   "source": [
    "films = { 'title': titles, 'rank': ranks, 'synopsis': synopses, 'cluster': clusters, 'genre': genres }\n",
    "\n",
    "frame = pd.DataFrame(films, index = [clusters] , columns = ['rank', 'title', 'cluster', 'genre'])"
   ]
  },
  {
   "cell_type": "code",
   "execution_count": 43,
   "metadata": {},
   "outputs": [
    {
     "data": {
      "text/plain": [
       "64     330\n",
       "78     246\n",
       "53     217\n",
       "5      188\n",
       "11     182\n",
       "63     178\n",
       "176    143\n",
       "142    142\n",
       "117    133\n",
       "131    132\n",
       "106    130\n",
       "120    127\n",
       "16     124\n",
       "93     122\n",
       "138    120\n",
       "90     120\n",
       "10     119\n",
       "104    119\n",
       "179    118\n",
       "71     116\n",
       "9      115\n",
       "129    114\n",
       "85     113\n",
       "45     113\n",
       "149    111\n",
       "32     109\n",
       "28     107\n",
       "58     105\n",
       "22     105\n",
       "17     105\n",
       "      ... \n",
       "182     29\n",
       "4       29\n",
       "55      28\n",
       "199     28\n",
       "135     27\n",
       "160     27\n",
       "2       27\n",
       "73      27\n",
       "137     26\n",
       "119     26\n",
       "148     26\n",
       "163     26\n",
       "189     25\n",
       "74      25\n",
       "115     24\n",
       "124     24\n",
       "150     24\n",
       "36      23\n",
       "121     23\n",
       "141     22\n",
       "146     21\n",
       "168     21\n",
       "171     20\n",
       "19      20\n",
       "192     19\n",
       "169     19\n",
       "77      15\n",
       "180     14\n",
       "62      13\n",
       "114     11\n",
       "Name: cluster, Length: 200, dtype: int64"
      ]
     },
     "execution_count": 43,
     "metadata": {},
     "output_type": "execute_result"
    }
   ],
   "source": [
    "frame['cluster'].value_counts() #number of films per cluster (clusters from 0 to 4)"
   ]
  },
  {
   "cell_type": "code",
   "execution_count": 44,
   "metadata": {},
   "outputs": [
    {
     "data": {
      "text/plain": [
       "cluster\n",
       "0       6804.294118\n",
       "1       7268.921348\n",
       "2       7313.444444\n",
       "3       5929.500000\n",
       "4       6829.448276\n",
       "5       6761.813830\n",
       "6       6530.805556\n",
       "7       7643.901961\n",
       "8       6295.606383\n",
       "9       6314.660870\n",
       "10      6869.697479\n",
       "11      6769.802198\n",
       "12      5713.317073\n",
       "13      5513.466667\n",
       "14      7328.049383\n",
       "15      7755.666667\n",
       "16      7155.620968\n",
       "17      6962.038095\n",
       "18      6463.216216\n",
       "19      4006.750000\n",
       "20      7242.822581\n",
       "21      8102.405405\n",
       "22      7491.838095\n",
       "23      6622.327869\n",
       "24      6273.047619\n",
       "25      6634.458824\n",
       "26      7204.046875\n",
       "27      6208.220588\n",
       "28      6957.934579\n",
       "29      6400.210526\n",
       "           ...     \n",
       "170     4801.609756\n",
       "171     8535.150000\n",
       "172     6885.326733\n",
       "173     8200.631579\n",
       "174     6728.865854\n",
       "175     6508.607143\n",
       "176     7176.251748\n",
       "177     6354.888889\n",
       "178     7124.672727\n",
       "179     6973.881356\n",
       "180     7496.142857\n",
       "181     6347.880000\n",
       "182     6133.620690\n",
       "183     6779.069767\n",
       "184     6711.970149\n",
       "185     5016.216216\n",
       "186     6462.788732\n",
       "187     7033.254237\n",
       "188     7112.750000\n",
       "189     6472.920000\n",
       "190     6796.064516\n",
       "191     6640.447368\n",
       "192     4686.842105\n",
       "193    10707.096774\n",
       "194     6374.168831\n",
       "195     5808.932432\n",
       "196     6153.354839\n",
       "197     6726.591837\n",
       "198     7294.705882\n",
       "199     7789.000000\n",
       "Name: rank, Length: 200, dtype: float64"
      ]
     },
     "execution_count": 44,
     "metadata": {},
     "output_type": "execute_result"
    }
   ],
   "source": [
    "grouped = frame['rank'].groupby(frame['cluster']) #groupby cluster for aggregation purposes\n",
    "\n",
    "grouped.mean() #average rank (1 to 100) per cluster"
   ]
  },
  {
   "cell_type": "code",
   "execution_count": 45,
   "metadata": {
    "scrolled": true
   },
   "outputs": [
    {
     "name": "stdout",
     "output_type": "stream",
     "text": [
      "Top terms per cluster:\n",
      "\n",
      "Cluster 0 titles: Anthemius of Tralles, Analytic geometry, Brouwer fixed-point theorem, Boiling point, Bézier curve, Craps, Circle, Constructible number, Cartesian coordinate system, Delaunay triangulation, Diophantine equation, Ellipse, Euclidean geometry, Elliptic curve, Fahrenheit, Cis-trans isomerism, Geodesy, Hyperbola, Longitude, Latitude, Lagrangian point, Parabola, Polygon, Perimeter, Pythagorean triple, Projective plane, Pointing device, Polar coordinate system, Quadrilateral, Sphere, Stokes' theorem, Statite, Sierpinski carpet, Sierpinski triangle,\n",
      "\n",
      "Cluster 1 titles: Foreign relations of Angola, Latin American Integration Association, Foreign relations of Brunei, Foreign relations of Brazil, Foreign relations of Burkina Faso, Foreign relations of Burundi, Brezhnev Doctrine, Country, Country code, Foreign relations of Cameroon, Foreign relations of the Central African Republic, Foreign relations of Chile, Foreign relations of Croatia, Foreign relations of Cuba, Foreign relations of the Comoros, Convention of Kanagawa, Foreign relations of Dominica, Foreign relations of Denmark, Diplomatic mission, Foreign relations of Ecuador, Foreign relations of Egypt, Foreign relations of Equatorial Guinea, Foreign relations of Estonia, Foreign relations of Ethiopia, Foreign relations of Fiji, Foreign relations of Finland, Foreign relations of Afghanistan, Foreign relations of Gabon, Foreign relations of Georgia, Foreign relations of Ghana, Foreign relations of Guinea, Foreign relations of Hong Kong, Foreign relations of Indonesia, Foreign relations of India, Foreign relations of Ireland, ISO 3166, Isolationism, International reply coupon, International Monetary Fund, Foreign relations of Japan, Foreign relations of Jordan, Foreign relations of Kazakhstan, Foreign relations of Kenya, Foreign relations of Kiribati, Foreign relations of Kuwait, Foreign relations of Kyrgyzstan, Foreign relations of Laos, Foreign relations of Lebanon, Foreign relations of Liberia, Foreign relations of Libya under Muammar Gaddafi, Foreign relations of North Macedonia, Foreign relations of Malta, Foreign relations of Malaysia, Foreign relations of Mauritius, Foreign relations of Mexico, Foreign relations of Morocco, Foreign relations of Mozambique, Foreign relations of Myanmar, NATO, Foreign relations of North Korea, Foreign relations of Nepal, Foreign relations of New Zealand, Papal diplomacy, Foreign relations of Oman, Foreign relations of China, Foreign relations of Pakistan, Foreign relations of Peru, Foreign relations of the Philippines, Foreign relations of Qatar, Foreign relations of Rwanda, Foreign relations of Russia, Foreign relations of Sweden, Foreign relations of South Korea, Foreign relations of Saint Kitts and Nevis, Foreign relations of Saudi Arabia, Foreign relations of Seychelles, Foreign relations of Singapore, Foreign relations of Slovakia, Foreign relations of Slovenia, Foreign relations of South Africa, Foreign relations of Spain, Foreign relations of Switzerland, Special drawing rights, Foreign relations of Tanzania, Foreign relations of Taiwan, Foreign relations of Thailand, Foreign relations of Togo, Foreign relations of Trinidad and Tobago, Foreign relations of Tunisia,\n",
      "\n",
      "Cluster 2 titles: Analog television, Australian Broadcasting Corporation, Channel 4, Chrominance, Clive Anderson, Cable television, Digital television, Desi Arnaz, Erdoğan Atalay, Elyssa Davalos, G4, Gordon Michael Woolvett, Julia Child, K9, Morton Downey Jr., Spam (Monty Python), NTSC, Naked News, NBC, Nuvistor, Rerun, Soap opera, Telecommunications in San Marino, Set-top box, Television (band), Television channel, Television,\n",
      "\n",
      "Cluster 3 titles: Analog Brothers, African Americans, Ain't I a Woman? (book), Black Forest, Black, Black Sabbath, Black Death, Black hole, Black people, Black Hand (Serbia), Black metal, Black Russian, Black and Tans, COINTELPRO, Cosmic censorship hypothesis, Fonni, Holographic principle, Ku Klux Klan, Keilhauite, Kwanzaa, Men in black, Malcolm X, Naked singularity, Orgy of the Dead, Piper (plant), Mass racial violence in the United States, Racial segregation, Red-black tree, Rosa Parks, Skinhead, Saint Piran, Steve Biko,\n",
      "\n",
      "Cluster 4 titles: Amateur astronomy, Asteroid, Absolute magnitude, Anti-realism, Active Server Pages, Clyde Tombaugh, Charles Messier, Classical Kuiper belt object, Declination, Edmund Husserl, Fantasy (psychology), Hierarchy, Kuiper belt, Kaleidoscope, Learning object, Motion, Messier object, Near-Earth object, Object code, Oort cloud, Object database, Planet, Plutino, Planets beyond Neptune, Poltergeist, Right ascension, Reference counting, Solar System, Sextant,\n",
      "\n",
      "Cluster 5 titles: Austroasiatic languages, Afroasiatic languages, Altaic languages, Arabic, American Sign Language, Argot, Africa Alphabet, Aphasia, Afrikaans, Armenian language, Aramaic language, Adamic language, Aragonese language, Aspirated consonant, Benjamin Lee Whorf, Basque language, Brittonic languages, Bantu languages, Bulgarian language, Baltic languages, Bambara language, Breton language, Brahui language, Berber languages, Murmured voice, Catalan language, Consonant, Chinese language, Celtic languages, Chomsky hierarchy, Cornish language, Context-sensitive language, Context-sensitive grammar, Clement Martyn Doke, Carl Meinhof, Czech language, Cardinal vowels, Context-free language, Chadic languages, Cushitic languages, Corsican language, Charles F. Hockett, Comparative method, Click consonant, Dravidian languages, Dialect, Danish language, Diedrich Hermann Westermann, Doublespeak, Dyula language, Decipherment, Esperanto, Evolutionary linguistics, Edward Sapir, Etruscan language, Eskimo, European Charter for Regional or Minority Languages, Languages of Europe, Expressive aphasia, Ergative case, East Slavic languages, Estonian language, Ethnologue, History of Esperanto, Frisian languages, Finno-Ugric languages, Fictional language, Formal language, Fingerspelling, Faroese language, Persian language, Franz Bopp, Fricative consonant, Glossolalia, Goidelic languages, Grammar, Grammatical tense, Grammatical aspect, Gallurese dialect, Grammatical gender, Hebrew language, Hindi, Hausa language, Hawaiian language, Indo-Iranian languages, Italian language, Italic languages, Indo-European languages, International African Institute, Ido language, Interlingua, Internet slang, Imprecise language, Ivar Aasen, Inuit languages, Japanese language, Joseph Greenberg, Korean language, Klingon language, KRL (programming language), Kashubian language, Khoisan languages, Kordofanian languages, Koalang, Kenneth Lee Pike, Language, Linear A, Lexicon, L. L. Zamenhof, Language family, Li people, Lincos (artificial language), Language acquisition, Liquid consonant, Maltese language, Macedonian language, Mandarin Chinese, Manx language, Minimal pair, Marathi language, Michael Halliday, Mobilian Jargon, Natural language, Numeral (linguistics), Niger-Congo languages, Natural language processing, Norwegian language, Northern Sotho language, Nostratic languages, Nilo-Saharan languages, Novial, Naturalistic planned language, Native Esperanto speakers, Nasal consonant, Norn language, Orthography, Occitan language, Oaths of Strasbourg, Otto Jespersen, Interlingue, Polish language, Phoneme, Philology, Phonetics, Phonology, Demographics of Pakistan, Philosophical Investigations, Pomeranian language, Proto-Human language, Portuguese language, Place of articulation, Page description language, Prakrit, Pidgin, Punjabi language, Quechuan languages, Russian language, Romance languages, Romanian language, Romansh language, Regular language, Regular grammar, Rhotic consonant, Swedish language, Scandinavia, Slavic languages, Sino-Tibetan languages, Syllabary, Spanish language, Linguistic relativity, Semitic languages, Logudorese dialect, Sardinian language, Sorbian languages, Languages of Switzerland, Sign language, Sanskrit, Serbo-Croatian, Slovene language, Slovak language, Scottish Gaelic, Systemic functional grammar, Slack voice, Subject-verb-object, Kra-Dai languages, Tamil language, Turkish language, Turkic languages,\n",
      "\n",
      "Cluster 6 titles: Aachen, Aarau, Ansbach, Bonn, Berlin, Bordeaux, Basel, Cologne, Helsingør, Erfurt, Elbląg, Frankfurt, Gdańsk, Geneva, Gdynia, Hamburg, Hanover, Kołobrzeg, Lübeck, Leipzig, Legnica, Lausanne, Munich, Maastricht, Melilla, Mainz, Maribor, Magdeburg, Nuremberg, Nijmegen, Nuoro, Odense, Riga, Szczecin, Stuttgart, Tübingen,\n",
      "\n",
      "Cluster 7 titles: Antipope John XXIII, Bar Kokhba (album), Duke of Marlborough (title), Floating Point, First Epistle of John, Gospel of John, George Gordon, 1st Earl of Aberdeen, Heroic couplet, John Ray, John Baskerville, John Wyndham, John Donne, John Sparrow David Thompson, John Newton, John Alden, John Napier, Joseph Severn, John the Baptist, John Cade, John George, Elector of Brandenburg, John Cicero, Elector of Brandenburg, Joachim Frederick, Elector of Brandenburg, John Sigismund, Elector of Brandenburg, John Chrysostom, John Brown, John Abercrombie (physician), John Abernethy (surgeon), John Sutter, John Climacus, John Radcliffe (physician), John Sealy Hospital, John the Evangelist, John, King of England, John-F.-Kennedy-Platz, Künstlerroman, Lennon Wall, Moonfleet, Mary, mother of John Mark, Pope John II, Pope Joan, Pope John XXIII, Pope John XXI, Pope John Paul II, Pope John Paul I, Pope Boniface III, Pope Sergius IV, Pope Innocent VI, Ralph Cudworth, Second Epistle of John, St. John's, Antigua and Barbuda, Saint John, New Brunswick,\n",
      "\n",
      "Cluster 8 titles: Albert Einstein, Andrey Markov, Avicenna, Alfred Russel Wallace, Albertus Magnus, Ibn al-Haytham, Hermann Kolbe, Augustin-Louis Cauchy, A. J. Ayer, André Weil, Atle Selberg, Aage Bohr, Arthur Eddington, Agner Krarup Erlang, Herman Boerhaave, Creationism, Claude Shannon, Carl Friedrich Gauss, Charles Lyell, Colin Maclaurin, David Hilbert, Daniel Jones (phonetician), Daniel Dennett, Ernst Mayr, Edward Waring, Évariste Galois, Erwin Schrödinger, Emil Kraepelin, Eugene Wigner, Enrico Fermi, Enrico Bombieri, Emil Theodor Kocher, Edwin Hubble, Friedrich Wöhler, Fred Hoyle, Ferdinand de Saussure, Freeman Dyson, Francis Crick, Frederick Soddy, Gottfried Wilhelm Leibniz, George Pólya, Giordano Bruno, Gilbert N. Lewis, Giuseppe Peano, Heinrich Hertz, Henri Bergson, History of physics, Heisuke Hironaka, Hans-Georg Gadamer, Herbert A. Simon, Isaac Newton, John Bardeen, Johannes Kepler, John von Neumann, James Hutton, Justus von Liebig, John Maynard Smith, J. Philippe Rushton, Julian Jaynes, John Pople, Kurt Gödel, Leonhard Euler, Louis Agassiz, John William Strutt, 3rd Baron Rayleigh, Max August Zorn, Max Planck, Margaret Murray, Michael Atiyah, Multiverse, Martin Lowry, Niels Bohr, Noam Chomsky, Oliver Heaviside, Paul Cohen, Pierre Teilhard de Chardin, Pavel Urysohn, Percival Lowell, Peter J. Carroll, Paul Dirac, Richard Feynman, Richard Dawkins, Robert Langlands, Roger Penrose, Rolf Nevanlinna, Robert Parr, Roman Jakobson, Ragnar Frisch, Sigmund Freud, Sophie Germain, Stephen Jay Gould, Scientific Revolution, Stefan Banach, On the Origin of Species, Thomas Henry Huxley,\n",
      "\n",
      "Cluster 9 titles: Alchemy, Abacus, Aramaic alphabet, Ancient philosophy, Alabaster, Alcamenes, Alcidamas, Alcaeus of Mytilene, Ambrosiaster, Allegory, Archimedes, Astrology, Albrecht Altdorfer, Aedesius, Beadwork, Bodhisattva, Bronze, Beltane, Boiled leather, British Museum, Bildungsroman, Codex, Castrato, Catullus, Century, Constantin von Tischendorf, Chain mail, Column, Crossbow, Cartography, Camelot, Cernunnos, Dentistry, Dandy, Dagger, Diophantus, Encyclopedia, Epic poetry, Elegiac couplet, Edda, Eusebius of Alexandria, Essay, Fresco, Flat Earth, History of geometry, Galen, Gnome, Gospel, Gambeson, Gonzo journalism, Gospel of James, Hobby, Marrubium vulgare, Hippocrates, Heraldry, Hesiod, Horace, History of Hebrew grammar, Honeymoon, History of medicine, History of mathematics, Holy Grail, Idiot, Ice skating, Ink, Jewellery, Jutes, Jackal, Library of Alexandria, Leucippus, Labyrinth, Liber Pontificalis, English longbow, Leda and the Swan, Linear B, Midrash, Manichaeism, Gaius Maecenas, Medieval dance, Malay Peninsula, Melancholia, Nursery rhyme, New Latin, Ode, Old Turkic alphabet, Palimpsest, Parchment, Papyrus, Punctuation, Paolo Agostino, Pseudo-Dionysius the Areopagite, Patanjali, Ptolemy, Pavane, Pandora, Palaeography, Portland Vase, Pole weapon, Quill, Quatrain, Rhetoric, Renaissance, Roger Bacon, Romanticism, Robin Hood, Regency dance, Sappho, Codex Sinaiticus, Sonnet, Sling (weapon), Song of Songs, Galgo Español, Spear, Sagas of Icelanders, Scatology,\n",
      "\n",
      "Cluster 10 titles: Algeria, Andorra, Angola, Afghanistan, Azerbaijan, Albania, Belgium, Brazil, Bulgaria, Benin, Belize, Belarus, Brunei, Botswana, Bangladesh, Burkina Faso, Bosnia and Herzegovina, Bolivia, Bakassi, Colombia, Czechoslovakia, Czech Republic, China, Cameroon, History of the Central African Republic, Central African Republic, Chad, History of Costa Rica, Costa Rica, Chile, History of Croatia, Croatia, Catalonia, Culture of Canada, Dominican Republic, History of Ecuador, Ecuador, Equatorial Guinea, El Salvador, Finland, Guinea, Guinea-Bissau, Hungary, Honduras, Haiti, Hong Kong, History of Libya, Iceland, India, Republic of Ireland, Italy, Indonesia, Iran, Japan, Kazakhstan, Kosovo, Luxembourg, Latvia, Libya, Lithuania, Laos, Lebanon, Lesotho, Liberia, Liechtenstein, History of Lithuania, Manitoba, Macau, Malawi, Mali, History of Moldova, Moldova, Mongolia, Mozambique, Morocco, Myanmar, Montenegro, Netherlands, North Korea, Norway, Namibia, Niger, Nicaragua, Nigeria, Oman, Poland, Panama, Portugal, Pakistan, History of Panama, Paraguay, Philippines, Russia, Romania, Rwanda, Taiwan, Rhodesia, Spain, Switzerland, Sri Lanka, Suriname, Saskatchewan, Slovakia, San Marino, Senegal, Sierra Leone, Singapore, Slovenia, Somalia, Sudan, Eswatini, Sarawak, Self-determination, Serbia, Tajikistan, Tanzania, Thailand, Togo, Tunisia,\n",
      "\n",
      "Cluster 11 titles: Aztlan Underground, Accordion, Antonio Vivaldi, August Wilhelm Ambros, Antonio Salieri, Anton Diabelli, Alessandro Scarlatti, Alban Berg, Arrangement, A cappella, Articolo 31, Belgian hip hop, Amr Diab, A Little Night Music, Alan Jay Lerner, A Funny Thing Happened on the Way to the Forum, Afrobeat, Blues, Bass music, Bass (sound), Bhangra (music), Benny Andersson, Boogie Down Productions, Béla Bartók, Ballad, Boy band, Bob Wills, Celtic music, Country music, Classical period (music), Cantigas de Santa Maria, Claudio Monteverdi, Claude Debussy, Computer music, Christian alternative rock, Carousel (musical), Dance, Donegal fiddle tradition, Drum and bass, Definition of music, Domenico Alberti, Danny Elfman, Dmitri Shostakovich, Disc jockey, Da capo, Edvard Grieg, Electronic music, Erik Satie, Electronic musical instrument, Early music, Edward Elgar, East Coast Swing, Estampie, Folk music, Filk music, Funk, Latin freestyle, Frédéric Chopin, Fabritio Caroso, Follies, Franz Schmidt, Goran Bregović, Gioachino Rossini, Gregor Aichinger, Gregorio Allegri, Galliard, Giacomo Puccini, Giovanni Pierluigi da Palestrina, Gerard Hengeveld, George Frideric Handel, Goth subculture, Giuseppe Verdi, Gilbert and Sullivan, Georg Philipp Telemann, George Gershwin, Gilles Apap, Hildegard of Bingen, Heavy metal music, Hillbilly, Henry Purcell, Music of India, Impressionism in music, Irish traditional music session, Instrumental, Isaac Albéniz, Ira Gershwin, Isaac Stern, Jazz, Jazz dance, Johann Friedrich Agricola, Joseph Haydn, Johann Tobias Krebs, Jerome Kern, John Dowland, Johannes Brahms, John Adams (composer), Jule Styne, Karaoke, Krzysztof Penderecki, Karlheinz Stockhausen, Karl Amadeus Hartmann, Playing by ear, Lola Graham, Ludwig van Beethoven, Louis Andriessen, Lyon & Healy, Lydia Kavina, Lester Bangs, Lute, S&M (album), Music, MTV, Mandolin, Musical film, My Fair Lady, Matteo Carcassi, Max Steiner, Martin Agricola, Medieval music, Musical saw, Musique concrète, Musical ensemble, Musical notation, Music lesson, Musicology, Musical theatre, Mambo (music), Mickey Hart, MusicBrainz, Motet, Musical, Music radio, Musical chairs, Napster, New wave music, Opera, Orchestra, Oscar Hammerstein II, Protest song, Pianist, Psychedelic rock, Postmodern music, Polyphony, Peter Guralnick, Progressive music, Pyotr Ilyich Tchaikovsky, Philip Glass, Punk subculture, Pop music, Paint Your Wagon (musical), Pub rock (Australia), Paolo Fresu, Quadrivium, Quartet, Rock and roll, Rapping, Rock music, Richard Wagner, Reggae, Ragga, Renaissance music, Roxy Music, Romantic music, Rhythm and blues, Rhythm, Ryuichi Sakamoto, Reel (dance), Roland Corporation, Ragtime, Robert Moog, Steve Reich, Sergei Prokofiev, Samba, Steve Lacy (saxophonist), Song, Stephen Sondheim, Syncopation, Scott Joplin, Tambourine, Trip hop, The Sound of Music, Time signature,\n",
      "\n",
      "Cluster 12 titles: Anaximenes of Miletus, Antoine Lavoisier, Airline, Aeronautics, Area 51, Airbus A300, Air show, AGM-88 HARM, AIM-7 Sparrow, AIM-120 AMRAAM, AIM-54 Phoenix, AGM-65 Maverick, Lockheed AC-130, CIM-10 Bomarc, Boeing 767, North American B-25 Mitchell, Northrop Grumman B-2 Spirit, Boeing 747, Blue Steel (missile), Bunsen burner, Rockwell B-1 Lancer, Boeing B-17 Flying Fortress, Convention on Long-Range Transboundary Air Pollution, Chuck Yeager, Air (classical element), Boeing C-17 Globemaster III, Concorde, Curtiss P-40 Warhawk, Commodore (rank), Lockheed C-130 Hercules, Boeing Vertol CH-46 Sea Knight, De Havilland Mosquito, Enola Gay, Nitrox, Embouchure, Boeing E-3 Sentry, Northrop Grumman E-8 Joint STARS, Northrop F-5, Federal Aviation Administration, General Dynamics F-16 Fighting Falcon, Lockheed F-117 Nighthawk, Vought F4U Corsair, McDonnell Douglas F-15 Eagle, Grumman F-14 Tomcat, McDonnell Douglas F-4 Phantom II, Lockheed Martin F-35 Lightning II, Transport in Greenland, Hang gliding, Hawker Siddeley Harrier, Imperial Airways, NATO Integrated Air Defense System, Jet stream, Junkers Ju 87, KAB-500KR, KAB-500L, KLM, Kamov Ka-25, Kamov Ka-50, Keflavík, Boeing KC-135 Stratotanker, LeRoy Homer Jr., Mathias Rust, Nitrogen Oxide Protocol, Boeing OC-135B Open Skies, Armed forces of Paraguay, Phoenix (TV series), En plein air, North American P-51 Mustang, Lockheed P-38 Lightning, Punta Sardegna, Royal Air Force, Royal Australian Air Force, Boeing RC-135, Smog, Seychelles People's Defence Force, Semi-Automatic Ground Environment, Strategic Air Command, 1985 Helsinki Protocol on the Reduction of Sulphur Emissions, Single European Sky, GAM-87 Skybolt, Kaman SH-2 Seasprite, Lockheed S-3 Viking,\n",
      "\n",
      "Cluster 13 titles: Algorithm, Algorithms for calculating variance, Apple I, Atanasoff-Berry computer, Analysis of algorithms, Analog computer, Association for Computing Machinery, Bit, Bill Atkinson, Bill Schelter, Backplane, Computing, Software, Computer science, Computational linguistics, Computation, Computer worm, Computational chemistry, Chaitin's constant, Computable number, Chinese room, Client-server model, Church-Turing thesis, Computer file, Chinese remainder theorem, Chaos Computer Club, Distributed computing, ELIZA effect, Exponentiation by squaring, Foonly, Free On-line Dictionary of Computing, Fast Fourier transform, Garbage in, garbage out, Hacker, History of computing hardware, Hacker ethic, Integer (computer science), Intel 80186, Joseph Weizenbaum, Konrad Zuse, Kiosk, KOMPILER, LEO (computer), Microassembler, Minicomputer, Malware, Macro virus, Numerical analysis, Non-deterministic Turing machine, Programmed Data Processor, PDP-1, Parasitic computing, Quantum computing, Rice's theorem, Riemann mapping theorem, Software crisis, Stan Kelly-Bootle, Spyware, SIGGRAPH, Trojan horse (computing),\n",
      "\n",
      "Cluster 14 titles: Alexander Mackenzie (politician), Ann Widdecombe, African National Congress, Alexander Kerensky, Aung San Suu Kyi, Benjamin Disraeli, Bob Hawke, Babrak Karmal, History of Chad, Clement Attlee, Charles Tupper, History of the Soviet Union (1982-91), Deng Xiaoping, Donald Dewar, Dictatorship, ETA (separatist group), Enver Hoxha, Earle Page, F. W. de Klerk, Politics of Gibraltar, Gough Whitlam, George Hamilton-Gordon, 4th Earl of Aberdeen, Gordon Brown, Gro Harlem Brundtland, History of the Republic of Turkey, History of Malaysia, History of Israel, Harold Holt, Hafizullah Amin, Indira Gandhi, History of Jamaica, Joseph Goebbels, John Major, John A. Macdonald, John Diefenbaker, Jacobin (politics), Jawaharlal Nehru, Khmer Rouge, Kwame Nkrumah, Toshiki Kaifu, History of Lesotho, Leon Trotsky, Louis St. Laurent, Leszek Miller, Louis Riel, Mackenzie Bowell, Malcolm Fraser, Michael Foot, Margaret Thatcher, Meir Kahane, Mohammad Najibullah, Martin Bormann, Muslim Brotherhood, Mikhail Gorbachev, Mike Moore (New Zealand politician), Politics of North Korea, History of North Korea, Politics of New Zealand, Natasha Stott Despoja, October Revolution, Pacific Scandal, Paul Keating, Prague Spring, Prime Minister of Australia, Prime Minister of Canada, Prime Minister of the United Kingdom, Province of Canada, Pol Pot, Pierre Trudeau, Robert Borden, R. B. Bennett, Robert Menzies, Rajiv Gandhi, Robert Askin, Roy Jenkins, Ruslan Khasbulatov, Silvio Berlusconi, History of Sri Lanka, Solidarity (Polish trade union), Sandinista National Liberation Front, Shaul Mofaz,\n",
      "\n",
      "Cluster 15 titles: Demographics of Antigua and Barbuda, Aimaq people, Demographics of the British Virgin Islands, Bongo (antelope), Demographics of Dominica, Demographics of the Dominican Republic, Demographic statistics, Demographics of El Salvador, Demographics of Greenland, Demographics of Grenada, Demographics of Guatemala, Demographics of Guadeloupe, Demographics of Honduras, Demographics of Kazakhstan, Demographics of Lesotho, Demographics of Martinique, Demographics of Mauritius, Demographics of Mongolia, Demographics of Montserrat, Malthusian catastrophe, Population, Demographics of Panama, Demographics of Réunion, Demographics of Saint Helena, Ascension and Tristan da Cunha, Demographics of Saint Kitts and Nevis, Demographics of Saint Lucia, Demographics of Saint Vincent and the Grenadines, Demographics of Suriname, Survey sampling, Statistical population, Sample (statistics), Stratified sampling, Demographics of Tonga,\n",
      "\n",
      "Cluster 16 titles: Almond, Amethyst, Amber, Archery, Argentine cuisine, Agar, Beer, Bicycle, Bubble tea, Bock, Bubble and squeak, Bean, Blue, Blu Tack, Beryl, Bovril, Caving, Chinese Islamic cuisine, Teochew cuisine, Buddhist cuisine, Cantonese cuisine, Cajun cuisine, Chinese cuisine, Curry, Cuisine, Couscous, Caesar salad, Cheddar cheese, Cookie, Crochet, Cola, Calico, Cocktail, Rum and Coke, Christmas tree, Dessert, Draught beer, Ethiopian cuisine, Fortified wine, Kite, Fusion cuisine, Folk dance, Gardening, Gazpacho, Grape, Green, Grits, Gunpowder, Gemstone, Gin, Hearse, Hakka cuisine, Hunan cuisine, Haggis, Hops, Inn, Indigo, Japanese cuisine, Korean cuisine, Japanese sword, Kvass, Kipper, Knife, Kilt, Kiwifruit, Kutia, Koi, Lavandula, Letterboxing (hobby), Loa, Liqueur, Merlot, Marble, Moroccan cuisine, Mild ale, Mexican cuisine, McIntosh (apple), Machete, Mountaineering, Cuisine of the Midwestern United States, Mojito, Miso, Nail (fastener), Low-alcohol beer, Olive, Oil painting, Oolong, Potato, Pilsner, Pencil, Pizza, Potato chip, Piña colada, Quartz, Quiver, Rosół, Restaurant, Rose, Spice, Swiss cheese, Tobacco pipe, Sockerdricka, Spanish cuisine, Sichuan cuisine, Shanghai cuisine, Stout, Sushi, Spam (food), Shepherd Neame Brewery, Swedish cuisine, Beer in Sweden, Sake, Cuisine of the Southern United States, Sweetbread, Spaghetti, Semtex, Sambuca, Snake oil, Scabbard, Spinel, Sienna, Turmeric, Taco, Tea,\n",
      "\n",
      "Cluster 17 titles: Allegiance, Alexander Agassiz, Aircraft hijacking, Heathenry in the United States, Abdulaziz al-Omari, Abu Nidal Organization, Agent Orange, Anti-Ballistic Missile Treaty, Abu Zubaydah, Alien and Sedition Acts, Ahmed al-Nami, Ahmed al-Haznawi, Biological warfare, Bioterrorism, The World Factbook, Canada-United States relations, Cruise missile, Commonwealth, Centers for Disease Control and Prevention, Civil defense, Choctaw, Contras, Foreign policy of the United States, Controlled Substances Act, Civilian Conservation Corps, Kennedy family, Dollar, Diplomatic immunity, Ecuador-United States relations, Eli Whitney, Espionage, Federal Reserve, Francis Hopkinson, Form 1040, Federal Bureau of Investigation, Flag of the United States, Fallout shelter, Food and Drug Administration, Fasces, Politics of Guam, General aviation, Guantanamo Bay Naval Base, Harbor, Hani Hanjour, Hull classification symbol, Harrison Narcotics Tax Act, Indian removal, Immigration to the United States, Ibn al-Shaykh al-Libi, International Society of Olympic Historians, Joint Political Military Group, John Walker Lindh, John Stauber, Khalid al-Mihdhar, Kofi Annan, Icehenge, Loudon Classic, Loran-C, Money laundering, Majed Moqed, Mohamed Atta, M107, MV Virginian (T-AK 9205), MV Buffalo Soldier (T-AK-9301), Nawaf al-Hazmi, Nuclear weapon, North Atlantic Treaty, Nicaragua v. United States, Treaty on the Non-Proliferation of Nuclear Weapons, Nuclear disarmament, Nuclear proliferation, Oligarchy, Osama bin Laden, Oliver North, Orlando Letelier, Ohio-class submarine, Oliver Hazard Perry-class frigate, Orthodox Bahá'í Faith, Treaty on Open Skies, 1986 United States bombing of Libya, Postmaster, Puerto Rico, Roll-your-own cigarette, Physician, Police, Polaris Sales Agreement, Panama Canal, Puget Sound Naval Shipyard and Intermediate Maintenance Facility, Postage stamp, Quango, Quasi-War, Rolf Ekéus, Racial profiling, Signature, Saint Lawrence Seaway, Hijackers in the September 11 attacks, U.S. government response to the September 11 attacks, Salem al-Hazmi, Sweet tea, Shriners, Strait of Hormuz, Soviet submarine K-219, Seabee, Saeed al-Ghamdi, Texas Declaration of Independence,\n",
      "\n",
      "Cluster 18 titles: Arbitrage, Barter, Balance of trade, Economy of Canada, Economy of Chile, Currency, Customs union, CITES, Clipper, Dejima, David Ricardo, Free-trade area, Foreign relations of Guatemala, Economy of Guinea-Bissau, Guild, General Agreement on Tariffs and Trade, Hanseatic League, Hawala, International trade, Ivory, Insider trading, Invisible balance, Logrolling, Long-Term Capital Management, History of Macau, Economy of North Macedonia, Mercantilism, Marrakesh Agreement, Merchant, New York Stock Exchange, North American Free Trade Agreement, Opium, Economy of Panama, Slavery, Smuggling, Trade, Trade secret,\n",
      "\n",
      "Cluster 19 titles: Angilbert, Absalom, Abner, Alexander I of Scotland, Abiathar, Abigail, Amnon, Books of Samuel, Camp David, Piter De Vries, David Thompson (explorer), David, Jacques-Louis David, Environmentalist, Transport in Grenada, Gerard David, Haggai, Peter David, Saul, Saint David,\n",
      "\n",
      "Cluster 20 titles: Politics of American Samoa, Approval voting, Aberavon (UK Parliament constituency), Politics of Bulgaria, Bundestag, 2001 United Kingdom general election, National Baseball Hall of Fame and Museum, Politics of Cape Verde, Politics of Costa Rica, Politics of Croatia, Chief Minister of the Northern Territory, Politics of Dominica, Daniel Ortega, Politics of Egypt, Politics of El Salvador, Politics of Ethiopia, Election, Eskilstuna Municipality, Plurality voting, Politics of Germany, Politics of Guernsey, Politics of Guyana, General election, Governor of Michigan, Gerrymandering, Politics of Haiti, Heather Fargo, Politics of Iraq, Politics of Italy, Politics of Jersey, John Engler, Politics of Kiribati, Politics of Lebanon, Politics of the Maldives, Politics of Malta, Politics of Martinique, Politics of Mauritania, Politics of Mexico, Politics of Mongolia, Politics of Morocco, Politics of Mozambique, Politics of Niue, Proportional representation, Pope Boniface I, Premier of South Australia, Prime Minister of Israel, Politics of Romania, Score voting, Two-round system, Politics of Saint Kitts and Nevis, Politics of Saint Lucia, Politics of Saint Vincent and the Grenadines, History of São Tomé and Príncipe, Politics of Seychelles, Politics of Singapore, Politics of Slovakia, Screaming Lord Sutch, Steve Bracks, Single transferable vote, Politics of the Republic of China, Politics of Tanzania, Politics of Trinidad and Tobago,\n",
      "\n",
      "Cluster 21 titles: Associative property, Atomic semantics, Abstract data type, Binary operation, Chief of Naval Operations, Logical disjunction, Émile Baudot, Frequency modulation synthesis, Gaussian elimination, Hamiltonian (quantum mechanics), IRC takeover, IA-32, Logical conjunction, Logical connective, Lynx (programming language), Lightweight Directory Access Protocol, Mary (programming language), Monolithic kernel, Nial, Operating system, Operator (mathematics), Operating system advocacy, Oftel, Operand, Operator overloading, Operation Deadlight, Operation Enduring Freedom, Parasailing, Progeny Linux Systems, Polish notation, Regular semantics, Reverse Polish notation, Safe semantics, Splay tree, Telephone switchboard,"
     ]
    },
    {
     "name": "stderr",
     "output_type": "stream",
     "text": [
      "C:\\Users\\pieder\\AppData\\Local\\Continuum\\anaconda3\\lib\\site-packages\\ipykernel_launcher.py:17: DeprecationWarning: \n",
      ".ix is deprecated. Please use\n",
      ".loc for label based indexing or\n",
      ".iloc for positional indexing\n",
      "\n",
      "See the documentation here:\n",
      "http://pandas.pydata.org/pandas-docs/stable/indexing.html#ix-indexer-is-deprecated\n"
     ]
    },
    {
     "name": "stdout",
     "output_type": "stream",
     "text": [
      " Sysop, Sheffer stroke,\n",
      "\n",
      "Cluster 22 titles: Telecommunications in Antigua and Barbuda, Telecommunications in Anguilla, Telecommunications in Belarus, Telecommunications in Botswana, Telecommunications in Bulgaria, Telecommunications in Burkina Faso, Communications in Burundi, BBC Radio 1, Telecommunications in Chad, Telecommunications in Cambodia, Telecommunications in Cameroon, Telecommunications in the Cayman Islands, Telecommunications in the Central African Republic, Telecommunications in Chile, Communications in Colombia, Telecommunications in the Czech Republic, Telecommunications in the Democratic Republic of the Congo, Telecommunications in Dominica, Telecommunications in Ecuador, Telecommunications in El Salvador, Telecommunications in Equatorial Guinea, Telecommunications in Eritrea, Telecommunications in Fiji, Telecommunications in the Faroe Islands, Telecommunications in Finland, Telecommunications in French Polynesia, Telecommunications in French Guiana, Telecommunications in the Federated States of Micronesia, Telecommunications in Gabon, Telecommunications in Georgia (country), Telecommunications in Ghana, Telecommunications in Greece, Telecommunications in Greenland, Telecommunications in Guatemala, Telecommunications in Guinea, Telecommunications in Guinea-Bissau, Telecommunications in Guadeloupe, Telecommunications in Honduras, Telecommunications in Italy, Telecommunications in Jamaica, Telecommunications in Jersey, Telecommunications in Kazakhstan, Telecommunications in Kenya, Telecommunications in Kiribati, Telecommunications in Kuwait, Telecommunications in Laos, Telecommunications in Latvia, Telecommunications in Lesotho, Communications in Liberia, Communications in Libya, Telecommunications in Lithuania, Telecommunications in Luxembourg, Telecommunications in Macau, Telecommunications in North Macedonia, Communications in Malawi, Telecommunications in Malaysia, Telecommunications in the Maldives, Telecommunications in Mali, Telecommunications in Malta, Telecommunications in Martinique, Telecommunications in Mauritania, Telecommunications in Mayotte, Telecommunications in Mexico, Telecommunications in Monaco, Telecommunications in Montserrat, Telecommunications in Mozambique, Telecommunications in Namibia, Telecommunications in Nauru, Telecommunications in Curaçao, Telecommunications in New Caledonia, Telecommunications in Nicaragua, Telecommunications in Niger, Telecommunications in Nigeria, Telecommunications in Poland, Media of Poland, Telecommunications in China, Telecommunications in Palau, Communications in Papua New Guinea, Telecommunications in Paraguay, Telecommunications in Puerto Rico, Telecommunications in Qatar, Telecommunications in the Republic of the Congo, Relay league, History of radio, Telecommunications in Réunion, Media of Romania, Telecommunications in Rwanda, Telecommunications in Saint Lucia, Telecommunications in Saint Pierre and Miquelon, Telecommunications in Saint Vincent and the Grenadines, Telecommunications in São Tomé and Príncipe, Telecommunications in Senegal, Telecommunications in Sierra Leone, Telecommunications in Slovenia, Telecommunications in Spain, Telecommunications in Sudan, Telecommunications in Suriname, Telecommunications in Eswatini, Telecommunications in Switzerland, Talk radio, Telecommunications in Tajikistan, Telecommunications in Togo, Telecommunications in Tonga, Telecommunications in Trinidad and Tobago, Telecommunications in the Turks and Caicos Islands,\n",
      "\n",
      "Cluster 23 titles: Aristophanes, Agathon, Alexis (poet), Alfred Jarry, Alan Ayckbourn, Acting, Aeschylus, Arthur Miller, Rise and Fall of the City of Mahagonny, Alex Lifeson, A Doll's House, Piano Trio, Op. 97 (Beethoven), Christopher Marlowe, Carlo Goldoni, Dramaturge, Taiko, Entertainment, Euripides, Francesco Andreini, Falstaff, Frances Abington, Grand Guignol, George Bernard Shaw, Geddy Lee, George S. Kaufman, Hamlet, Henrik Ibsen, Invictus, Improvisational theatre, Into the Woods, John Wilkes Booth, Jane Shore, Joe Orton, Kaj Munk, Kabuki, Keith Moon, Konstantin Stanislavski, Lucrezia Borgia, Macbeth, Marcel Achard, Dead Parrot sketch, Marietta Alboni, Michel Tremblay, Niccolò Paganini, Neil Simon, Othello, Oxfordian theory of Shakespeare authorship, Paul Desmond, Plautus, Pacific Overtures, Rosencrantz and Guildenstern Are Dead, Romeo and Juliet, Rent (musical), Sideshow, Sophocles, Samuel Beckett, Spike Milligan, Send In the Clowns, The Resistible Rise of Arturo Ui, Tristan Bernard, The Threepenny Opera,\n",
      "\n",
      "Cluster 24 titles: Anisotropy, Adhesive, Amorphous solid, Boron nitride, Bead, Bakelite, Carbon nanotube, Concrete, Compost, Impact crater, Ceramic, Cryogenics, Calorimetry, Explosive, Forge, False document, Ferromagnetism, Glass, Gneiss, Heteroatom, Hershey-Chase experiment, Isotropy, Insulator (electricity), Ion implantation, Kevlar, Liquid crystal, Materialism, Materials science, Microelectromechanical systems, Mohs scale of mineral hardness, Melting, Marsh gas, Nanotechnology, Nuclear chain reaction, Plotter, Perfect crystal, Piezoelectricity, Rheology, Roof, Semiconductor, Spectroscopy, Sputtering,\n",
      "\n",
      "Cluster 25 titles: Amphibian, Arsenic, Antarctic Circumpolar Current, Acrylic paint, Alkali, Autonomous building, Bicarbonate, Boat, Bucket argument, Bain-marie, Canal, Cave, Carbonate, Water (classical element), Cytosol, Hypothetical types of biochemistry, Cholera, Cactus, Drink, Disaccharide, Deuterium, Donald Campbell, Earth, Erosion, Ethanol, Emulsion, Evaporation, Enki, Frost, Great Lakes, Glacier, Galvanization, Geyser, Gin and tonic, Gypsum, Hydrology, Hydrogen bond, Hull (watercraft), Hominy, Hydropower, Hydrophobe, Hydroponics, Hematite, Heavy water, Hydraulic ram, Hydrolysis, Hail, Ice, James Lind, Geography of Kyrgyzstan, Karst, Kayak, Limestone, Lake Erie, Lithium citrate, Lake Eyre, Mariana Trench, Moon, Mariculture, Miranda (moon), Matzo, Nitrate, North Atlantic Deep Water, Neapolitan ice cream, Oasis, Common ostrich, Tetraodontidae, Pressure, Phase (matter), Polywater, Pelton wheel, Plankton, Rust, Sirenia, Salinity, Soft drink, Salt (chemistry), Swimming, Strait of Gibraltar, Snow, Surfing, Sudbury Neutrino Observatory, Solution, Sulfuric acid, Stalactite,\n",
      "\n",
      "Cluster 26 titles: AppleTalk, Action Against Hunger, Asynchronous transfer mode, Advanced Mobile Phone System, Broadcast domain, Cellular digital packet data, Dynamic Host Configuration Protocol, Digital Private Network Signalling System, Ethernet, Electrical network, Exploit (computer security), Enhanced Data Rates for GSM Evolution, EFTPOS, Freenet, FidoNet, Gnutella, Grid network, GSM, General Packet Radio Service, GÉANT, History of the Internet, Internet, EFnet, Undernet, DALnet, IEEE 802, Internet Relay Chat, IEEE 802.3, IP address, Internetworking, Internetwork Packet Exchange, IEEE 802.2, Internet Protocol, IPv4, IPv6, Internet protocol suite, JANET, Kazaa, Local area network, Myrinet, Multicast, Max Headroom (TV series), Multiprotocol Label Switching, MAC address, Maximum transmission unit, Artificial neural network, NSAP address, Network effect, OSI model, Personal area network, Point-to-Point Protocol, Protocol stack, Peer-to-peer, Ping (networking utility), Packet radio, Quality of service, Routing, Router (computing), Telecommunications in Solomon Islands, SMS, Star network, Session Initiation Protocol, Streaming media, Semantic network,\n",
      "\n",
      "Cluster 27 titles: Algebraic number, Atomic orbital, Automatic number announcement circuit, Abbe number, Arithmetic-geometric mean, Arithmetic, Amicable numbers, Binary-coded decimal, Binomial coefficient, Binomial theorem, Bernoulli's inequality, Bernoulli number, Combination, Chinese numerals, Cluster sampling, Cauchy sequence, Coprime integers, Condition number, Carmichael number, Decimal, Definable real number, Duodecimal, E (mathematical constant), Euler's sum of powers conjecture, Elementary algebra, Erdős number, Euclidean algorithm, Fibonacci number, Floating-point arithmetic, Fundamental theorem of arithmetic, Greatest common divisor, Golden ratio, Hexadecimal, Imaginary number, Integer, Irreducible fraction, IEEE 754-1985, Integer factorization, Fibonacci, Least common multiple, Laminar flow, International Numbering System for Food Additives, Mathematical induction, Mersenne prime, Maya numerals, Mach number, Modular arithmetic, Multiplication, Constructivism (philosophy of mathematics), Numerology, Numeral system, Natural number, Number, Octal, Order of magnitude, 1, Pseudorandomness, Perfect number, Prime number, Pauli exclusion principle, Pell's equation, Quadratic equation, Quadratic reciprocity, Rotary dial, Roulette, Square root, Square-free integer, Senary,\n",
      "\n",
      "Cluster 28 titles: Archipelago, Ashmore and Cartier Islands, Andaman Islands, Arapaoa Island, Aegadian Islands, Antarctic, Amakusa, Baker Island, British Virgin Islands, Banda Islands, Geography of Cape Verde, Transport in the Cayman Islands, Geography of the Cayman Islands, Economy of the Cayman Islands, Cayman Islands, Christmas Island, Cocos (Keeling) Islands, Channel Islands, Canary Islands, Cyclades, History of the Cook Islands, Telecommunications in the Cook Islands, Cook Islands, Deception Pass, Catan: Seafarers, Transport in Estonia, Europa Island, Ellis Island, Elba, Geography of the Falkland Islands, Transport in the Falkland Islands, Economy of the Falkland Islands, Economy of the Faroe Islands, French Southern and Antarctic Lands, Flores, Fuerteventura, Fair Isle, Glorioso Islands, Heard Island and McDonald Islands, Howland Island, Hawar Islands, Hayling Island, History of the Pacific Islands, Island, Isle of Wight, Islands of the North Atlantic, Islands of the Clyde, Jarvis Island, Jan Mayen, Geography of Jersey, Juan de Nova Island, Johnston Atoll, Juan Fernández Islands, Geography of Kiribati, History of Kiribati, Kiribati, Channels of the Hawaiian Islands, Kerguelen Islands, Krakatoa, Khuriya Muriya Islands, Line Islands, Lake Michigan, Looe Island, Long Island, Lundy, Malden Island, Communications in the Marshall Islands, Transportation in the Marshall Islands, Marshall Islands, Micronesia, Midway Atoll, Monkey Island (series), Transport in Nauru, Navassa Island, Netherlands Antilles, Geography of New Caledonia, Geography of the Northern Mariana Islands, Politics of Norfolk Island, History of Norfolk Island, Norfolk Island, Rousay, Prince Edward Island, Palmyra Atoll, Paracel Islands, Geography of the Pitcairn Islands, Pitcairn Islands, Phantom island, Rhode Island, Riddarfjärden, Robben Island, Sumba, Geography of Saint Helena, Geography of Saint Pierre and Miquelon, Geography of Saint Vincent and the Grenadines, Geography of the Solomon Islands, South Georgia and the South Sandwich Islands, Spratly Islands, Saaremaa, Sumatra, Sumbawa, Sulawesi, Surtsey, Soay, Skye, Small Isles, Geography of Tonga, Tromelin Island, Turks and Caicos Islands,\n",
      "\n",
      "Cluster 29 titles: Aries (constellation), Aquarius (constellation), Astrometry, Algol, Antiprism, Argo Navis, Antlia, Ara (constellation), Apus, Apparent magnitude, Alpha Centauri, Arcturus, Antares, Aldebaran, Altair, Epsilon Ursae Majoris, Bayer designation, Barnard's Star, Boötes, Constellation, Capricornus, CNO cycle, Cetus, Carina (constellation), Crux, Camelopardalis, Centaurus, Corona Borealis, Canis Minor, Cygnus (constellation), Canis Major, Caelum, Canes Venatici, Corona Australis, Chamaeleon, Celestial globe, Dorado, Delphinus, Dyson sphere, Equuleus, Exoplanet, Eos, Fornax, Flamsteed designation, Grus (constellation), Galaxy, Globular cluster, Hydrus, Johann Bayer, Johann Elert Bode, Libra (constellation), Leo (constellation), Lupus (constellation), Lepus (constellation), Lyra, Lucifer, Main sequence, Molecular cloud, Microscopium, Mira, Nebula, Nova, Neutron star, Octans, Ophiuchus, Olbers' paradox, Open cluster, Order of the Eastern Star, Pisces (constellation), Polaris, Parsec, Puppis, Pyxis, Piscis Austrinus, Procyon, Rigel, Star, Scorpius, Sagittarius (constellation), Starship Enterprise, Star height problem, Supernova, Stellar evolution, Sirius, Sextans, Sagitta, Serpens, Stellar designations and names, Star catalogue, Star Chamber, Star cluster, Stellar classification, Spica, Sapphire, Taurus (constellation),\n",
      "\n",
      "Cluster 30 titles: Aardwolf, Abalone, Ailanthus, Arctic fox, Aurochs, Azawakh, The Bush (Alaska), Anoa, Common buzzard, Beaver, Bald eagle, Blue crane, Brown bear, Northern bobwhite, Bermuda Triangle, Ben Nevis, Blue whale, Cheirogaleidae, Carolina parakeet, Cane toad, Coyote, Subspecies of Canis lupus, Capybara, Chipmunk, Cairn, Chaparral, Dune, Dhole, Eschrichtiidae, Earless seal, Fox, Fur seal, Gorilla, Giant panda, Gray whale, Hellbender, Jaguar, Killer whale, Common kestrel, Kingfisher, Kiwi, Kamchatka Oblast, Kittiwake, Lynx, Labrador duck, Lake Toba, Mustelidae, Mammoth, Manatee, Moose, Northern Ireland, North Pole, Northern Hemisphere, Orangutan, Okapi, Penguin, Passenger pigeon, Polar bear, Quagga, Red wolf, Red panda, Siberian Husky, Springbok, Speciation, Tiger,\n",
      "\n",
      "Cluster 31 titles: Arithmetic mean, Binomial distribution, Boltzmann distribution, Central tendency, Cumulative distribution function, CPAN, Cauchy distribution, Disperser, Extractor (mathematics), Gini coefficient, Histogram, Harmonic mean, Interquartile range, Entropy (information theory), Kurtosis, Location parameter, Lorenz curve, Linux distribution, Median, Mean, Multivariate statistics, Maxwell-Boltzmann distribution, Central moment, Normal distribution, Elementary event, Probability theory, Probability distribution, Pareto index, Power law, Pareto principle, Quantile, Random variable, Statistic, Range (statistics), Statistical inference, Skewness, Sorcerer (Linux distribution),\n",
      "\n",
      "Cluster 32 titles: Albert Alcibiades, Margrave of Brandenburg-Kulmbach, Albert the Bear, Albert, Duke of Prussia, Ahmed III, Agesilaus II, Afonso de Albuquerque, Alexander III of Russia, Alexander Jannaeus, Alexios III Angelos, Alexios I Komnenos, Alyattes of Lydia, Alfonso III of Aragon, Alfonso IV of Aragon, Alfonso XII of Spain, Alfonso the Battler, Alfonso V of Aragon, Amyntas III of Macedon, André de Longjumeau, Andronikos III Palaiologos, Andronikos I Komnenos, Andrew II of Hungary, Agathocles of Syracuse, Amalric of Jerusalem, Alphonse, Count of Poitiers, Alfonso Jordan, Ansgar, Abd al-Rahman III, Abdul Hamid I, Axayacatl, Ahuitzotl, Albert Frederick, Duke of Prussia, Albert III, Duke of Saxony, Anthony of Saxony, Bilgä Qaǧan, House of Bonaparte, Charlemagne, Columbanus, Christopher Báthory, Diego de Almagro, Eleanor of Aquitaine, El Cid, Eurystheus, Francis van Aarssens, Frederick III, Holy Roman Emperor, Francesco I Sforza, Frederick I, Margrave of Brandenburg-Ansbach, Frederick William I of Prussia, Giulio Alberoni, Gil Álvarez Carrillo de Albornoz, George William, Elector of Brandenburg, George, Duke of Saxony, House of Hohenzollern, Hernán Cortés, Huneric, Jadwiga of Poland, Joachim I Nestor, Elector of Brandenburg, Kingdom of Jerusalem, Knights Templar, Knight, Karađorđević dynasty, Louis the Pious, Livonia, Louis IX of France, Lorenzo de' Medici, Monarchy, Mehmed III, Murad III, Maria Eleonora of Brandenburg, Maria Feodorovna (Dagmar of Denmark), Mary, Queen of Hungary, Moctezuma II, Otto IV, Holy Roman Emperor, Paul the Deacon, Pope Alexander III, Pope Alexander VI, Pope Honorius IV, Pope Martin IV, Pope Benedict III, Pope Boniface IX, Pope Boniface VIII, Pope Clement III, Pope Clement IV, Pope Clement V, Pope Clement VI, Pope Clement VIII, Pope Clement VII, Pope Clement XIII, Pope Celestine III, Prussian Confederation, Pope Gregory IV, Pope Callixtus III, Pope Urban III, Pope Urban IV, Pope Urban V, Pope Stephen VIII, Pope Innocent IV, Pope Innocent III, Pope Innocent VII, Pope Innocent VIII, Pope Innocent X, Pope Innocent XI, Pope Eugene III, Pope Julius II, Philip II of France, Rudolf II, Holy Roman Emperor, House of Romanov, Stephen Báthory, Szlachta, Salian dynasty,\n",
      "\n",
      "Cluster 33 titles: Geography of Azerbaijan, Geography of Armenia, Geography of Alabama, Geography of Africa, Geography of Botswana, Geography of Brazil, Geography of Burkina Faso, Geography of Bulgaria, Geography of Burundi, Geography of Canada, Geography of Chad, Transport in Chad, Geography of Cambodia, Geography of Cameroon, Geography of the Central African Republic, Geography of Costa Rica, Geography of Ivory Coast, Geography of Croatia, Geography of the Czech Republic, Geography of Colombia, Geography of the Democratic Republic of the Congo, Geography of Djibouti, Geography of Ecuador, Geography of Egypt, Geography of El Salvador, Geography of Finland, Geography of French Guiana, Geography of Gabon, Geography of Guinea, Geography of Guinea-Bissau, Geography of Albania, Geography of Honduras, Geography of Hungary, Geography of India, Geography of Iraq, Geography of Israel, Geography of Kenya, Geography of Kuwait, Geography of Laos, Geography of Latvia, Geography of Lebanon, Geography of Lesotho, Geography of Liberia, Geography of Libya, Geography of Liechtenstein, Geography of Lithuania, Geography of Luxembourg, Lake Superior, Geography of Macau, Geography of North Macedonia, Geography of Moldova, Geography of Mongolia, Geography of Morocco, Geography of Mozambique, Geography of North Korea, Geography of Namibia, Geography of Nepal, Geography of Nicaragua, Geography of Niger, Geography of Nigeria, Geography of Oman, Geography of China, Geography of Pakistan, Geography of Panama, Geography of Paraguay, Geography of Peru, Geography of the Republic of the Congo, Geography of Romania, Geography of Russia, Geography of Sweden, Geography of South Korea, Sahara Desert (ecoregion), Geography of Saudi Arabia, Geography of Senegal, Geography of Sierra Leone, Geography of Slovakia, Geography of Slovenia, Geography of Spain, Geography of Sri Lanka, Geography of Sudan, Geography of Suriname, Geography of Eswatini, Geography of Switzerland, Geography of Syria, Geography of Tajikistan, Geography of Tanzania, Geography of Thailand, Geography of Togo, Geography of Turkey, Geography of Turkmenistan,\n",
      "\n",
      "Cluster 34 titles: Alismatales, Apiales, Asterales, Asparagales, Apiaceae, Asteraceae, Arecales, Dasyproctidae, Amati, Abencerrages, Amblypoda, Bromeliales, Brassicales, Brassicaceae, Carnivora, Cebidae, Cyperales, Commelinales, Cucurbitales, Cucurbitaceae, Colonna family, Chlorophyta, Cyprinodontiformes, Dioscoreales, Dipsacales, DNA virus, Euglenozoa, Eriocaulales, Ericales, Ericaceae, Equidae, Fagales, Fabales, Surnames by country, Finch, Goeldi's marmoset, Genealogy, Percolozoa, Indriidae, Lorisidae, Laurales, Lamiales, Liliales, Lamiaceae, Lizard, Malvales, Myrtales, Flowering plant, Malpighiales, Magnoliales, Marsupial, Odobenidae, Poales, Polygonales, Polygonaceae, Percopsiformes, Perciformes, Proboscidea, Rosales, Rosaceae, RNA virus, Saxhorn, Sapindales, Solanales, Saxifragales, Financial assistance following the September 11 attacks, Sap beetle, Shrike,\n",
      "\n",
      "Cluster 35 titles: Transport in Botswana, Rail transport in Great Britain, British Rail, Channel Tunnel, Canadian Pacific Railway, Commuter rail, Tramlink, Cable car (railway), Docklands Light Railway, Diesel multiple unit, Eurostar, Transport in Georgia (country), Transport in Gibraltar, Transport in Guinea, Transport in Hungary, Transport in Hong Kong, Heathrow Airport, Hook of Holland, Transport in Italy, Transport in Jersey, Transport in Kazakhstan, Transport in Kenya, Transport in Latvia, Transport in Libya, Transport in Luxembourg, London Underground, Los Angeles International Airport, London Post Office Railway, Transport in Malawi, Transport in Monaco, Massachusetts Bay Transportation Authority, Monorail, National Rail, Narrow-gauge railway, Transport in Poland, Transport in Pakistan, Transport in Peru, Rail transport, Transport in South Korea, Transport in San Marino, Transport in Spain, Telegraphy, Tube map,\n",
      "\n",
      "Cluster 36 titles: Amateur, Double-ended queue, FAQ, FBI Most Wanted Terrorists, Guitarist, Kobellite, Linear search, Linked list, Merge sort, Merge algorithm, Mafic, Military ordinariate, NATO reporting name, Off topic, Ovo-lacto vegetarianism, Pope Boniface VI, Queue (abstract data type), Transport in Saint Vincent and the Grenadines, Foreign relations of Sudan, Zuppa alla modenese, Soup all'Imperatrice, Soup alla Canavese, SECD machine,\n",
      "\n",
      "Cluster 37 titles: Australian rules football, Burn card, Ball, Badminton, Blackjack, Contract bridge, Dots and Boxes, Bowls, Backgammon, Chess, Crokinole, Counting-out game, Chinese checkers, Croquet, Dice, Dominoes, Eight-ball, Fantasy sport, Tackle (football move), Five-card draw, Field hockey, Snap (gridiron football), Gomoku, Hearts, Hockey, Judit Polgár, Ludo (board game), Nine-ball, Nim, Oh Hell, Playing card, Poker equipment, Wild card (cards), Check-raise, Stripped deck, Cut (cards), Phutball, Polo, Pente, Pinochle, Rugby football, Roller hockey, Sheepshead (card game), Snooker, Shuttlecock, Shogi, Scrabble, Mercy rule, Tennis, Trick-taking game, Tien Gow,\n",
      "\n",
      "Cluster 38 titles: American Civil War, Abatis, Balkan Wars, Boer, Cold War (1947-1953), Carl von Clausewitz, Collective trauma, Civil war, Confederate States of America, Conventional warfare, Emancipation Proclamation, Executive Order 9066, Hirohito, Four Freedoms, Fascism, Francisco Franco, Finlandization, Finnish Civil War, Guerrilla warfare, History of Russia, History of Finland, İsmet İnönü, Foreign relations of Italy, Irish Civil War, International Brigades, Joseph Stalin, Jihad, Kellogg-Briand Pact, Fumimaro Konoe, League of Nations, Marxism-Leninism, Moral equivalence, Nuremberg trials, On War, Propaganda, Peloponnesian War, Peloponnesian League, Peace, Pacifism, Prisoner of war, Russian Revolution, Remembrance of the Dead, Syndicalism, Soviet Union, History of Switzerland, Spy fiction, Spanish-American War, South African Republic, Stalinism, Sino-Indian War, Total war,\n",
      "\n",
      "Cluster 39 titles: Abner Doubleday, NYSE American, Andrew Carnegie, Cobble Hill Tunnel, Amanda Hesser, The Bronx, B52 (disambiguation), Brooklyn Historic Railway Association, Big Apple, William M. Tweed, Charles Farrar Browne, Cantor Fitzgerald, Christine Lavin, City University of New York, Stephen Donaldson (activist), Dave Winer, Ethan Allen, Emanuel Leutze, Ernest Thayer, Edna St. Vincent Millay, Escape from New York, Ed Sullivan, Eightfold path (policy analysis), Ettore Ximenes, Erie Canal, Finger Lakes, Félix Guattari, Fiorello H. La Guardia, Governor of New York, Greenwich Village, Hearst Communications, Ithaca, New York, John Jacob Astor, Joey Ramone, James Beard, Takamine Jōkichi, Julia Kristeva, Joel Marangella, Jerome Callet, James Parry, Lake Champlain, Lyman Abbott, Mychal Judge, Mordecai Kaplan, Margaret Sanger, Manhattan (cocktail), Nicholas Lemann, Nikola Tesla, New Jersey, New Amsterdam, No wave, Ogden Nash, Oliver Conant, Punk rock, Peter Stuyvesant, Rem Koolhaas, Rudy Giuliani, Robert Fulton, Radio Row, Raphael of Brooklyn, Submarine sandwich, Samuel Morse, Closings and cancellations following the September 11 attacks, Rescue and recovery effort after the September 11 attacks on the World Trade Center, Seneca Lake (New York), Syracuse, New York, Statue of Liberty, Solomon Northup, Stonewall riots, Saks Fifth Avenue, Wednesday Morning, 3 A.M., The Boston Globe,\n",
      "\n",
      "Cluster 40 titles: Demographics of Armenia, Demographics of Costa Rica, Demographics of Ivory Coast, Demographics of Croatia, Demographics of Cyprus, Demographics of the Democratic Republic of the Congo, Ecuadorians, Demographics of Egypt, Demographics of Equatorial Guinea, Demographics of Eritrea, Demographics of Estonia, Demographics of Finland, Demographics of Gabon, Demographics of Ghana, Demographics of Gibraltar, Demographics of Greece, Demographics of Haiti, Demographics of Hong Kong, Demographics of Hungary, Demographics of India, Demographics of Iraq, Demographics of the Republic of Ireland, Demographics of Israel, Demographics of Italy, Demographics of Japan, Demographics of Kenya, Demographics of Kyrgyzstan, Demographics of Laos, Demographics of Latvia, Demographics of Lebanon, Demographics of Liberia, Demographics of Libya, Demographics of Lithuania, Demographics of Luxembourg, Demographics of Macau, Demographics of North Macedonia, Demographics of Malaysia, Demographics of Mali, Demographics of Malta, Demographics of Mexico, Demographics of Moldova, Demographics of Morocco, Demographics of Myanmar, Demographics of North Korea, Demographics of Nauru, Demographics of Nepal, Demographics of New Zealand, Demographics of Nicaragua, Demographics of Nigeria, Demographics of China, Demographics of Paraguay, Demographics of Peru, Demographics of the Philippines, Demographics of Russia, Demographics of Sweden, Demographics of South Korea, Demographics of Singapore, Demographics of Slovakia, Demographics of Slovenia, Demographics of Spain, Demographics of Sudan, Demographics of Syria, Demographics of Switzerland, Demographics of Tanzania, Demographics of Thailand, Demographics of Trinidad and Tobago, Demographics of Turkey,\n",
      "\n",
      "Cluster 41 titles: Alexander II of Scotland, Ealdred (archbishop of York), Abhorrers, Abjuration, And did those feet in ancient time, Acts of Union 1707, Battle of Bosworth Field, Bank of England, Catherine of Aragon, Commonwealth of England, Charles I of England, Declaration of Arbroath, England, English Civil War, Æthelred the Unready, Edward de Vere, 17th Earl of Oxford, Elizabeth I of England, Edward VI of England, Fifth Monarchists, Francis Bacon, Francis Drake, Glorious Revolution, Guy Fawkes, Gunpowder Plot, History of England, Hugh Binning, Henry VII of England, Henry I of England, Henry VIII of England, Ivanhoe, Jacobitism, Johnny Haynes, Jacopo Amigoni, James Hamilton, 1st Earl of Abercorn, Justus, James Scarlett, 1st Baron Abinger, Joan of Arc, Kenilworth Castle, Lancelot Andrewes, Long Parliament, Mary, Queen of Scots, Mary II of England, Mary I of England, Mellitus, Malcolm III of Scotland, Magna Carta, Muscovite, Cuisine of New England, Oliver Cromwell, Owain Glyndŵr, Pope Adrian V, Posthumous execution, Patrick Abercromby, Recusancy, Richard III of England, Robert the Bruce, Shire, Sophia of Hanover, Stephen, King of England, Stephen Bachiler,\n",
      "\n",
      "Cluster 42 titles: Allan Dwan, American shot, Ballad of the Green Berets, Cyberpunk, Cutaway (filmmaking), Crane shot, Continuity (fiction), Crash (Ballard novel), Cut-up technique, Chris Cunningham, Clara Petacci, Destry Rides Again, Dumpster diving, Director's cut, Digital cinema, Dubbing (filmmaking), Young and Innocent, Formalist film theory, Film crew, Fearless (1993 film), The Pinchcliffe Grand Prix, Freddy Heineken, Son of Godzilla, Godzilla, Terror of Mechagodzilla, Godzilla vs. King Ghidorah, Gheorghe Zamfir, Hollywood cycles, House of Pain, Howard Hughes, HAL 9000, Insert (filmmaking), Indiana Jones, Jonathan Meades, Jacques Cousteau, Jasmuheen, Karl Gustav Ahlefeldt, Long shot, Lomography, L cut, Master shot, Miss Congeniality (film), Mystery Science Theater 3000, Original Sin (2001 film), A Scanner Darkly, Ubik, Radio Free Albemuth, Point-of-view shot, Romantic comedy, Rube Goldberg, Replicant, Schoolly D, Screwball comedy film, Split screen (video production), Stella Artois, Smuggling in fiction, Spaghetti Western, The Incredible Shrinking Man, Tracking shot,\n",
      "\n"
     ]
    },
    {
     "name": "stdout",
     "output_type": "stream",
     "text": [
      "Cluster 43 titles: Alexei Petrovich, Tsarevich of Russia, Aegeus, Aegisthus, Adoptionism, Benjamin, Emperor Shōmu, Emperor Kanmu, Emperor Jimmu, Marquess of Aberdeen and Temair, Emperor Yōmei, Emperor Bidatsu, Emperor Kinmei, Emperor Sushun, Emperor Kōbun, Empress Suiko, Emperor Kōtoku, Empress Kōgyoku, Emperor Tenji, Emperor Monmu, Empress Jitō, Empress Genshō, Emperor Junnin, Emperor Tenmu, Empress Kōken, Emperor Sukō, Emperor Heizei, Emperor Junna, Emperor Go-Kōgon, Emperor Annei, Emperor Suizei, Emperor Kōrei, Emperor Kōshō, Emperor Kōan, Emperor Kōgen, Emperor Kaika, Emperor Seimu, Emperor Keikō, Emperor Suinin, Emperor Chūai, Emperor Sujin, Emperor Nintoku, Emperor Ōjin, Emperor Hanzei, Emperor Richū, Emperor Ankō, Emperor Ingyō, Emperor Ankan, Emperor Buretsu, Emperor Seinei, Emperor Kenzō, Emperor Ninken, Emperor Senka, Emperor Keitai, Emperor Montoku, Emperor Ninmyō, Emperor Seiwa, Emperor Yōzei, Emperor Kōkō, Emperor Kazan, Emperor Uda, Filioque, Isaac, Julio-Claudian dynasty, Jacob, Japheth, Jacob and Esau, Lugh, Muspelheim, Murad I, Mehmed I, Mustafa I, Mabon ap Modron, Fujiwara no Mototsune, Magdalena of Saxony, Orsini family, Pope Stephen VII, Pribislav-Henry, Patrilineality, Patripassianism, House of Sforza, Son of God, Shah Jahan, Shem, Sabellianism,\n",
      "\n",
      "Cluster 44 titles: Abbot, Abbess, Abbey, Ambrose, Albert of Brandenburg, Alfred of Beverley, Ambrosians, Absalon, Ælfheah of Canterbury, Saint Titus, Archbishop of Canterbury, Adam of Bremen, Arbroath Abbey, Aberdare, Andreas Schlüter, Anabaptism, Archbishopric of Riga, Benedict of Nursia, Benedictines, Branch Davidians, Brigham Young, Celibacy, Columba, Concordat of Worms, Crucifix, Cyril of Jerusalem, Called to Common Mission, Catherine of Siena, Cesare Borgia, Catharism, Dwight L. Moody, Epistle to the Ephesians, Epistle to Titus, Elihu Yale, Francesco Borromini, Funeral, Francis of Assisi, Girolamo Aleandro, Glasnevin, George, Margrave of Brandenburg-Ansbach, Gregory of Nazianzus, Hymn, Hesychasm, Isidore of Miletus, Inquisition, Society of Jesus, Johann Tetzel, John Wycliffe, Kington Magna, Caspar Schwenckfeld, Kettlebaston, Limbo, Last rites, Laurence of Canterbury, Lollardy, Moses Amyraut, Matilda of Tuscany, Martin of Tours, Medieval Inquisition, Michael, Matthew the Apostle, Mary of Bethany, Mayerling, Matthew F. Hale, Nicolaus von Amsdorf, Nahum, Olney Hymns, Priest, Pope Linus, Pope Alexander IV, Pope Adrian III, Pope Adrian IV, Pope Pius XII, Paulinus of Nola, Pope Marcellus I, Pope Boniface V, Puritans, Pope Clement X, Parma, Michigan, Psalms, Pope Urban I, Pope Stephen I, Pope Sergius II, Pope Zachary, Polygamy, Primate (bishop), Pope Eusebius, Homosexuality and religion, Reform of the date of Easter, Agnes of Rome, Saint Boniface, Ninian, Saint George, Sun Myung Moon, Saints Cyril and Methodius, Seventh Day Baptists, San Giovanni di Posada,\n",
      "\n",
      "Cluster 45 titles: Animalia (book), Adventure, A Clockwork Orange (novel), Author, Alan Garner, Apocrypha, Book of Amos, Aberdeen Bestiary, A Wizard of Earthsea, Abu al-Faraj al-Isfahani, Book of Alma, Bible, Book, Books of the Bible, Book of Mormon, Books of Chronicles, Book of Ezra, Book of Joshua, Book of Nehemiah, Book of Jeremiah, Book of Isaiah, Book of Numbers, Book of Judges, Book of Ruth, Book of Esther, Book of Revelation, Book of Lamentations, Book of Job, Book of Ezekiel, Book of Joel, Book of Haggai, Book of Nahum, Book of Micah, Book of Zechariah, Book of Zephaniah, Book of Habakkuk, Book of Malachi, Beatrix Potter, Book of Common Prayer, Claudine (book series), Comic book, Chinese classics, Christine de Pizan, Claude Piron, Deseret alphabet, Dave Barry, Deuterocanonical books, Discordianism, Dewey Decimal Classification, Dr. Seuss, Death of a Hero, The Time in Between, Erewhon, Book of Exodus, Epistle of Jude, Ezra, Ecclesiastes, Edwin Abbott Abbott, Encyclopedia Brown, Enid Blyton, Book of Enos, Fahrenheit 451, François d'Aguilon, Flambards, Grimoire, Gesta Danorum, The Holocaust Industry, Habakkuk, Harold Kushner, Hartmann Schedel, Adventures of Huckleberry Finn, Book of Helaman, Incunable, International Standard Book Number, Johannes Gutenberg, J. K. Rowling, Jonah, Jacob Abbott, Judy Blume, Book of Jarom, Library, Liber Memorialis, L. Frank Baum, Larousse Gastronomique, Left Behind, Laurens Janszoon Coster, Manuscript, Marco Polo, Mortimer J. Adler, Moby-Dick, Malachi, Martin Gardner, Angel Moroni, Necronomicon, Naomi Klein, No Logo, Old Testament, Book of Omni, Printer (publishing), Partizan Press, Postscript, Pale Fire, Quotation, Richard Bach, Reference work, Robert Anton Wilson, Statute of Anne, Stephen R. Lawhead, Sutra, Siddur, Stuart Little, The Doors of Perception, Tom Clancy,\n",
      "\n",
      "Cluster 46 titles: Auto racing, Ally McBeal, ALF Tales, Akira Toriyama, The Beverly Hillbillies, Beavis and Butt-Head, Barb Wire, Blackadder, The Big O, Bill Oddie, Bubblegum Crisis, Babylon 5, Banacek, Colin Dexter, Cheers, Blue Jam, Telstar (game console), Cowboy Bebop, Douglas Adams, Doctor Who, Doraemon, Do Not Adjust Your Set, Frontline (Australian TV series), Father Ted, Friends, Four Feather Falls, Frasier, Fawlty Towers, Gumby, Mobile Suit Gundam Wing, Geometric series, Ghost in the Shell, Home Improvement (TV series), House of Cards (UK TV series), Inspector Morse, Ibanez, Series (mathematics), Kia Asamiya, Kenji Sahara, Matt Groening, Married... with Children, Mars Attacks, Mobile Suit Gundam, The Muppets, The Mickey Mouse Club, NASCAR, Neon Genesis Evangelion, One Foot in the Grave, Production car racing, Paul Whitehouse, Press Gang, Playdia, PA-RISC, Preacher (comics), Red Dwarf, The Ren & Stimpy Show, Ranma ½, Robotech, Rumiko Takahashi, Spenser (character), CLIÉ, Slartibartfast, Science fiction on television, Sailor Moon, South Park, Serial Experiments Lain, Stock car racing, Seinfeld, Space Battleship Yamato, Slayers, Second-system effect, Strangers in Paradise, Smallfilms, The Goon Show, The Simpsons, The A-Team,\n",
      "\n",
      "Cluster 47 titles: Amitabh Bachchan, Anthony Hopkins, Albert Brooks, Brigitte Bardot, Billy Bob Thornton, Burt Lancaster, Charlize Theron, Cary Elwes, Chaim Topol, Drew Barrymore, Dalton Trumbo, Delroy Lindo, David Mamet, Dennis Hopper, Ennio Morricone, Fay Wray, George Lucas, Gene Kelly, George Cukor, Galaxy Quest, Halle Berry, Heathers, Humphrey Bogart, Harry Shearer, Jack Lemmon, Jerry Lewis, Jonathan Demme, James Cagney, John Sayles, John Wayne, Jennifer Lopez, Joseph Cotten, James Stewart, Boulting brothers, Julia Roberts, Keanu Reeves, Kevin Spacey, Kevin Bacon, Leslie Caron, Lindsay Anderson, Liv Ullmann, Mack Sennett, Mary Pickford, Marilyn Monroe, Madhuri Dixit, Marlon Brando, Mel Brooks, Morgan Freeman, Nicolas Cage, Nicole Kidman, Nastassja Kinski, Penélope Cruz, Peter Sellers, Russell Crowe, Ruth Gordon, Robin Wright, Sean Connery, Spike Lee, Spike Jonze, Star Trek Generations, Star Trek: First Contact, Soad Hosny, Salma Hayek, Sandra Bullock, Sonja Henie, The Graduate,\n",
      "\n",
      "Cluster 48 titles: Algebraically closed field, Antiparticle, Algebraic extension, Algebraic closure, Atom probe, Curl (mathematics), Electromagnetic coil, Diamagnetism, Divergence, Depth of field, Dipole, Division ring, Electromagnetic radiation, Electromagnetic field, Electroweak interaction, Field (mathematics), Fermion, Finite field, Feynman diagram, Field extension, Field ion microscope, History of the petroleum industry in the United States, Henry Fielding, Kaluza-Klein theory, Mu-metal, Magnetism, Maxwell's equations, Magnetosphere, Magnetopause, Ordered field, Paramagnetism, Field of fractions, Superconductivity, Solar wind, Stellarator,\n",
      "\n",
      "Cluster 49 titles: Alkali metal, Argon, Actinium, Antimony, Americium, Astatine, Alloy, Actinide, Beryllium, Barium, Bromine, Boron, Berkelium, Carbon, Calcium, Chlorine, Curium, Chromium, Caesium, Chalcogen, Dysprosium, Erbium, Europium, Gadolinium, Germanium, Gallium, Gold, Halogen, Hydrogen, Helium, Holmium, Indium, Iridium, Iodine, Iron, Kamacite, Lithium, Lanthanum, Lanthanide, Magnesium, Molybdenum, Metal, Manganese, Noble gas, Nitrogen, Neon, Nickel, Niobium, Neptunium, Osmium, Oxide, Oxygen, Potassium, Palladium, Protactinium, Polonium, Platinum, Phosphorus, Rubidium, Rhodium, Rhenium, Ruthenium, Radium, Radon, Sodium, Scandium, Selenium, Strontium, Samarium, Silicon, Sulfur, Silver, Technetium, Titanium, Terbium, Tellurium, Thulium, Tin, Tungsten, Tantalum, Thorium,\n",
      "\n",
      "Cluster 50 titles: Ankara, Anazarbus, Ambracia, Abydos, Egypt, Abydos (Hellespont), Acropolis, Amathus, Amphipolis, Acropolis of Athens, Abakan, Abadeh, Aswan, Abano Terme, Aelia Capitolina, Ajmer, Afyonkarahisar, Abdera, Thrace, Alcobaça, Portugal, Alexandria Troas, Alexandria, Aveiro, Portugal, Byzantium, Bitola, Bayonne, Borough, Constantinople, Ceuta, Carthage, Citadel, Colossae, Corinth, Delphi, Dumnonii, Ephesus, Great Plague of London, World of A Song of Ice and Fire, Gate, History of St Albans, History of London, Herat, Ibn Battuta, Jericho, Kerameikos, Lighthouse of Alexandria, Lost city, Larissa, Lleida, Motala Municipality, Municipality, Megara, Nag Hammadi, Nineveh, Temple of Olympian Zeus, Athens, Pergamon, Parma, Philippi, Pisa, Rome, Rathaus Schöneberg, Santiago de Compostela, Samaria, Sidon, Syracuse, Sicily, Sarkel, Siege tower, Abbey of Saint Gall, Troy,\n",
      "\n",
      "Cluster 51 titles: Axiom of choice, Almost all, Algebraic geometry, Axiom of regularity, Ascending chain condition, Absolute Infinite, Naive set theory, Continuum hypothesis, Countable set, Cardinality, Cardinal number, Cantor set, Convex set, Cofinality, Diameter, Directed set, Endomorphism, Empty set, Flood fill, Finite set, Georg Cantor, Hausdorff maximal principle, Infinite descending chain, Kleene star, Intuitionism, Mandelbrot set, Filter (mathematics), Non-standard analysis, Ordered pair, Ploidy, Problem of the criterion, Partially ordered set, Presburger arithmetic, Power set, Set (mathematics), Category of sets, Set theory, Subset, Self-similarity, Set (card game), Sigma-algebra,\n",
      "\n",
      "Cluster 52 titles: Alexis Carrel, Arthur Aikin, Alessandro Volta, Alexander Fleming, Andrew Wiles, Annals of Mathematics, Andrei Sakharov, Angela Vincent, Benjamin D. Santer, Bjørn Lomborg, Cell Cycle, Cold fusion, Diaspora studies, Dolly (sheep), Ernest Rutherford, Erin Brockovich, Edwin Howard Armstrong, Fred Singer, Foresight Institute, George Whipple, Gastroenterology, George Washington Carver, Glenn T. Seaborg, Hans Gerhard Creutzfeldt, Hans Selye, Robert Koch, Harrison Schmitt, Humphry Davy, Harold Eugene Edgerton, Institut des Hautes Études Scientifiques, Harry Kroto, Interdisciplinarity, Irving Langmuir, John Macleod (physiologist), James Watson, James Heckman, John Eccles (neurophysiologist), James Lovelock, Kista, Kathleen Kenyon, Korea Institute for Advanced Study, Kay Redfield Jamison, Kary Mullis, Katanga Province, Klaus Fuchs, Konrad Emil Bloch, Kevin Warwick, Lunar Society of Birmingham, Louis Pasteur, Leonard Bloomfield, Lise Meitner, Max Horkheimer, Media studies, Mars Society, Marie Curie, Marcello Malpighi, Michael Milken, Aurel Stein, N ray, Otto Wilhelm Hermann von Abich, Paul Ehrlich, There's Plenty of Room at the Bottom, Peter Duesberg, Pierre Curie, Research, Robert Curl, Robert Noyce, Robert Stickgold, Robert Zubrin, Robert Penn Warren, Radio Research Project, Sexology, Simon Flexner, William Crookes, Society for Psychical Research, Scientific misconduct,\n",
      "\n",
      "Cluster 53 titles: An American in Paris, ABBA, Afro Celt Sound System, Arabian Prince, Ani DiFranco, Aaliyah, Alexis Korner, Amy Grant, Dutch hip hop, Anyone Can Whistle, Arlo Guthrie, Love and Theft (Bob Dylan album), Blood on the Tracks, Britney Spears, ...Baby One More Time (album), Björn Ulvaeus, Boney M., Beastie Boys, Bedrock Records, Bing Crosby, Bronski Beat, Belle and Sebastian, Beatmatching, Blind Blake, Buddy Holly, The Beach Boys, Bill Haley, Blind Willie McTell, Blind Lemon Jefferson, Blue Öyster Cult, Brownie McGhee, Barış Manço, Bo Diddley, Big Audio Dynamite, Cypress Hill, Courtney Love, Chuck D, Craig Charles, Commodores, Coldcut, Crowded House, Cold Chisel, Charles Mingus, Chet Atkins, Dead Kennedys, Disco, Dr. Dre, Dave Grohl, Dave Brubeck, Decade (Neil Young album), Depeche Mode, Dimmu Borgir, Dolly Parton, Deicide (band), David Bowie, Don McLean, Django Reinhardt, Devo, Davy Jones (musician), Elvis Presley, Egyptian Lover, The Downward Spiral, Enya, Eric Clapton, The Elephant 6 Recording Company, Electric Light Orchestra, Elvis Costello, Frank Zappa, Frankie Goes to Hollywood, Frank Sinatra, Two Tribes, Relax (song), Liverpool (album), Fleetwood Mac, Go Down Moses, Gangsta rap, Garth Brooks, Gloria Gaynor, Grateful Dead, George Harrison, George Benson, Gram Parsons, Gorillaz, Hee Haw, Herman Brood, Harthouse, Hawkwind, Harry Connick Jr., Henry Rollins, Ice-T, Jello Biafra, James Brown, John Lee Hooker, John Lennon, Jeff Mills, John Peel, Jonathan Richman, John Digweed, Jimi Hendrix, John Martyn, Jan and Dean, Juliana Hatfield, Janis Joplin, Jeepster Records, Julian Lennon, Joni Mitchell, John Rutsey, Jamiroquai, Jeff Lynne, Joy Division, Frost (rapper), Kurtis Blow, Kirk Hammett, Kurt Cobain, Kraftwerk, Kylie Minogue, Kim Milford, Kid Rock, Kate Bush, Forever Changes, Led Zeppelin, Louis Armstrong, LTJ Bukem, Lead Belly, Lemmy, Linkin Park, Lynyrd Skynyrd, Limp Bizkit, Garage Inc., Load (album), Ride the Lightning, Master of Puppets, Metallica (album), Metallica, Minor Threat, Marley Marl, Moğollar, Mötley Crüe, Moby, Marilyn Manson (band), Mariah Carey, Meat Puppets, Mike Oldfield, Mixmaster Morris, Mississippi John Hurt, Michael Hutchence, Miles Davis, Men at Work, Mance Lipscomb, Megadeth, Motörhead, Michael Nesmith, Meat Loaf, N.W.A, Nirvana (British band), Nirvana (band), Natacha Atlas, Nancy Sinatra, Ninja Tune, Neil Peart, Nu metal, New Order (band), Obituary (band), Oliver Lieb, Oscar Peterson, Public Enemy (band), Horses (album), Patti Smith, Prince Paul (producer), Paula Abdul, Pixies, The Presidents of the United States of America (band), Phonograph, Pete Best, Paul Wertico, Phish, Phil Ochs, Peggy Lee, Rush (band), Robyn, Rammstein, Ringo Starr, Robert Fripp, Ron Carter, Photek, Robert Johnson, The Righteous Brothers, Robert Calvert, REO Speedwagon, Recorder (musical instrument), Richard Hell, Romano Mussolini, Roy Orbison, Red Hot Chili Peppers, Simon & Garfunkel, Stig Anderson, Sheryl Crow, Ska, Sherrié Austin, Soul Coughing, Sonny Bono, Shirehorses, Suzanne Vega, Sonic Youth, Spice Girls, Shania Twain, System of a Down, Skyhooks (band), Sneaker Pimps, Staind, Siouxsie and the Banshees, Stan Rogers, The Doors, The Doors (album), The Beatles, Thump Records, Tommy Lee,\n",
      "\n",
      "Cluster 54 titles: The Alan Parsons Project, The Apache Software Foundation, Andrew Tridgell, Bruce Perens, Big Dig, Cyc, Eric S. Raymond, European Strategic Program on Research in Information Technology, Earned value management, Eden Project, Free software, Free software movement, The Free Software Definition, Free verse, Freeware, GNU, GNU Manifesto, Great Internet Mersenne Prime Search, Gall-Peters projection, History of Wikipedia, Ian Murdock, Lysator, MIT License, Miguel de Icaza, Mercator projection, Magic lantern, NupeCode, Nicaragua Canal, Open content, Open-source license, The Open Source Definition, Open Source Initiative, Project Gutenberg, Personal Telco, Project management, Project Runeberg, Rescuing Prometheus, SEUL,\n",
      "\n",
      "Cluster 55 titles: BeOS, Blitz BASIC, Common Desktop Environment, Debian, BIND, Djbdns, Debian GNU/Hurd, Welcome to the Pleasuredome (song), Rage Hard, Microsoft Windows version history, IRIX, BitchX, Itanium, Kool Keith, Calligra, K-Meleon, Lotus 1-2-3, LAME, Lightworks, Microsoft Windows, MacOS, Netscape, OpenGL, Phospholipase, Adobe RoboHelp, Slackware, SunOS, Samba (software),\n",
      "\n",
      "Cluster 56 titles: Acceleration, Aerodynamics, Colloid, Continuum mechanics, Coercion, Catenary, Centripetal force, Casimir effect, Coriolis force, Electromagnetism, Fundamental interaction, Fluid, Force, Fluid dynamics, Friction, Gaspard-Gustave de Coriolis, Harmonic oscillator, Inertial frame of reference, Inertia, Intermolecular force, Jerk (physics), Lift (force), Lorentz force, Momentum, Nutation, Orbit, Potential energy, Precession, Plate tectonics, Strong interaction, Simple machine, Statics,\n",
      "\n",
      "Cluster 57 titles: America the Beautiful, American (word), Alligatoridae, Adrian, American Chinese cuisine, American English, American cuisine, Folklore of the United States, American Media, Inc., American Airlines, American Quarter Horse, Alexandra, Arthur J. Stone, Autumn, Ballroom dance, Boston Herald, Berry Berenson, Blizzard, Bison, Chicano, Central America, Cyrus, Captain America, Foreign relations of El Salvador, The American Prisoner, Foreign relations of Honduras, Horace Engdahl, History of the Americas, Jumping the broom, Karl Andree, Latin hip hop, Luke (name), Lost Generation, Latino, Latin America, Micah, Medicine man, Martin Waldseemüller, Mathilde Roth Schechter, North America, Native Americans in the United States, Noah Webster, North American English, October 17, Poeciliidae, Roy Chapman Andrews, Robert Gordis, Rudolph Pariser, Soul food, Solomon Schechter, Americas,\n",
      "\n",
      "Cluster 58 titles: Autism, Motor neuron disease, Anxiety, Acute disseminated encephalomyelitis, Ataxia, Abscess, Arthritis, Autosome, Albinism in humans, Alcoholism, Amputation, Arteriovenous malformation, Belgian Blue, Brain abscess, Bipolar disorder, Bacterial vaginosis, Plague (disease), Bipolar I disorder, Catatonia, Cardiology, Creutzfeldt-Jakob disease, Coma, Cervix, Bradycardia, Coronary artery disease, Congenital iodine deficiency syndrome, Chagas disease, Cracking joints, Candidiasis, Color blindness, Cerebrospinal fluid, Cerebral arteriovenous malformation, Central pontine myelinolysis, Charcot-Marie-Tooth disease, Disease, Desertification, Digitalis, Duesberg hypothesis, Down syndrome, Dieting, Endocarditis, Earthquake, Essential tremor, Epilepsy, First aid, Foix-Alajouanine syndrome, Gun safety, Goitre, Genetic disorder, Hypoxia (medical), Hypoglycemia, Hyperthyroidism, Hemiparesis, Haemophilia, Erectile dysfunction, Interstitial cystitis, Inclusion body myositis, Kwashiorkor, Knockout, Lafora disease, Lassa fever, Lung cancer, Leukemia, Lambert-Eaton myasthenic syndrome, Lymphedema, Muscular dystrophy, Myasthenia gravis, Mycoplasma genitalium, Mania, Malaria, Meconium aspiration syndrome, Neuromyotonia, Overgrazing, Osteoporosis, Optic neuritis, Paralysis, Phenylketonuria, Pain, Paranasal sinuses, Psychosis, Pelvic inflammatory disease, Autosomal dominant polycystic kidney disease, Proximate cause, Prince Albert (genital piercing), Poliomyelitis, Progressive multifocal leukoencephalopathy, Idiopathic intracranial hypertension, Repetitive strain injury, Rheumatoid arthritis, Rickets, Ramsay Hunt syndrome type 2, Systemic scleroderma, Epileptic seizure, Schizophrenia, Sleep, Scurvy, Stuttering, Sleep apnea, Sinusitis, Stevens-Johnson syndrome, Scabies, Syphilis, Serotonin syndrome, Syringomyelia, Thyroid,\n",
      "\n",
      "Cluster 59 titles: Asteroids (video game), Atari, Atari 5200, Atari Lynx, Atari 2600, Atari Jaguar, Atari 7800, Arcadia 2001, Puzzle Bobble, Backward compatibility, Blizzard Entertainment, Bubble Bobble, Capcom, Chrono Trigger, ColecoVision, Counter-Strike (video game), Fairchild Channel F, Deus Ex (video game), Doom (1993 video game), Duke Nukem 3D, Digimon, Dance Dance Revolution, Doctor V64, EverQuest, Exile (1995 video game series), Freeciv, F-Zero: Maximum Velocity, Gradius (video game), Game.com, Heretic (video game), Hexen II, Hexen: Beyond Heretic, Handheld game console, Infocom, Intellivision, Id Software, Joystick, Kid Icarus, Konix Multisystem, Lionhead Studios, LucasArts, Microvision, Maxis, Nintendo, Nights into Dreams, NetHack, Nintendo 64, Neo Geo Pocket, Virtual Boy, Neo Geo CD, Neo Geo (system), Neopets, Nuon (DVD technology), Magnavox Odyssey², Pokémon, PlayStation (console), Penny Arcade, Philips CD-i, PC-FX, Philips Videopac+ G7400, Pong, PlayStation 3, QuakeC, Quake II, Quake III Arena, Quake (video game), Raven Software, R-Type, Radical Dreamers, Rise of the Triad, Red Faction (video game), Return to Castle Wolfenstein, StarCraft (video game), Shareware, Sam & Max, Super Mario Kart, Super Nintendo Entertainment System, Simon the Sorcerer, Square (company), SimCity (1989 video game), Sega Pico, Sega VR, 32X, Sega CD, Sega Saturn, Dreamcast, System Shock, Simple DirectMedia Layer, The Legend of Zelda,\n",
      "\n",
      "Cluster 60 titles: Ada (programming language), Assembly language, ALGOL, APL (programming language), Atlas Autocode, AMOS (programming language), BASIC, BCPL, B (programming language), Compiler, C (programming language), COBOL, Common Language Infrastructure, CLU (programming language), Dia (software), Euphoria (programming language), JavaScript, Fourth-generation programming language, GNU Compiler Collection, Harald Tveit Alvestrand, Icon (programming language), INTERCAL, Interpreted language, Integrated development environment, Java virtual machine, Knowledge representation and reasoning, FX-87, KL0, KL1, Knowledge Query and Manipulation Language, Kent Recursive Calculator, Larry Wall, LALR parser, Lisp (programming language), Lazy evaluation, Logo (programming language), Lint (software), Markup language, Mercury (programming language), MUMPS, Mesa (programming language), MATLAB, Macro (computer science), ML (programming language), Modula, Namespace, Oberon (programming language), Occam (programming language), Programming language, PL/I, Pascal (programming language), Python (programming language), Perl, PostScript, PHP, Pseudocode, P-code machine, Ruby (programming language), Register transfer language, Rebol, SAMPA, Scheme (programming language), Smalltalk, Shell script, Standard Generalized Markup Language, Steelman language requirements, Syntactic sugar, Server-side scripting, SNOBOL,\n",
      "\n",
      "Cluster 61 titles: Astronaut, STS-51-F, Catherine Coleman, Deep Space 1, Extravehicular activity, European Space Operations Centre, European Space Agency, Goonhilly Satellite Earth Station, International Space Station, Kennedy Space Center, Konstantin Tsiolkovsky, K7, Lake Kickapoo, Laika, Human spaceflight, Air Force Space Surveillance System, Panspermia, Pioneer program, Satellite, Spaced repetition, Space Shuttle, Space Shuttle Challenger, Space Shuttle Discovery, Space Shuttle Endeavour, Space Shuttle Columbia, Space Shuttle Atlantis, Space exploration, Space telescope, Space elevator, Space colonization, Skylab, Tamara E. Jernigan,\n",
      "\n",
      "Cluster 62 titles: Absolute value, Axiology, Coin, Discounted cash flow, Expected value, FC Den Bosch, Geologic time scale, Intermediate value theorem, Labor theory of value, Logistic map, Linear prediction, Minimax, Mean value theorem,\n",
      "\n"
     ]
    },
    {
     "name": "stdout",
     "output_type": "stream",
     "text": [
      "Cluster 63 titles: Actrius, Andrei Tarkovsky, Alfred Hitchcock, American Film Institute, Akira Kurosawa, Alfonso Cuarón, Auguste and Louis Lumière, Army of Darkness, The Birth of a Nation, Blade Runner, Bille August, Blazing Saddles, Blue Velvet (film), Blade Runner 3: Replicant Night, Brian De Palma, Buffy the Vampire Slayer (film), Barry Lyndon, Bollywood, Braveheart, Batman (1966 film), Batman Returns, Batman (1989 film), Batman & Robin (film), Batman Forever, Bride of the Monster, Charlie Chaplin, Citizen Kane, Crouching Tiger, Hidden Dragon, Comedy film, Cult film, Chariots of Fire, Cecil B. DeMille, Chris Marker, Cahiers du cinéma, D. W. Griffith, David Cronenberg, David Lynch, David Fincher, Documentary film, Dressed to Kill (1980 film), Dr. Strangelove, Dziga Vertov, Das Boot, Dacoity, Dolores Fuller, The Evil Dead, Errol Morris, Spain in Flames, Eyes Wide Shut, Enter the Dragon, Evil Dead II, Ed Wood, Fox Film, Francis Ford Coppola, Cinema of Germany, Film editing, François Truffaut, Cinema of Poland, Film festival, Cinema of France, Cinema of Italy, Cinema of the Soviet Union, Feminist film theory, Film theory, Cinema of Japan, Cinema of China, Cinema of the United Kingdom, Film noir, Film stock, Four Weddings and a Funeral, Final Fantasy: The Spirits Within, Frank Capra, Film format, Show Me Love (film), Fritz Lang, Full Metal Jacket, Fantasy film, Federico Fellini, Ebirah, Horror of the Deep, Destroy All Monsters, King Kong vs. Godzilla, Godzilla vs. Megalon, Godzilla vs. Biollante, Godzilla vs. Mothra, Godzilla (1954 film), The Return of Godzilla, Film genre, The Golden Turkey Awards, Glen or Glenda, Howard Hawks, Harold and Maude, Horror film, Highlander (franchise), Ingmar Bergman, Ivo Caprino, John Woo, James Bond, John Grierson, James Cameron, Jim Jarmusch, Coen brothers, James Whale, Joris Ivens, Jet Li, John Frankenheimer, King Kong (1933 film), Kon Ichikawa, Kiyoshi Atsumi, Keykode, Khwaja Ahmad Abbas, Kirsten Dunst, Leni Riefenstahl, Lars von Trier, Monty Python's Life of Brian, La Jetée, Lev Kuleshov, Motion Picture Patents Company, Marxist film theory, Mean Streets, Martin Scorsese, Martial arts film, Masaki Kobayashi, Manufacturing Consent (film), Michael Mann, Monty Python and the Holy Grail, Hayao Miyazaki, Film promotion, My Neighbor Totoro, Mustafa Altıoklar, Mulholland Drive (film), Meet the Feebles, Nanook of the North, Natural Born Killers, National Film Preservation Board, O Brother, Where Art Thou?, Orson Welles, Paramount Pictures, Paths of Glory, Propaganda film, Patterson-Gimlin film, Psycho (1960 film), Princess Mononoke, Quentin Tarantino, Roman Polanski, Robert J. Flaherty, The Rocky Horror Picture Show, Ridley Scott, Raging Bull, Robert Rodriguez, Rex Ingram (director), Repo Man (film), Robert Siodmak, Stanley Kubrick, Substitution splice, Steven Spielberg, Silent film, Star Trek II: The Wrath of Khan, Structuralist film theory, Steven Soderbergh, Sam Peckinpah, Saving Private Ryan, Stargate (film), Sergei Eisenstein, Salò, or the 120 Days of Sodom, Sam Raimi, Steenbeck, Snuff film, Scared to Death, The Rock (film), The Big Lebowski, The Texas Chain Saw Massacre, The Breakfast Club, Taxi Driver, The Silence of the Lambs (film), The Matrix, Triumph of the Will, Terence Hill, Night of the Living Dead,\n",
      "\n",
      "Cluster 64 titles: Actinopterygii, Annual plant, Museum of Work, Abdominal surgery, Ancylopoda, Autpert Ambrose, Andronicus of Cyrrhus, Arabic numerals, Approximant consonant, Aorta, AVL tree, Additive synthesis, Ad hominem, Antipope Victor IV, Amazonite, Accounting, Abatement of debts and legacies, Ajmer-Merwara, Affection, Abettor, Anatomical Therapeutic Chemical Classification System, Arbeit macht frei, Ammonius Grammaticus, Adaptive expectations, Achiltibuie, RUR-5 ASROC, Bead weaving, Bluetooth Special Interest Group, Bumin Qaghan, Baldric, Backbone cabal, Body substance isolation, Burnt-in timecode, Baku (mythology), Bookkeeping, Bob Young (businessman), Biome, Blood alcohol content, Bachelor, Blackridge, Pennsylvania, Biotite, Burns supper, Riding shotgun, Critical philosophy, Coin collecting, Community, Climbing, Circumference, Campaign for Real Ale, Common Era, Conventional insulin therapy, Cupola, Corcovado, Chlorophyceae, Claus Sluter, Cornwall Wildlife Trust, Context-free grammar, Consubstantiation, Cy Young, Control theory, Churnsike Lodge, Cist, Carme (moon), Canchim, CuteFTP, Cross, Complementary DNA, Creature of statute, Cross section (physics), Cro-hook, Concept album, Carinatae, Crossfire, Caddie, Definition, Deed poll, Dilation and curettage, Declaration of independence, Determinant, Daniel Gabriel Fahrenheit, Division of labour, Doctor (title), Dsungaripterus, Degree Confluence Project, Dynamic HTML, Design science license, Don Tennant, Electronic paper, Demand-pull inflation, Expander graph, Telecommunications in Estonia, Establishing shot, Ectopia (medicine), Epistle of James, Earley parser, Eight-bar blues, E. B. White, Era, Electron counting, Electronic mixer, Eubulides, Extreme sport, Estimator, Erasmus Reinhold, Eusebius of Angers, Exon, Erlang (unit), Equal temperament, Eastmoreland, Portland, Oregon, Eduardo Blasco Ferrer, Fallacies of definition, Stage (stratigraphy), Four color theorem, Five-spice powder, Five Pillars of Islam, Floccinaucinihilipilification, First-order predicate, Fundamental frequency, Financial rand, Factoid, Gotland County, Genus-differentia definition, Generation X, Girth (graph theory), George Pappas, Global Boundary Stratotype Section and Point, Ginnungagap, Goodness (band), General surgery, Generalization, Glitnir, Flag of Greenland, Governor of Victoria, George Robert Aberigh-Mackay, Gauss-Legendre algorithm, Grothendieck topology, Growth factor, Geometric mean, Glottis, Generalized mean, Gabbro, Hold come what may, Health care reform, Transclusion, Source tracking, Household hardware, Hilbert's basis theorem, Hammer, Huffman coding, Hyaena, Halfbakery, Horse breed, Horse tack, Horner's method, Primary sector of the economy, Iao Valley, Incremental reading, Intensive insulin therapy, Interwiki links, If and only if, Ictinus, Intifada, Inverse limit, Lightbulb joke, Iterative method, ISO 216, İskender kebap, Indian numerals, Simon-Ehrlich wager, Jan Berglin, Jacques Mayol, John van Melle, Jean Richard, Kistvaen, Kadiogo Province, Knowledge Aided Retrieval in Activity Context, Kernite, Kyanite, Kotoamatsukami, Killer micro, Kill file, KL-ONE, Kyoto Common Lisp, Kremlin (fortification), Khunjerab Pass, Kowtow, Kocher-Debre-Semelaigne syndrome, No true Scotsman, Lead, Ligament, Long gun, Latin conjugation, Leg spin, LambdaMOO, Library classification, Lindow Man, Lunatic, Lanista, Legendre symbol, Lemma (mathematics), Lateral consonant, Life expectancy, Livebearers, Lodovico Ferrari, Le Mans, Subject (philosophy), Mount Logan, Media bias, The Spanish Inquisition (Monty Python), Transport in Montserrat, Medium shot, Mountain range, Microgyrus, Beijing cuisine, Mostaganem Province, Shoma Morita, Medical psychology, Meconium, Maggie Out, MeatballWiki, Manufacturing Consent, Malpractice, Maggieknockater, Manorialism, Naraoiidae, Nightclub two step, Neapolitan sauce, Northern blot, Naiad (moon), Navigation research, Nephrology, Neelin, Netlist, Oland (Frisian island), Off spin, Otterlo, Otorhinolaryngology, Old Fashioned, Postmaster General, Twist (poker), Dead money (poker), Particular, Printing press, Paleomap, Pregnancy (mammals), Paroxysmal attack, Portability (social security), Pediatrics, Primary mirror, Property, Pluot, Poincaré conjecture, Production Bike Racing, Patrick White, Phase (waves), Per Hasselberg, Parimutuel betting, Panga, Porcupinefish, Pongo de Manseriche, Provirus, Penectomy, Pushdown automaton, Pentium FDIV bug, Premier of Tasmania, Premier of Queensland, Personal property, Premier of Western Australia, Planetary nomenclature, PCHP, Phase modulation, Phosphodiesterase inhibitor, Pie menu, Promoter (genetics), Psychiatrist, Pinuccio Sciola, Quassia, Quinolone, Crossbow bolt, Red tide, Raised-bed gardening, Red, Rankine scale, Redirect examination, Radon difluoride, Radiometric dating, Roget's Thesaurus, Reuben James, RFPolicy, Red Hat, Rational root theorem, Calendar-based contraceptive methods, Stamp collecting, Sprung rhythm, Smoke signal, Svenska Dagbladet, Administrative division, Military of Samoa, Economy of San Marino, Software documentation, Statistical regularity, Independence (probability theory), Svenska Akademiens ordbok, Sandpit, Sign, Sidehill gouger, Satsuma Province, Show business, Secondary conversion, Shooting, Subtractive synthesis, Skírnir, Specialization (logic), Coat of arms of South Africa, Shotgun sequencing, Stop codon, Session Announcement Protocol, Synchronized Multimedia Integration Language, Small beer, Southern blot, Society for Creative Anachronism, Ship-Submarine Recycling Program, Sloughi, Social evolution, Screwdriver (cocktail), Sour mix, Simple module, Stop consonant, Strategy, Tyburn,\n",
      "\n",
      "Cluster 65 titles: Advanced Encryption Standard, Blowfish (cipher), Binary search tree, Block cipher, Break key, B-tree, Blackwood convention, Cipher, Cryptanalysis, Key size, Chorded keyboard, Diffie-Hellman key exchange, Data Encryption Standard, Differential cryptanalysis, Elliptic-curve cryptography, Encryption, Francis Scott Key, Hash table, International Data Encryption Algorithm, IBM PC keyboard, Keyboard technology, Kerberos (protocol), Key escrow, HMAC, Key signature, Locksmithing, Musical keyboard, GNU nano, One-time pad, Pretty Good Privacy, Public-key cryptography, QWERTY, RSA (cryptosystem), RC4, Ralph Merkle, Radix sort, Scroll lock, Secure Shell, System request,\n",
      "\n",
      "Cluster 66 titles: Adobe, Casa Batlló, Casa Milà, Alvar Aalto, Arcology, Alexanderplatz, Bridge, Brick, Bank of China Tower (Hong Kong), Battery Park City, Broadway (Manhattan), Building society, Khmer architecture, CN Tower, Chrysler Building, Campus, Central Plaza (Hong Kong), Christopher Alexander, Central Pacific Railroad, Door, Eiffel Tower, Eugène Viollet-le-Duc, Empire State Building, Evoluon, Firewall (construction), Göta Canal, Golden Gate Bridge, Gustave Eiffel, Great Pyramid of Giza, Hopewell Centre (Hong Kong), Industrial archaeology of Dartmoor, I. M. Pei, Kurfürstendamm, Ludwig Mies van der Rohe, Le Corbusier, Minoru Yamasaki, Mario Botta, Mackinac Bridge, M25 motorway, Medieval fortification, Masonry, Norman Foster, Baron Foster of Thames Bank, Oklahoma City bombing, Parthenon, Pyramid, Potsdamer Platz, Pembroke College, Cambridge, Ponte Vecchio, Road, Renzo Piano, Rijksmuseum, Scotland Yard, Willis Tower, Sydney Opera House, Sydney Harbour Bridge, Amsterdam Airport Schiphol, Skyscraper,\n",
      "\n",
      "Cluster 67 titles: Austrian German, Advanced Chemistry, Alemanni, Battle of Jutland, Bohemian, Christian Goldbach, Germanic languages, German language, Germanic peoples, German literature, General-purpose machine gun, German Navy, High German languages, Federation of Expellees, Jacob Grimm, MV Wilhelm Gustloff, Kashubians, West Low German, Luxembourgish, The Funniest Joke in the World, Mecklenburg, Masuria, Menilite, Martin Helwig, Northern Crusades, Old Prussian language, Pomerania, Polish Corridor, Pan-Germanism, Reich, Schleswig-Holstein, Swiss German, Saxons, Sigismund, Silesia, Suebi, Sambia Peninsula,\n",
      "\n",
      "Cluster 68 titles: Hymn to Proserpine, Ammonius Saccas, Ammianus Marcellinus, Augustine of Hippo, Acts of the Apostles, Apollos, Augustine of Canterbury, Ambrose of Alexandria, Anthony the Great, Bethlehem, Barnabas, Blood libel, Born again, Bruno of Querfurt, Christ (title), Christianity, The Consolation of Philosophy, Christian eschatology, Christmas, Christian of Oliva, Christendom, Antisemitism in Christianity, Creed, Constantine the Great, Clement of Alexandria, Christology, Cyril of Alexandria, Christianity and Judaism, Christian mythology, Christian countercult movement, Demon, Docetism, Doubravka of Bohemia, Dhimmi, Easter egg, Easter, Eschatology, Epistle to the Hebrews, Epistle to the Galatians, First Epistle to the Thessalonians, Epistle to Philemon, Eusebius, Ephrem the Syrian, Francis Xavier, First Epistle of Peter, Faith healing, Gnosticism, Gospel of Luke, Gary North (economist), Gregory the Illuminator, Gnosis, Géza, Grand Prince of the Hungarians, The Hound of Heaven, Halloween, Hosea, History of Christianity, Holy Spirit, Isaac Abendana, Irenaeus, Religion in pre-Islamic Arabia, Josephus on Jesus, Julian (emperor), Judeo-Christian, Justin Martyr, Jerry Falwell, Labarum, Lactantius, Luke the Evangelist, Monotheism, Messiah, Monasticism, Mere Christianity, Mary of Rome, Millennialism, Molokan, New Testament, Nazareth, Origen, Paganism, Pachomius the Great, Palestinian Christians, Paul the Apostle, Preterism, Pope Callixtus I, Prophet, Polycarp, Denial of the virgin birth of Jesus, Persecution of Christians, Religious conversion, Revelation, Resurrection of Jesus, Resurrection, Søren Kierkegaard, Solar deity, Satanism, Satan, Second Coming, Stockholm Bloodbath, Supersessionism, Salvation, Gavinus,\n",
      "\n",
      "Cluster 69 titles: Alphorn, Steel-string acoustic guitar, Banjo, Bass guitar, Bagpipes, Bassoon, Balalaika, Brass instrument, Contra dance, Cymbal, Classical guitar, Counterpoint, Capoeira, Clarinet, Cello, Cornet, Clavichord, Drum, Diatonic scale, Didgeridoo, Double bass, Drum kit, Electric guitar, Euphonium, Flute, Fiddle, Flugelhorn, Fugue, French horn, Flamenco, Figured bass, Guitar, Glissando, Harp, Hammered dulcimer, Harpsichord, Harmonica, Hi-hat, Harmonic series (music), Jazz guitar, Just intonation, Koto (instrument), Kora (instrument), Kantele, Mode (music), Musical tuning, Musical note, Oboe, Piano, Pan flute, Percussion instrument, Pitch of brass instruments, Round (music), Rhythm guitar, Saxophone, Sackbut, Snare drum, Steel guitar, Slide guitar, Speed metal, Trombone,\n",
      "\n",
      "Cluster 70 titles: Northern cavefish, Anadyr River, Aare, Alabama River, Amazon River, Annapolis Valley, Amu Darya, Agra Canal, Arno, Geography of Bosnia and Herzegovina, Branco River, Barge, Bodmin Moor, Columbia River, Casiquiare canal, Yangtze, Daugava, Detroit River, East River, Euphrates, Geography of Ghana, Göta älv, Ganges, Geography of Afghanistan, Hvergelmir, Hernando de Alarcón, Hamoaze, Indus River, Juruá River, Javary River, Klondike, Yukon, Lewis and Clark Expedition, Lethe, Lake Ladoga, Lake Abitibi, Missouria, Mississippi River, Missouri River, Main (river), Murray River, Madeira River, Marañón River, Morona River, Margaret River, Western Australia, Meuse, Nez Perce people, Neva River, Nile, Niger River, Nanay River, Napo River, Ohio River, Purus River, Pastaza River, Transport in the Republic of the Congo, Rhine, Rapids, River Clyde, Sabine River (Texas-Louisiana), Senegal River, Snake River, Smelt (fish), Styx,\n",
      "\n",
      "Cluster 71 titles: Apple Inc., Amway, Adobe Inc., August Horch, Aston Martin, Aon (company), Advanced Micro Devices, Advertising, Arianespace, Borland, Beechcraft, Ballpoint pen, Bombardier Inc., British Steel (1967-1999), Bunge & Born, Business ethics, BeBox, Board of directors, Budweiser, Bundaberg Rum, Bacardi, Birmingham Small Arms Company, Cross ownership, Corporate title, Cessna, Conectiva, Coca-Cola, Chrysler, Customer-relationship management, Corporatocracy, Canadian whisky, Coleco, Corporation, Compaq, Datsun, Dynamite, Dutch West India Company, Dot-com bubble, Ericsson, Encyclopædia Britannica, E-commerce, Societas Europaea, Emma Abbott, Enron, Exxon, Foster's Lager, General Motors, GTE, General Electric, Hudson's Bay Company, Henry Ford, Honda, Henry J. Heinz, Heinz, Herman Hollerith, Heckler & Koch, Hummer, Intel, Irn-Bru, IKEA, Insurance, Imperial Chemical Industries, Julmust, Johann Homann, Jell-O, Kangol, Kahlúa, Koenigsegg, Keiretsu, Labatt Brewing Company, Lars Magnus Ericsson, Lucent, Lamborghini, AvtoVAZ, Lycos, Listerine, Microsoft, Mazda, Maule Air, Motorola, Mattel, TiVo Corporation, MIPS Technologies, Mobil, Mergers and acquisitions, Moxie, Nokia, Nortel, Nissan, Nordea, Newport News Shipbuilding, Oracle Corporation, Philips, Porsche, Pepsi, Pinconning cheese, Public limited company, Qantas, RCA, Ringwood Brewery, Railtrack, REO Motor Car Company, Ron Popeil, Rockwell International, Spindletop, State Street Corporation, Saab AB, Sun Microsystems, Sony, Stock exchange, Sandler O'Neill and Partners, Segway, Steve Ballmer, Thomas Edison, Telia Company, The Qt Company,\n",
      "\n",
      "Cluster 72 titles: Academy Awards, Academy Award for Best Production Design, Akio Morita, Andrzej Sapkowski, Arthur Laurents, Major League Baseball Most Valuable Player Award, Major League Baseball Rookie of the Year Award, Bill Watterson, Booker Prize, Bronze Star Medal, Cy Young Award, Clarence Brown, Damages, David Angell, Darwin Awards, Dan Simmons, Dean Kamen, Fields Medal, Franklin J. Schaffner, Grandmaster (chess), George R. R. Martin, Garry Trudeau, Greg Egan, Geoff Ryman, Hopwood Award, Ig Nobel Prize, James Tiptree Jr. Award, James Norris Memorial Trophy, Frank Kelly Freas, Klaus Maria Brandauer, Karen Kain, Louise Erdrich, Laura Bertram, Legion of Merit, Lois McMaster Bujold, Maciej Płażyński, Mandy Patinkin, Madeline Amy Sweeney, Nobel Prize, National Cartoonists Society, Presidential Medal of Freedom, Phil Zimmermann, Philip K. Dick Award, Peter Handke, Prometheus Award, Pulitzer Prize, Paul J. McAuley, Purple Heart, Richard R. Ernst, Rendezvous with Rama, Swedish Academy, Sorious Samura, Stanley Elkin, Silver Star,\n",
      "\n",
      "Cluster 73 titles: Anno Domini, Astronomical year numbering, Calendar, Calendar year, Chinese calendar, Calendar date, French Republican calendar, Full moon, Hebrew calendar, Hogmanay, Islamic calendar, Intercalation (timekeeping), Julian calendar, Leap year, Lunar calendar, Lunisolar calendar, Month, Metonic cycle, Lunar phase, Fujiwara no Michinaga, New Year, New moon, International Fixed Calendar, Pope Victor I, Roman calendar, Ramadan, Revised Julian calendar,\n",
      "\n",
      "Cluster 74 titles: Affidavit, Adversarial system, Corroborating evidence, Cross-examination, Controversy, Consilience, Direct examination, West Memphis Three, Evidence-based medicine, Expert witness, Hostile witness, Interrogatories, Jury instructions, Leading question, Loaded question, Argument from ignorance, Miranda warning, M'Naghten rules, Negligence, Prima facie, Reversible error, Rebuttal, Res ipsa loquitur, Strike from the record, Theory of justification,\n",
      "\n",
      "Cluster 75 titles: Alp Arslan, Antoninus Pius, Augustus, Aeneas, Ahenobarbus, Agrippina the Younger, Agrippina the Elder, Alaric I, Severus Alexander, Amalasuntha, Ambrosius Aurelianus, Abu Bakr, Adalbert of Prague, Arcadius, Aedile, Ab urbe condita, Aldona of Lithuania, Bayezid I, Battle of Actium, Cursus honorum, Cicero, Claudius, Roman censor, Charles Martel, Constans, Constantius II, Caligula, Diocletian, Domitian, Domitius Afer, Honorius (emperor), Francis II, Holy Roman Emperor, Germanicus, Galba, Gracchi, Gallienus, Galla Placidia, Hadrian, Heraclius, Elagabalus, Julius Caesar, Marcus Vipsanius Agrippa, Mark Antony, Marcus Aurelius, Mieszko I of Poland, Macrinus, Nero, Otho, Orhan, Oda Nobunaga, Pompey, Pope Formosus, Quaestor, Anastasius I Dicorus, Julio-Claudian family tree, Septimius Severus, Severan dynasty,\n",
      "\n",
      "Cluster 76 titles: Astronomer, Antimatter, Absolute zero, Aberration of light, Anthropic principle, Big Bang, Bose-Einstein condensate, Physical cosmology, Inflation (cosmology), Comet, Comet Shoemaker-Levy 9, Christian Doppler, Comet Hale-Bopp, Copernican principle, Cosmic microwave background, Corona, Dark matter, Doppler effect, Drake equation, Ecliptic, Eclipse, Gravitational redshift, Fermi paradox, Galaxy formation and evolution, General relativity, Galilean moons, Hipparchus, History of astronomy, Interstellar cloud, Ionosphere, Leonids, Mercury (planet), Meteorology, Nereid (moon), Nicolas-Louis de Lacaille, Navigation, Ole Rømer, Observation, Ring system, Positron, Quasar, Redshift, Sun, Superfluid helium-4, Sunspot, Schrödinger's cat, Spacetime, SN 1987A, Tycho Brahe,\n",
      "\n",
      "Cluster 77 titles: Complex number, Computational complexity, Cytochrome, Coordination complex, Complexity, Dissociation constant, Euler's formula, Irreducible complexity, Ligand, Metallocene, Nuclear pore, Organometallic chemistry, Oxidative phosphorylation, Protein targeting, Protein quaternary structure,\n",
      "\n",
      "Cluster 78 titles: Ayn Rand, Aldous Huxley, Arthur Schopenhauer, Alfred Nobel, Alexander Graham Bell, Alfons Maria Jakob, Alvin Toffler, Albert Camus, Allen Ginsberg, Albert Schweitzer, André Gide, Aleister Crowley, Amos Bronson Alcott, Amazing Grace, Alcuin, Alain de Lille, Aimoin, Aleksandr Solzhenitsyn, Alexander Anderson (mathematician), Andronicus of Rhodes, Apuleius, Anne Brontë, Adam Weishaupt, All Quiet on the Western Front, Autobiography, Alois Alzheimer, Albrecht Dürer, Abraham Joshua Heschel, Alexander of Hales, Anaïs Nin, `Abdu'l-Bahá, A. E. Housman, Benjamin Franklin, Bede, Blaise Pascal, Bertrand Russell, Brion Gysin, Bill Holbrook, Boris Pasternak, Carl Linnaeus, Charles Baudelaire, C. S. Lewis, Charles Dickens, Charles Williams (British writer), Charlotte Brontë, Czesław Miłosz, Charles McCarry, Candide, Christiaan Barnard, Cotton Mather, Carlo Collodi, Camilla Hall, Dante Alighieri, Daniel Defoe, Denis Diderot, Dorothy Parker, Dylan Thomas, David Huffman, Derek Walcott, Dave Thomas (businessman), Edward Bellamy, Erasmus Darwin, Ernest Hemingway, Elias Canetti, Edmund Spenser, Eric Hoffer, Edgar Allan Poe, E. E. Cummings, Elizabeth Barrett Browning, Einhard, Eusebius Amort, Emma Goldman, Emily Brontë, Edmund Burke, Ezra Abbot, E. T. A. Hoffmann, Edward Bulwer-Lytton, Edward Lear, Elie Wiesel, Friedrich Nietzsche, FM-2030, Francisco Goya, Franz Kafka, Fernando Pessoa, Firmin Abauzit, Food writing, Fyodor Dostoevsky, George Orwell, Johann Gottlieb Fichte, Georg Henrik von Wright, Gustave Flaubert, G. K. Chesterton, Giulio Alenio, Gerard Manley Hopkins, Gary Snyder, Gia Carangi, Garrison Keillor, Geoffrey Chaucer, Gerald Gardner (Wiccan), George Abbot (author), Gilbert Arthur à Beckett, Giovanni Boccaccio, Gone with the Wind (novel), Giosuè Carducci, George Eliot, Charles Goren, Gerolamo Cardano, George Fox, Henry Mayhew, Henryk Sienkiewicz, Horace Walpole, H. G. Wells, Henry Bordeaux, Hermann Hesse, Heinrich Schliemann, Herman Melville, Halldór Laxness, Hendrick Avercamp, Heinrich Abeken, Helen Keller, Hugh Hefner, Hergé, Hunter S. Thompson, Isaac Ambrose, Italo Calvino, Isaac Bonewits, Isabella d'Este, James Joyce, John Tenniel, Jonathan Swift, Jerzy Kosiński, Jules Verne, Jorge Luis Borges, Jane Austen, John Steinbeck, John Updike, Jean Cocteau, Joseph Conrad, James Branch Cabell, Jack Kerouac, J. R. R. Tolkien, Jean-Jacques Rousseau, Johannes Agricola, Johann Georg Albrechtsberger, Johann Heinrich Alsted, John Irving, Jan Karon, John Milton, Josiah Wedgwood, Jacques Callot, John Masefield, John James Audubon, Joseph Campbell, Jean-Paul Sartre, Jerome K. Jerome, Rumi, John Keats, Kurt Vonnegut, Kathy Acker, Karel Hynek Mácha, K. W. Jeter, Knud Rasmussen, Kingsley Amis, Ken Kesey, Kubla Khan, Knut Hamsun, Ludwig Wittgenstein, L. Ron Hubbard, Ludovico Ariosto, Louis Leakey, Laurence Sterne, Lafcadio Hearn, Luigi Alamanni, Leon Battista Alberti, Leonardo da Vinci, Leo Marks, Louis Ginzberg, Ludwig Ritter von Köchel, Léon Theremin, Miyamoto Musashi, Miguel de Cervantes, Maimonides, Mervyn Peake, Michael Ventris, Monica Lewinsky, Marina Tsvetaeva, Meher Baba, Margaret Mitchell, Niels Henrik Abel, Nostradamus, Nathaniel Hawthorne, Non-fiction, Ninon de l'Enclos, Naguib Mahfouz, Ozymandias, Oswald Spengler, Oscar Wilde, Punch (magazine), Peter Altenberg, Paul Valéry, Philipp Franz von Siebold, Piers Anthony, Petrarch, Prospero Alpini, Peter F. Hamilton, Pope Clement IX, Pride and Prejudice, Peter Carey (novelist), Philip Henry Gosse, Paul Johann Anselm Ritter von Feuerbach, Paul Laurence Dunbar, Peter Mark Roget, Robert Chambers (publisher, born 1802), Robert Musil, Robertson Davies, Regiomontanus, Robert Frost, René Laennec, Richard Lovelace, Ralph Waldo Emerson, Robert Abbot (theologian), Rudyard Kipling, Robert Jordan, Rainer Maria Rilke, Roger Angell, Robert Louis Stevenson, Richard of Saint Victor, Rashi, Stendhal, Samuel Butler (poet), Slave narrative, Scott Adams, Sense and Sensibility, Sabine Baring-Gould, Samuel Pepys, Walter Scott, Sylvia Plath, Salman Rushdie, Saul Bellow, William Jones (philologist), Sigrid Undset, Shoghi Effendi, Samuel Taylor Coleridge, Sheldon Rampton, Sulpicius Severus, T. S. Eliot,\n",
      "\n",
      "Cluster 79 titles: Angle, Astronomical unit, Analytical chemistry, Minute and second of arc, Anders Celsius, Anemometer, Borel measure, Challenger Deep, Decibel, Frequency, F wave, Geiger counter, Hogshead, Infrared spectroscopy, Lebesgue measure, Metre, Measurement, Measure (mathematics), Pressure measurement, Modified Mercalli intensity scale, Instructions per second, Null set, Observational error, Parallax, Per capita income, PH, Pitot tube, Quantum entanglement, Radian, Radiocarbon dating, Summary statistics, Superparamagnetism, Spherical coordinate system,\n",
      "\n",
      "Cluster 80 titles: Forward pass, Johnny Unitas, Joe Pass, Lateral pass, Super Bowl XX, Super Bowl III, Super Bowl V, Super Bowl II, Super Bowl I, Super Bowl IV, Super Bowl VI, Super Bowl VII, Super Bowl IX, Super Bowl VIII, Super Bowl XII, Super Bowl XI, Super Bowl X, Super Bowl XVI, Super Bowl XV, Super Bowl XIV, Super Bowl XIII, Super Bowl XVII, Super Bowl XXI, Super Bowl XIX, Super Bowl XXII, Super Bowl XVIII, Super Bowl XXIV, Super Bowl XXV, Super Bowl XXIII, Super Bowl XXVI, Super Bowl XXVII, Super Bowl XXXII, Super Bowl XXIX, Super Bowl XXXI, Super Bowl XXVIII, Super Bowl XXXIII, Super Bowl XXXIV, Super Bowl XXX, Super Bowl XXXV, Super Bowl XXXVI,\n",
      "\n"
     ]
    },
    {
     "name": "stdout",
     "output_type": "stream",
     "text": [
      "Cluster 81 titles: Abstract (law), Assault, Age of consent, Andreas Aagesen, Administrative law, Affiliation (family law), Affray, Black letter law, Blue law, Barratry (common law), Beer-Lambert law, Copyright, Common law, Clarke's three laws, Crime, Constitutional law, Conservation law, Comparative law, Code of Hammurabi, David D. Friedman, Draco (lawgiver), Book of Deuteronomy, Delaware General Corporation Law, De jure, Environmental law, Finagle's law, Family law, Fiqh, Felony, Fick's laws of diffusion, Gustav Kirchhoff, Giovanni d'Andrea, Godwin's law, Gustav Radbruch, Overview of gun laws by nation, Hate crime, Halakha, Henry Home, Lord Kames, Hate speech, Hammurabi, Intellectual property, Isaac Klein, Involuntary commitment, Inheritance, Jurisprudence, Jewish views on marriage, Kitáb-i-Aqdas, Kashrut, Lawyer, Kepler's laws of planetary motion, Law of noncontradiction, Law of excluded middle, Legal technicality, Laws of infernal dynamics, Law of multiple proportions, Law of averages, Law enforcement, Labour law, Law of dilution, Mishnah, Murder, Drug policy of the Netherlands, Notary public, Seven Laws of Noah, Natural law, Patent, Conflict of laws, Perjury, Principle of bivalence, Possession (law), Peine forte et dure, Procedural law, Pacta sunt servanda, Property law, Philosophy of law, Prohibition, Rabbinical Assembly, Roman law, Statute, Statutory law, Socialist law, Simony, Defamation, Sovereignty, Sharia, Statute of frauds, Statute of Westminster 1931, Spouse, Tort, Thermodynamics,\n",
      "\n",
      "Cluster 82 titles: Ainu people, Ambergris, Abadan, Iran, Abel Tasman, Atlantis, Arthur Phillip, Southeast Alaska, Analcime, British Columbia, Bermuda, Economy of the British Virgin Islands, British Isles, Bali, Battle of Peleliu, Birka, Christopher Columbus, Continental Europe, Charles Robert Malden, Caribbean cuisine, William Kidd, Colonialism, The Maritimes, Eastern Caribbean dollar, Fiji, Falklands War, Gulf of Finland, History of Grenada, Transportation in Guam, Greenland, Great auk, George Vancouver, Prince Henry the Navigator, Herman of Alaska, Irish diaspora, History of the Isle of Man, Transport in the Isle of Man, Economy of the Isle of Man, James Cook, Jamaica, Economy of Jersey, Kyushu, Lake Ontario, Madagascar, History of the Maldives, Foreign relations of the Marshall Islands, Malta, Micronation, Manama, New Brunswick, Nova Scotia, Northwest Passage, Niue, New Caledonia, History of Niue, Newfoundland and Labrador, Papua New Guinea, History of Papua New Guinea, Demographics of Puerto Rico, Plymouth Sound, Roald Amundsen, San Francisco Bay, Transport on Saint Helena, History of Samoa, Samoa, Svalbard, Tasmania, History of Trinidad and Tobago, Tonga, History of Tonga,\n",
      "\n",
      "Cluster 83 titles: Aruba, Antigua and Barbuda, Achill Island, Anguilla, Alexander Selkirk, Aeacus, Aegina, Aleut, Azores, The Bahamas, Barbados, Bornholm, Borneo, Comoros, Politics of the Cayman Islands, Demographics of the Cayman Islands, History of the Cayman Islands, Foreign relations of the Cayman Islands, Demographics of the Cocos (Keeling) Islands, Clipperton Island, Cape Breton Island, History of the Comoros, Crete, Economy of the Cook Islands, Politics of the Cook Islands, Caldera, History of Dominica, Diego Garcia, Politics of the Falkland Islands, History of the Falkland Islands, History of the Faroe Islands, Military of the Falkland Islands, Politics of the Faroe Islands, Transport in the Faroe Islands, Politics of French Polynesia, Federated States of Micronesia, History of the Federated States of Micronesia, Guam, History of Guam, History of Guernsey, Guernsey, Guadeloupe, Genosha, Hawaii, Hispaniola, History of Oceania, Hebrides, Isle of Man, Iona, Isle Royale National Park, History of Jersey, Jersey, Chios, Kiritimati, Lake Tana, Little penguin, Lombok, Lindisfarne, Maldives, Martinique, History of Mauritius, Mauritius, Montserrat, Madeira, History of Nauru, Nauru, Politics of the Northern Mariana Islands, Northern Mariana Islands, Nevis, Okinawa Prefecture, Oceania, Orkney, History of Palau, Palau, Saint Helena, History of Saint Helena, History of Saint Kitts and Nevis, History of Saint Lucia, Economy of Saint Pierre and Miquelon, History of Saint Vincent and the Grenadines, Saint Kitts and Nevis, Saint Pierre and Miquelon, Saint Vincent and the Grenadines, Saint Lucia, Transport in Samoa, Seychelles, Politics of Solomon Islands, History of Solomon Islands, Sicily, Saint Kitts, Santorini, Shetland, Sardinia, Tokelau, Tuvalu,\n",
      "\n",
      "Cluster 84 titles: MessagePad, Amiga, Apple III, Aster CT-80, Atari ST, Amstrad CPC, Apple II, Adware, Amiga 500, Bulletin board system, Burroughs Corporation, Colossus computer, Commodore 1541, Computer mouse, Commodore 64, Commodore International, Processor design, Calculator, Computer monitor, Commodore 1570, Digital Equipment Corporation, Digital synthesizer, Disk operating system, Dragon 32/64, Freescale DragonBall, Device driver, Expert system, EDSAC, Amiga Enhanced Chip Set, Fly-by-wire, Graphical user interface, Guru Meditation, Hypertext, History of the graphical user interface, Hitachi 6309, IBM mainframe, Industry Standard Architecture, IBM Personal Computer, Jacquard loom, Lisp machine, Legacy system, Multics, Systems Concepts, Motherboard, MIDI, Mainframe computer, MOS Technology 65xx, Motorola 6800, MOS Technology 6502, Pointing device gesture, NeXT, Personal digital assistant, DECSYSTEM-20, PowerPC, QED (text editor), Refreshable braille display, Silicon Graphics, Sound card, Symbolics, Sinclair QL, Seymour Cray,\n",
      "\n",
      "Cluster 85 titles: Aikido, Art, Andy Warhol, Artistic revolution, Artist, Alessandro Algardi, Alessandro Allori, ASCII art, Art Deco, Aristide Maillol, Antonio Canova, Auguste Rodin, Aesthetics, Angels in art, Alfonso Leng, Alberto Giacometti, Ambrosius Bosschaert, Agostino Carracci, Aelbert Cuyp, Dual wield, Baroque, Berthe Morisot, Caspar David Friedrich, Christoph Ludwig Agricola, Claude Monet, Constantin Brâncuși, Cecilia Beaux, Charles Alston, Cimabue, Jean-Baptiste-Siméon Chardin, Caravaggio, Camille Pissarro, Dada, Drawing, Dale Chihuly, Erotica, Édouard Manet, Edwin Austin Abbey, Edvard Munch, Élisabeth Vigée Le Brun, Edward Mitchell Bannister, Embroidery, Emin Boztepe, Francesco Algarotti, Fra Bartolomeo, Frédéric Bazille, Fra Angelico, Ford Madox Brown, Filippo Tommaso Marinetti, Graffiti, Georges Braque, Gustav Klimt, Grappling, Gian Lorenzo Bernini, Henri Chopin, Helene Kröller-Müller, History of painting, Hans Baldung, Irrealism (the arts), Impressionism, Judo, Joshua Reynolds, Jean-Michel Basquiat, Juan Gris, Joseph Yoakum, Jack Butler Yeats, Jacob Lawrence, Jean-François Millet, Jackson Pollock, Jan van Goyen, Jacques Maroger, Karate, Utamaro, Kung fu (term), Kendo, Kenneth Noland, Kurt Schwitters, Louvre, Lamorna Birch, Lyonel Feininger, Liberal arts college, Liberal arts education, Mural, Martial arts, Modernism, Mariotto Albertinelli, Mannerism, Marino Marini (sculptor), Morihei Ueshiba, M. C. Escher, Mary Cassatt, Minimalism, Michelangelo, Newlyn School, Neijia, Nicolai Abildgaard, Otto Dix, Performing arts, Paolo Uccello, Pablo Picasso, Paul Cézanne, Pastel, Pierre-Auguste Renoir, Porter Blanchard, René Magritte, Romare Bearden, Josh Kirby, Sculpture, Sergei Diaghilev, Sofonisba Anguissola, Lawrence Alma-Tadema, Surrealism, Shaolin Monastery,\n",
      "\n",
      "Cluster 86 titles: Atlantic Ocean, Aegean Sea, The Triumph of Time, Andrea Andreani, Ægir, Amber Road, Ababda people, Arabian Sea, Admiralty, Brackish water, Baltic Sea, Black Sea, Geography of Brunei, Bosporus, Coast, Charybdis, Convention on Fishing and Conservation of the Living Resources of the High Seas, Caribbean Sea, Dardanelles, Dead Sea, English Channel, Geography of Eritrea, Essenes, Fast combat support ship, Geography of Georgia (country), Great Rift Valley, Gulf of Oman, Hezârfen Ahmed Çelebi, Indian Ocean, INS Vikrant (R11), Geography of Jordan, Jabal Ram, Geography of Kazakhstan, Kattegat, Kara Sea, Kiel Canal, Lake Nicaragua, Motala ström, Mediterranean Sea, Marine biology, Montreux Convention Regarding the Regime of the Straits, North Sea, Norwegian Sea, Transport in Niue, Nereus, Nereid, Nieuwe Waterweg, American submarine NR-1, Poseidon, Piri Reis, Proteus, Persian Gulf, Porto Ottiolu, Rán, Red Sea, Sea of Marmara, Soviet submarine K-8, Russian aircraft carrier Admiral Kuznetsov, Suez Canal,\n",
      "\n",
      "Cluster 87 titles: Aspect ratio, Alpha compositing, Adrastea (moon), Optical aberration, Cathode-ray tube, Computer vision, Charge-coupled device, Rod (optics), ClearType, Digital video, Digital compositing, Electron microscope, Fractal, File viewer, GIF, Iconology, Icon, Image and Scanner Interface Specification, Iconoclasm, JPEG, Kirlian photography, Key frame, Letterboxing (filming), Liquid-crystal display, Lens (optics), Lithography, Magnetic resonance imaging, Microscopy, Mariner 4, Multiple-image Network Graphics, Persistence of vision, Pan and scan, Photography, Pixel, Positron emission tomography, Portable Network Graphics, PCX, Adobe Photoshop, Photograph, Raster graphics, Render farm, RGB color model, Standard-definition television, Scalable Vector Graphics, Scanning electron microscope, Steganography, Superheterodyne receiver, Single-lens reflex camera,\n",
      "\n",
      "Cluster 88 titles: Algae, Anatomy, Allele, Actinophryid, Abiotic stress, Alkaloid, Acantharea, Asexual reproduction, Astrobiology, Mexican tetra, Burgess Shale, Bactericide, Bacillus thuringiensis, Botany, Cell (biology), Bacillus, Biosphere, Common descent, Cell biology, Centriole, Developmental biology, Desmothoracid, Evolution, Endocrinology, Endocrine system, Extraterrestrial life, Extremophile, Ecosystem, Endosymbiont, Ecology, Entamoeba, Fossil, Genetics, Genetically modified organism, Genotype, Gametophyte, Hammond organ, Heredity, Histology, Humus, Hierarchical organization, Halophile, In vitro, Compounds of carbon, Life, Meiosis, Microevolution, Mendelian inheritance, Mutation, Magical organization, Morphogenesis, Mitosis, Microorganism, Metabolism, Macroevolution, Mineraloid, Metamorphosis, Mycology, Natural selection, Natural resource, Nature, Organic electronics, Organic compound, Organic chemistry, Organelle, Ontogeny, Organized crime, Paleontology, Physiology, Toxin, Phrenology, Phenotype, Quasispecies model, Reproduction, Slime mold, Sexual selection, Sex, Skeleton, Systematics, Sex organ,\n",
      "\n",
      "Cluster 89 titles: Alexander of Aphrodisias, Amarasimha, Ambrose Traversari, Ammonius Hermiae, Anaximenes of Lampsacus, Ambroise, Aeon, Asterix, Aelianus Tacticus, Abd al-Latif al-Baghdadi, Adin Steinsaltz, Beowulf, Bernardino Ochino, Book of Jonah, Braille embosser, Colette, Claudius Aelianus, Don Quixote, Tao Te Ching, Dukkha, David Abercromby, Diatessaron, Erasmus Alberus, Erasmus, Édouard de Pomiane, Evliya Çelebi, Esperanto culture, Enchiridion of Epictetus, Francisco Álvares, Frans Eemil Sillanpää, Gotthold Ephraim Lessing, Genetic code, Georgius Agricola, Grazia Deledda, Haiku, GNU Hurd, Heimskringla, Jakob Abbadie, Jean Joseph Marie Amiot, Jacob Anatoli, Jerome, Barlaam and Josaphat, Johann Philipp Abelin, Jacob Abendana, Jan Długosz, Jacob Neusner, King James Version, Karel van het Reve, Li Bai, Luca Pacioli, Lord's Prayer, Manga, Mein Kampf, Marsilio Ficino, Machine translation, Messenger RNA, Man'yōshū, Marcel Proust, Nicanor Parra, New International Version, Niccolò Fontana Tartaglia, Old English literature, Ossian, Plutarch, Protein biosynthesis, Q.E.D., Quo vadis?, Rubaiyat of Omar Khayyam, Rodolphus Agricola, Robert Lowth, Svenska Akademiens ordlista, Spanish proverbs, Senryū, Septuagint, Simon Ockley, Stéphane Mallarmé, SYSTRAN, Sacha Pecaric, Thomas Hobbes,\n",
      "\n",
      "Cluster 90 titles: Anarchism, A Modest Proposal, Antisemitism, Aga Khan III, Alcoholics Anonymous, Bahá'í Faith, Brit milah, Chinese philosophy, Confucius, Confucianism, Clodius, Conservative Judaism, Citizenship, Chakra, Conspiracy, Caste, Christadelphians, Declaration of the Rights of Man and of the Citizen, Druze, Distributism, Discrimination, Deprogramming, Dominican Order, Euthanasia, Evolutionism, Egalitarianism, Emperor of Japan, Ancient Egyptian religion, Political freedom, Francis Fukuyama, Freemasonry, Fatwa, Feudalism, Fundamentalism, Gradualism, Glasnost, Gardnerian Wicca, LGBT social movements, Hinduism, Hindus, History of religion, Hinayana, Harmony Society, Hasidic Judaism, Indian religions, Individualist anarchism, Islamism, Individualism, Imam, LGBT in Islam, John Stuart Mill, Judaism, Journalism, Jainism, John Locke, Homosexuality and Judaism, Jürgen Habermas, Karl Marx, Kabbalah, Anarcho-communism, Libertarian socialism, Left-wing politics, Literacy, Max Weber, Marriage, Muhammad ibn Abd al-Wahhab, Meditation, Murray Rothbard, Brainwashing, Meritocracy, Magazine, Mohism, Niccolò Machiavelli, Modern Paganism, New Age, Noble Eightfold Path, Naturism, Nichiren, Nichiren Buddhism, Outing, Occult, Orthodox Judaism, Ostracism, Politics, Political philosophy, Political correctness, Philosopher, Political spectrum, Profession, Polyandry, Plutocracy, Five precepts, Political fiction, Religion, Feminazi, Racism, Republicanism, Revolution, Reconstructionist Judaism, Reform Judaism, Rudolf Steiner, Religious pluralism, Rooster, Satire, Sect, Shia Islam, Secularism, Social security, Sikhism, Sufism, Shinto, Sociology of religion, Spirituality, Skyclad (Neopaganism), Sangha, Sunnah, Social geography, Sunni Islam, Tradition, Justification for the state,\n",
      "\n",
      "Cluster 91 titles: Alkane, Acid, Alcohol, Amino acid, Aromatic hydrocarbon, Amine, Amide, Aliphatic compound, Apicomplexa, Agarose, Allene, Alkene, Alkyne, Convex uniform honeycomb, Alpha helix, Biochemistry, Biopolymer, Base pair, Beta-lactam, Biological membrane, Beta sheet, Cytoplasm, Chemistry, Carbohydrate, Corundum, Cytosine, Crystal, Collagen, Condensation polymer, Cell wall, Capsid, Chromosome, Chloroplast, Chromatin, Carbide, Crystallography, Crystallographic defect, DNA, Denaturation (biochemistry), Differential topology, Ether, Ester, Fullerene, Fruit, August Kekulé, Ganglion, Guanosine, Guanine, Gymnosphaerid, Gram stain, Gram-positive bacteria, Gram-negative bacteria, Hydrocarbon, Hydroxide, Heterocyclic compound, Hemicellulose, Inorganic chemistry, Ketone, Kainite, Lipid, Lonsdaleite, Ligase, Labia majora, Mineral, Molecule, Monomer, Molecular orbital, Metallic bonding, Mineralogy, Monosaccharide, Nucleic acid, Nucleotide, Nucleosome, Nitronium ion, Polymer, Protein, Pyrimidine, Phenols, Plant cell, Polysaccharide, Phospholipid, Protein primary structure, Piperidine, Peptidoglycan, Phenothiazine, Proteinoid, Quasicrystal, RNA, Ribosome, RNA world, Structural geology, Structuralism, Sandstone, Stereoisomerism, Simplified molecular-input line-entry system, Selenocysteine, Protein secondary structure, Structural biology,\n",
      "\n",
      "Cluster 92 titles: Android (robot), Alfred Korzybski, Ardipithecus, Artificial intelligence, A Fire Upon the Deep, Anthroposophy, Apollinarism, Blade Runner 2: The Edge of Human, Bipedalism, Zebrafish, Human cannibalism, Carcinogen, Cloning, Centromere, Craig Venter, Chimpanzee, Disaster, Ernst Haeckel, Evolutionary psychology, Eugenics, Embryo drawing, E. O. Wilson, Human evolution, Gamete, Genome, God Emperor of Dune, Gene therapy, Jinn, Human geography, Hugo de Garis, Human rights, Heretics of Dune, Human cloning, Holocene extinction, Hair, Homininae, Konrad Lorenz, Known Space, Mentat, Noosphere, Neoteny, Orrorin, Office of the United Nations High Commissioner for Human Rights, Paleolithic, Psychological egoism, Paranthropus, Biological anthropology, Human pathogen, Peter Wessel Zapffe, Posthumanism, Race (human categorization), Robot, Raëlism, Stem cell, Sociobiology, Speaker for the Dead, Secular humanism, Technology, Terraforming, Transhumanism,\n",
      "\n",
      "Cluster 93 titles: Amalaric, Ahab, Albert I, Alaric II, Akkadian Empire, Alexander I of Epirus, Alexander Balas, Alboin, Alexander Jagiellon, Alexander III of Scotland, Alexander I of Serbia, Alfred the Great, Afonso II of Portugal, Afonso III of Portugal, Afonso VI of Portugal, Afonso IV of Portugal, Alfonso II of Asturias, Afonso V of Portugal, Afonso I of Portugal, Alfonso I, Alfonso XIII of Spain, Ammon, Aimery of Cyprus, Abijah, Abimelech, Ælle of Sussex, Arnulf of Carinthia, George Abbot (bishop), Áed mac Cináeda, Antigonid dynasty, Brísingamen, Bragi, Bretwalda, Book of Daniel, Books of Kings, Behistun Inscription, Balfour Declaration of 1926, Banquo, Ceawlin of Wessex, Causantín mac Cináeda, Constantine II of Scotland, Casimir III the Great, Flag of Denmark, Dahomey, Dictum of Kenilworth, Domnall mac Ailpín, Dunstan, Divine right of kings, Excalibur, Esther, Eadgyth, Kingdom of Essex, Æthelberht of Kent, Edmund I, Emperor Yūryaku, Frederick Augustus II of Saxony, God Save the Queen, Gylfaginning, Grímnismál, Howard Carter, Hohenstaufen, House of Habsburg, Henry the Fowler, Hezekiah, Heracleidae, Hasdingi, Isaiah, Jason, Jehoshaphat, Jehu, Jeroboam, Jeroboam II, King Crimson, Kalmar Union, King Arthur, Kenneth MacAlpin, Kingdom of Judah, Kingdom of Israel (Samaria), Lombards, Lucius Tarquinius Priscus, Lucius Tarquinius Superbus, Lydia, Lettre de cachet, Lulach, Lucretia, Monarch, Martin Luther King Jr., Merovingian dynasty, Matilda of Ringelheim, Macbeth, King of Scotland, Minos, Midas, Merlin, Malcolm I of Scotland, Book of Mosiah, History of Nepal, Offa of Angel, Obadiah, Ottonian dynasty, Omri, Pharaoh, Pope Adrian I, Pope Stephen II, Picts, Rheged, Richard Bachman, Roman Kingdom, Rehoboam, Rædwald of East Anglia, Richard I of England, Round Table, Rhys ap Gruffydd, Reconquista, Stephen King, Politics of Saudi Arabia, Politics of Eswatini, Sennacherib, Solomon, Samuel, Oswald of Northumbria, Stephen I of Hungary, The Shining (novel),\n",
      "\n",
      "Cluster 94 titles: Axon, Adenosine triphosphate, Abzyme, Antigen, Adrenal gland, Antibody, Apoptosis, Antioxidant, Brain, Bone, Bacterial conjugation, Cell nucleus, Cholesterol, Cyclic adenosine monophosphate, Chymotrypsin, Cell cycle, Central nervous system, Cardiac glycoside, Chemotaxis, Chain reaction, Dendrite, DNA ligase, Dehydroepiandrosterone, DNA replication, Enzyme, Endoplasmic reticulum, Endomembrane system, Endocytosis, Fat, Glycolysis, GTPase, G protein, G protein-coupled receptor, Hormone, Hemoglobin, Homeostasis, Histone, HIV, Haematopoiesis, Insulin, Immunology, Immune system, Insulin-like growth factor, Interferon, Genomic imprinting, Integrin, Ion channel, Intron, Janus kinase, Kidney, Alpha-Ketoglutaric acid, Lysosome, Lambda phage, Lactase, Molecular biology, Myelin, Mitochondrion, Mutagenesis, Microtubule, Monoamine oxidase, Neuron, Nerve, Nanomedicine, Nociception, Neurotransmitter, Nervous system, Nucleolus, Nicotinamide, Estrogen, Oncogene, Ovary, Prion, Penicillin, Pilus, Plasmid, Peptide, Peroxisome, Proteolysis, Proteasome, Protein kinase, Protein phosphatase, 4-Phenyl-4-(1-piperidinyl)cyclohexanol, P53, Peripheral nervous system, Recreation, Retrovirus, Reverse transcriptase, Spermatozoon, Chemical synapse, Superoxide dismutase, Skin, Serotonin, Signal transduction, SH3 domain,\n",
      "\n",
      "Cluster 95 titles: Arianism, Antonio Agliardi, Antipope, Athanasius of Alexandria, Acephali, Bernard of Clairvaux, Robert Bellarmine, Council of Trent, Celestines, Chalcedonian Definition, Council of Chalcedon, Council of Constance, Diets of Nuremberg, Ecumenical council, Eusebius of Nicomedia, First Council of Nicaea, First Vatican Council, First Council of the Lateran, Fourth Council of the Lateran, Fourth Council of Constantinople (Eastern Orthodox), First Council of Constantinople, Gasparo Contarini, Huldrych Zwingli, Hussites, Isidore of Seville, John Calvin, Knights of Columbus, Mason Remey, Nicene Creed, Pope Alexander VIII, Pope Alexander VII, Pope Agapetus I, Pope Agatho, Pope Anastasius I, Pope Adrian VI, Pope Honorius I, Pope Damasus I, Pope Honorius III, Pope Martin I, Pope Martin V, Pope Miltiades, Pope Marcellus II, Pope Benedict I, Pope Benedict XII, Pope Benedict IX, Pope Benedict XIII, Pope Benedict XI, Pope Benedict XIV, Pope Paul VI, Pope Boniface IV, Pope Pius IV, Pope Pius V, Pope Clement XI, Pope Clement XII, Pope Clement XIV, Pope Celestine I, Pope Celestine V, Pope Gregory III, Pope Gregory II, Pope Gregory VI, Pope Gregory VIII, Pope Gregory X, Pope Gregory XI, Pope Gregory XV, Pope Gregory XII, Pope Gregory XIII, Pope Siricius, Pope Sixtus III, Pope Urban VII, Pope Urban VI, Pope Urban II, Pope Sylvester III, Pope Sylvester I, Pope Urban VIII, Pope Stephen V, Pope Stephen III, Pope Sergius I, Pope Sergius III, Pope Victor III, Pope Innocent I, Pope Zosimus, Pope Innocent V, Privy Council of the United Kingdom, Pope Innocent IX, Pope Innocent XII, Pope Innocent XIII, Pope Julius I, Pope Eugene I, Pope Julius III, Pope Eugene II, Pope Sixtus IV, Roman Curia, Second Vatican Council, Scottish Rite, Shirley Dean, Supreme Soviet of the Soviet Union, Second Council of Nicaea,\n",
      "\n",
      "Cluster 96 titles: Atomic number, Allotropy, Array data structure, Atomic absorption spectroscopy, Bohrium, Binary search algorithm, Chemical element, Californium, Fire (classical element), Classical element, Earth (classical element), Wu Xing, Chemical formula, Diatomic molecule, Dubnium, Document type definition, Dublin Core, Euclid, Einsteinium, Empedocles, Electronegativity, Empirical formula, Formula fiction, Francium, Fermium, HTML, Hafnium, Hassium, Heap (data structure), Heapsort, Henry Moseley, Insertion sort, Lutetium, Lawrencium, Lysithea (moon), Mendelevium, Meitnerium, Nobelium, Neutronium, Neutron activation analysis, Periodic table, Promethium, Periodic table (detailed cells), Priority queue, Pigeonhole sort, Prime ideal, Principal ideal domain, Rutherfordium, Retroposon, Ratatoskr, Seaborgium, Sorting algorithm, Selection sort, Synthetic element,\n",
      "\n",
      "Cluster 97 titles: Arizona State University, Crandall University, Acadia University, Algemeen Nijmeegs Studentenblad, Brown University, Barnard College, Bob Jones University, Chalmers University of Technology, Community college, College, California Institute of Technology, Columbia University, Drexel University, Dartmouth College, Dalhousie University, DirkJan, Distance education, Education, Education reform, Eindhoven University of Technology, School voucher, Educational essentialism, Progressive education, Educational perennialism, Educational psychology, Family Educational Rights and Privacy Act, University of Gothenburg, Great Lakes Colleges Association, George Mason University, Geneva College, Grinnell College, Homeschooling, Harvey Mudd College, Hunter College, Higher education, Iowa State University, Indian Institute of Technology Kanpur, Ivy League, Ithaca College, James Madison University, John Dewey, John Ambrose Fleming, Jet Propulsion Laboratory, Jadavpur University, Kansas State University, KAIST, Kent State University, Kesgrave, Lund University, Massachusetts Institute of Technology, Millsaps College, Macquarie University, Mount Saint Vincent University, Manifesto, Nanoengineering, Northern Michigan University, BI Norwegian Business School, Ohio State University, Oxbridge, Oberlin College, Occidental College, Outcome-based education, Purdue University, Princeton University, Philosophy of education, Primary school, Patricia Soltysik, Reed College, KTH Royal Institute of Technology, Rice University, Robert M. Pirsig, Rock Bridge High School, Stanford University, Stockholm School of Economics, Stockholm University, School choice, St. John Fisher College, School, Simon Fraser University, Seattle Colleges District, Seattle University, Syracuse University, Secondary education, Texas A&M University,\n",
      "\n"
     ]
    },
    {
     "name": "stdout",
     "output_type": "stream",
     "text": [
      "Cluster 98 titles: Achilles, Apollo, Alexander the Great, Anaximander, Aphrodite, Athena, Actaeon, Ambrosia, Abraxas, Agamemnon, Ajax the Lesser, Ajax the Great, Aldine Press, Alexander, Amazons, Amyntas I of Macedon, Anacharsis, Actium, Andromeda (mythology), Achaeans (Homer), Ares, Aeolus, Abaddon, Aegospotami, Aegis, Artemis, Anubis, Battle of Marathon, Classics, Cyprus, Cassandra, Constantine Kanaris, Classical order, Catapult, Centaur, Digamma, Dorians, Demeter, Daedalus, Greek drachma, Dryope, Dionysius Thrax, Ennius, Eris (mythology), Epigram, Erinyes, Greek language, Foreign relations of Greece, Greece, Greek cuisine, Greek fire, Gallipoli, Hector, Hera, Hades, Hoplite, Homer, History of modern Greece, Hubris, Hecate, Hephaestus, Hermes, Judgement of Paris, Callicrates, Mount Lykaion, Laocoön, Leto, Macedonia (region), Myriad, Nymph, Odyssey, Odysseus, Oracle, Prometheus, Priam, Persephone, Pope Anterus, Pasiphaë, Rosetta Stone, Sextus Julius Africanus, Satyr, Trojan War,\n",
      "\n",
      "Cluster 99 titles: Ames, Iowa, Astoria, Oregon, Austin, Texas, Aberdeen, South Dakota, Alameda, California, Alexandria, Indiana, Andersonville, Georgia, Alexandria, Louisiana, Berkeley, California, Cambridge, Massachusetts, Columbus, Ohio, Cleveland, Colorado Springs, Colorado, Concord, New Hampshire, Cadillac, Michigan, Cedar Falls, Iowa, Columbia, Missouri, Columbus, Indiana, Concord, Michigan, Dayton, Ohio, Davis, California, Des Moines, Iowa, Ellensburg, Washington, Eugene, Oregon, Eureka, Missouri, Fort Collins, Colorado, Gary, Indiana, Goshen, Indiana, Honolulu, Iqaluit, Jackson, Michigan, Jackson, Mississippi, Kansas, Khartoum, Lincoln, Nebraska, Lansing, Michigan, Los Altos, California, Marquette, Michigan, Mobile, Alabama, Paris, Texas, Pueblo, Colorado, Roswell, New Mexico, Reno, Nevada, Redmond, Washington, Santa Monica, California, St Albans, Sacramento, California,\n",
      "\n",
      "Cluster 100 titles: Abortion, Anita Hill, Anal sex, A Vindication of the Rights of Woman, Breast reconstruction, Beauty, Breast, Bikini, Cross-dressing, Clitoris, Clitoridectomy, Concubinage, Chlamydia infection, Chauvinism, Chastity, Crystal Eastman, Creaky voice, Discus throw, Dianic Wicca, Dominatrix, Elizabeth Garrett Anderson, Feminism, Female genital mutilation, Feminist theology, Economy of Guatemala, Gaudy Night, Herstory, Hairpin, Copper IUDs, Infanticide, Javelin throw, Jewish prayer, Kimono, Laura Bush, Lesbian, Louisa May Alcott, Labia minora, Libido, Misogyny, Midwifery, Mary Wollstonecraft, Mosque, Maasai people, Malleus Maleficarum, Misandry, Mary Magdalene, Naomi Wolf, Wiccan views on LGBT people, Nawal El Moutawakel, Orgasm, Combined oral contraceptive pill, Polygyny, Phoebe Hearst, Public speaking, Radical feminism, Revolutionary Association of the Women of Afghanistan, Women in Judaism, Sexism, Sexual intercourse, Susan B. Anthony, Susan Faludi, Shōnen manga, Declaration of Sentiments, Sojourner Truth,\n",
      "\n",
      "Cluster 101 titles: Alabama, Alaska, Articles of Confederation, Arkansas, Andhra Pradesh, Ajaigarh, Colorado, California, Connecticut, Chiapas, California Department of Transportation, Delaware, Equation of state, Finite-state machine, Gulf Coast of the United States, Gluon, Himachal Pradesh, Haryana, Idaho, Illinois, Identical particles, John Lynch (New Hampshire), Kentucky, Karnataka, Kentucky and Virginia Resolutions, Louisiana, Lower Saxony, Maryland, Michigan, Missouri, Minnesota, Metastability, Maine, Montana, Maharashtra, New Hampshire, Nevada, Nebraska, North Dakota, New Mexico, North Carolina, No-cloning theorem, Ohio, Oklahoma, Pennsylvania, Protocol on Environmental Protection to the Antarctic Treaty, Population inversion, Qubit, Quantum teleportation, Rhineland-Palatinate, Rogue state, South Dakota, South Carolina, State (polity), Spontaneous emission, Stimulated emission, Sabah, State terrorism, State capitalism, Texas, Tamil Nadu,\n",
      "\n",
      "Cluster 102 titles: André the Giant, Boomerang, Biathlon, BBC News (TV channel), Brian Boitano, Biathlon World Championships, Copacabana, Rio de Janeiro, Cross-country skiing, Circuit Zandvoort, Disc golf, Diving (sport), Slalom skiing, Eurovision Song Contest, Melbourne Grand Prix Circuit, Monaco Grand Prix, Fimbulwinter, FIFA, FIDE, Figure skating, Gymnastics, High jump, Jock Taylor, FIFA World Cup Trophy, Kickboxing, Kipchoge Keino, Kristi Yamaguchi, Long jump, Love Parade, Mick Doohan, Motorcycle sport, Melbourne Cup, Nürburgring, Open-wheel car, Offshore powerboat racing, Orienteering, Pole vault, Paavo Nurmi, Dakar Rally, Rowing (sport), Rubik's Cube, Synchronised swimming, Speed skating, Shot put, Sports Car Club of America, Skiing, Shooting sports, Poetry slam, Summer of Love,\n",
      "\n",
      "Cluster 103 titles: Algorithms (journal), Architect, Adolphe Sax, Bauhaus, Buckminster Fuller, Bartolomeo Ammannati, Utility knife, Bugatti, Bombay Sapphire, Barney Bubbles, Cross-stitch, Costume jewelry, Costume, Compactron, Double-barreled shotgun, Design, Design pattern, Design of experiments, Electronics, Eric Cheney, Futurama (New York World's Fair), Fashion, Galeazzo Alessi, Gerrit Rietveld, Graphic design, H. R. Giger, Integrated circuit, Intelligent design, John Harrison, Swedish krona, Lego, Jonathan Smeeton, Microelectronics, Mikhail Kalashnikov, Molecular nanotechnology, Maze, Martin Fowler (software engineer), Mazda MX-5, MOS Technology, Minivan, Nutcracker, Primer (molecular biology), Quilting, Roland TB-303, Shoe, Supermarine, Skateboarding, Snowboard, Single-shot, Ski,\n",
      "\n",
      "Cluster 104 titles: Angolan Armed Forces, Royal Antigua and Barbuda Defence Force, Azerbaijani Armed Forces, Armed Forces of Armenia, Armed Forces of Belarus, Armed Forces of Bosnia and Herzegovina, Brazilian Armed Forces, Burkina Faso Armed Forces, National Defence Force (Burundi), Bulgarian Armed Forces, Military of Chad, Cameroonian Armed Forces, Cape Verdean Armed Forces, Central African Armed Forces, Military of Chile, Public Force of Costa Rica, Armed Forces of the Republic of Ivory Coast, Republic of Croatia Armed Forces, Çevik Bir, Military Forces of Colombia, Army of the Czech Republic, Military of the Comoros, Danish Defence, Military of Dominica, Djibouti Armed Forces, Armed Forces of the Democratic Republic of the Congo, Armed Forces of the Dominican Republic, Don't ask, don't tell, Armed Forces of Ecuador, Egyptian Armed Forces, Armed Forces of El Salvador, Armed Forces of Equatorial Guinea, Eritrean Defence Forces, Ethiopian National Defense Force, East Pakistan, Republic of Fiji Military Forces, Finnish Defence Forces, Armed Forces of Gabon, Defense Forces of Georgia, Ghana Armed Forces, Hellenic Armed Forces, Military of Greenland, Armed Forces of Guatemala, Military of Guinea, Military of Guinea-Bissau, Military of Honduras, Military of Hong Kong, Hungarian Defence Forces, Humvee, Indonesian National Armed Forces, Italian Armed Forces, Infantry, Armed Forces of the Republic of Kazakhstan, Kenya Defence Forces, Armed Forces of the Kyrgyz Republic, Kuwait Military Forces, Lao People's Armed Forces, Latvian National Armed Forces, Lebanese Armed Forces, Armed Forces of the Libyan Arab Jamahiriya, Armed Forces of Liberia, Lithuanian Armed Forces, Army of the Republic of North Macedonia, Malaysian Armed Forces, Military of Mali, Armed Forces of Mauritania, Military of Mauritius, Armed Forces of the Republic of Moldova, Military of Monaco, Mongolian Armed Forces, Royal Moroccan Armed Forces, Mozambique Defence Armed Forces, Afghan Armed Forces, Military academy, Tatmadaw, Militia, Armed forces of the Netherlands, Korean People's Army, Namibian Defence Force, Nepalese Armed Forces, New Zealand Defence Force, Military of Nicaragua, Niger Armed Forces, Nigerian Armed Forces, Pakistan Armed Forces, Papua New Guinea Defence Force, Peruvian Armed Forces, Armed Forces of the Philippines, Military of Puerto Rico, People's Liberation Army Navy, Qatar Armed Forces, Armed Forces of the Republic of the Congo, Russian Armed Forces, Swedish Armed Forces, Republic of Korea Armed Forces, Military of Saint Lucia, Military of Saint Vincent and the Grenadines, Sammarinese Armed Forces, Military of São Tomé and Príncipe, Armed Forces of Saudi Arabia, Armed Forces of Senegal, Republic of Sierra Leone Armed Forces, Slovak Armed Forces, Slovenian Armed Forces, Somali Armed Forces, Sudanese Armed Forces, Suriname National Army, Umbutfo Eswatini Defence Force, Swiss Armed Forces, Syrian Armed Forces, Salute, Republic of China Armed Forces, Armed Forces of the Republic of Tajikistan, Royal Thai Armed Forces, Togolese Armed Forces, His Majesty's Armed Forces (Tonga), Trinidad and Tobago Defence Force, Turkish Armed Forces, Armed Forces of Turkmenistan,\n",
      "\n",
      "Cluster 105 titles: Anthophyta, Automorphism, Abelian group, Callitrichidae, Clade, Cabal, Center (group theory), Characteristic subgroup, Classification of finite simple groups, Collagen helix, Carrier battle group, Diffeomorphism, Commutator subgroup, European People's Party group, Flagellate, Functional group, Fundamental group, Fundamental theorem on homomorphisms, Quotient group, Group homomorphism, Group isomorphism, Groupoid, Galois group, Group representation, Group velocity, Group action, Grindcore, Heckler & Koch MP5, Hydroxy group, Lie algebra, Lie group, Local Group, Group (mathematics), Main-group element, Methyl group, IC 342/Maffei Group, M81 Group, Monophyly, The Medallions, Nucleariida, Normal subgroup, Peroxide, Profinite group, Peptide bond, Paraphyly, Permutation group, P-group, Phase velocity, Spirotrich, Southern Poverty Law Center, Subgroup, Supercluster, Sculptor Group, Symmetry group, Symmetric group, Streptococcus, The Penguins,\n",
      "\n",
      "Cluster 106 titles: Transport in Angola, Transport in Armenia, Transport in Antarctica, Transport in Belarus, Transport in Belgium, Transport in Bosnia and Herzegovina, Transport in Brazil, Transport in Bulgaria, Transport in Burkina Faso, Transport in Burundi, Bus, Transportation in Canada, Transport in Cambodia, Transport in Cameroon, Transport in Cape Verde, Transport in the Central African Republic, Transport in Chile, Transport in Costa Rica, Transport in Ivory Coast, Transport in Croatia, Transport in Cuba, Transport in Cyprus, Transport in Colombia, Transport in the Czech Republic, Cycling, Transport in the Comoros, Transport in the Cook Islands, Transport in the Democratic Republic of the Congo, Transport in Denmark, Transport in Djibouti, Transport in the Dominican Republic, Transport in Ecuador, Transport in Egypt, Transport in El Salvador, Transport in Eritrea, Transport in Ethiopia, Transport in Fiji, Transport in Finland, Facilitated diffusion, Transport in Gabon, Transport in Ghana, Transport in Greece, Transport in Guatemala, Transport in Guinea-Bissau, Transport in Guyana, Transport in Guadeloupe, Transport in Haiti, Transport in Honduras, Transport in India, Transport in Indonesia, Transport in Iraq, Transport in Japan, Transport in Jamaica, Transport in Jordan, Transport in Kiribati, Transport in Kuwait, Transport in Kyrgyzstan, Kawasaki Ki-56, Transport in Laos, Transport in Lebanon, Transport in Lesotho, Transport in Liberia, Transport in Lithuania, History of public transport authorities in London, Transport in Macau, Transport in North Macedonia, Transport in Malaysia, Transport in the Maldives, Transport in Mali, Transport in Malta, Transport in Martinique, Transport in Mauritania, Transport in Mauritius, Transport in Moldova, Transport in Mongolia, Transport in Mozambique, Transport in Myanmar, MV Blue Marlin, Transport in the Netherlands, Transport in North Korea, Transport in Namibia, Transport in Nepal, Transport in the Netherlands Antilles, Transport in New Caledonia, Transport in New Zealand, Transport in Nicaragua, Transport in Niger, Transport in Nigeria, National Transportation Safety Board, Transport in Oman, Transport in China, Transport in Panama, Transport in Papua New Guinea, Transport in Paraguay, Transportation in the Philippines, Transportation in Puerto Rico, Pneumatic tube, Transport in Qatar, Transport in Réunion, Transport in Romania, Transport in Rwanda, Transport in Russia, Transport in Sweden, Transport in Saint Lucia, Transport in São Tomé and Príncipe, Transport in Saudi Arabia, Transport in Senegal, Transport in Seychelles, Transport in Sierra Leone, Transport in Singapore, Transport in Slovakia, Transport in Slovenia, Transport in Solomon Islands, Transport in Somalia, Transport in South Africa, Transport in Sri Lanka, Transport in Sudan, Transport in Suriname, Transport in Eswatini, Transport in Switzerland, Transport in Syria, Freight transport, Transport in Tajikistan, Transport in Tanzania, Transport in Thailand, Transport in Togo, Transport in Tonga, Transport in Trinidad and Tobago, Transport in Turkey, Transport in Turkmenistan,\n",
      "\n",
      "Cluster 107 titles: Anglican Communion, Anglicanism, Alger of Liège, Apostolic succession, Adventism, Anointing of the sick, Athanasian Creed, Apostles' Creed, Baptists, Bishop, Baptism, Bolventor, Standard works, History of The Church of Jesus Christ of Latter-day Saints, The Church of Jesus Christ of Latter-day Saints, Church of England, Calvinism, Canonization, Cardinal (Catholic Church), Church (building), Church of Christ, Scientist, Canon law, Congregationalist polity, Christianity and homosexuality, Christian views on marriage, Catholic (term), Coptic Orthodox Church of Alexandria, Churches Uniting in Christ, Church of the Holy Sepulchre, Doctrine and Covenants, Protestant Church in the Netherlands, Christian Church (Disciples of Christ), Episcopi vagantes, Evangelist (Latter Day Saints), Eucharist, Episcopal polity, Eastern Orthodox Church organization, Eastern Orthodox Church, Excommunication, Evangelicalism, Free Methodist Church, General Synod, Holy orders, Henry Ainsworth, Humanae vitae, International Council of Unitarians and Universalists, Jan Hus, Mormons, Mormon (word), Methodism, Moonie (nickname), Mennonites, Mormonism, Nestorianism, Old Catholic Church, Olga of Kiev, Pope, Pentecostalism, Parish, Pierre Allix, Religious affiliations of Presidents of the United States, Palm Sunday, Infant baptism, Presbyterianism, Preacher, Presbyterian Church (USA), Quinquagesima, Sedevacantism, Saint, Seventh-day Adventist Church,\n",
      "\n",
      "Cluster 108 titles: A. E. van Vogt, Ann Druyan, Bruce Sterling, Brian Aldiss, Ben Bova, Cyril M. Kornbluth, C. L. Moore, Dava Sobel, Donald A. Wollheim, Frank Herbert, Fanzine, Feminist science fiction, Fandom, Frederik Pohl, Forrest J Ackerman, Harlan Ellison, Hannes Bok, Hugo Gernsback, Hard science fiction, Hal Clement, Isaac Asimov, Iain Banks, Jack L. Chalker, James Blish, Joanna Russ, John Brunner (novelist), John W. Campbell, James Tiptree Jr., Janusz Zajdel, Kim Stanley Robinson, Katherine MacLean, Larry Niven, Michael Crichton, Neal Stephenson, Philip K. Dick, Poul Anderson, Pat Cadigan, Robert A. Heinlein, Ray Bradbury, Stanisław Lem, New Wave science fiction, Science Fiction and Fantasy Writers of America, Starship Troopers, Terry Pratchett,\n",
      "\n",
      "Cluster 109 titles: A. A. Milne, The Amazing Spider-Man, August Derleth, Agatha Christie, Anton Chekhov, Blindness in literature, Bram Stoker, Bastard Operator From Hell, Batman: Year One, Cthulhu Mythos, C. S. Forester, Clark Ashton Smith, Charles Baxter (author), Conan the Barbarian, Carmilla, Colin Kapp, Cordwainer Smith, Carl Barks, Comic fantasy, Clive Barker, The Canterbury Tales, Dracula, Detective fiction, Don Rosa, Dying Earth, Damon Runyon, Edgar Rice Burroughs, Eden Phillpotts, E. E. Smith, The Metamorphosis, Fritz Leiber, Flash Crowd, Farmer Giles of Ham, Golem, Guy de Maupassant, Gilbert Cesbron, A Song of Ice and Fire, Gothic fiction, Gladstone Gander, H. P. Lovecraft, Heart of Darkness, Hans Christian Andersen, Horror fiction, Hapworth 16, 1924, Herman Charles Bosman, I, Robot, Cosmicomics, Irish mythology, Isaac Bashevis Singer, J. G. Ballard, James Thurber, John William Polidori, James Clavell, Jeffrey Archer, James Blaylock, James Alan McPherson, Judge Dredd, Kalevala, Edward Plunkett, 18th Baron of Dunsany, Leopold von Sacher-Masoch, Leaf by Niggle, Ludwig Von Drake, Luigi Pirandello, Michael Moorcock, Max and Moritz, Mars in fiction, Nasreddin, Noah, Neil Gaiman, Narcissus (mythology), Ouida, On Fairy-Stories, Pulp magazine, Polyphemus, Paul Bunyan, Pat Mills, Paul Auster, Rolling Stone, Richard Matheson, Raymond Chandler, Religion and mythology, Robert E. Howard, Robert Bloch, Rudyard Kipling bibliography, Ring Lardner, Romano Scarpa, Sherlock Holmes, Syrinx, Shaggy dog story, Short story, The Saint (Simon Templar), Superman, Sheridan Le Fanu, Saki, Scrooge McDuck, Shmuel Yosef Agnon, Steve Ditko, Sergio Aragonés, The Lord of the Rings, The Hobbit,\n",
      "\n",
      "Cluster 110 titles: Appellate procedure in the United States, Appellate court, Arraignment, Allocution, Americans with Disabilities Act of 1990, Andreas Capellanus, American Civil Liberties Union, Alford plea, Arbitration in the United States, Arthur William à Beckett, Associate Justice of the Supreme Court of the United States, Bankruptcy, Barrister, Contempt of court, Chapter 11, Title 11, United States Code, Complaint, Circumcision and law, Charles Evans Hughes, Disbarment, Double jeopardy, Defendant, Dispute resolution, European Convention on Human Rights, Exxon Valdez oil spill, Emperor Go-En'yū, Emperor Saga, Frivolous litigation, Fair use, The Trial, United States Foreign Intelligence Surveillance Court, Federal jurisdiction (United States), False Claims Act, Grand jury, Habeas corpus, Indictment, International Criminal Court, International Court of Justice, Indictable offence, International judicial institution, International Prize Court, International Criminal Tribunal for the former Yugoslavia, Insanity defense, Judicial Committee of the Privy Council, Jury trial, Jurisdiction, Kakinomoto no Hitomaro, LaGrand case, Transgender rights, Laches (equity), Politics of Malawi, Mumia Abu-Jamal, Mabo v Queensland (No 2), Marbury v. Madison, United States v. Microsoft Corp., Motel, Nolo contendere, Preliminary hearing, Precedent, Politics of the Pitcairn Islands, Plea bargain, Intact dilation and extraction, Plea, Plaintiff, Political question, Pleading, Personal jurisdiction, Permanent Court of International Justice, Renaissance dance, Racketeer Influenced and Corrupt Organizations Act, Statute of limitations, Scopes Trial, Summary offence, State supreme court, Sovereign immunity, Trial de novo,\n",
      "\n",
      "Cluster 111 titles: Assistive technology, Avionics, Ansible, Parallel ATA, Aircraft spotting, File archiver, Bluetooth, Bandwidth (signal processing), Communication, Color code, Content-control software, Call centre, Computer security, Context menu, Cash register, Counter (digital), Domain Name System, Dual-tone multi-frequency signaling, Digital Enhanced Cordless Telecommunications, Decca Navigator System, Debit card, ECHELON, Email, Electrothermal-chemical technology, Frequency modulation, Full disclosure (computer security), Global Positioning System, Google Search, Government Communications Headquarters, Hypertext Transfer Protocol, Help desk, HTTPS, Java applet, IEEE 802.11, Internet Message Access Protocol, Insulin pump, Information security, Instrument flight rules, Internet Engineering Task Force, ISM band, Interrupt latency, KA9Q, Knowbot, Latency (engineering), Microfluidics, Map, Multimedia, Message transfer agent, Memex, Modulation, Microsoft Access, Usenet newsgroup, National Security Agency, Orthogonal frequency-division multiplexing, Post Office Protocol, Paul Vixie, Plan 9 from Bell Labs, Password, Telephone card, Privacy, Quadrature amplitude modulation, Rn (newsreader), Ryan Lackey, Remote procedure call, Radioteletype, SHA-1, Section 508 Amendment to the Rehabilitation Act of 1973, Simple Mail Transfer Protocol, Airport security repercussions due to the September 11 attacks, Communication during the September 11 attacks, SCSI, Spamming, Security engineering, Faster-than-light communication, Short Message Peer-to-Peer, SANS Institute, Security through obscurity, Signals intelligence, SOAP, Semi-trailer truck,\n",
      "\n",
      "Cluster 112 titles: Albert Sidney Johnston, American Revolutionary War, Army, Ahmed I, Alexander of Pherae, Abdul Rashid Dostum, Abbas Mirza, Arthur St. Clair, Abd al-Rahman I, Australian Army, Archduke Charles, Duke of Teschen, Bernard Montgomery, Battle of Pharsalus, Battle of Blenheim, Battle of Lostwithiel, Battle of Stalingrad, Babur, Battle of Gettysburg, Battle of Świecino, British Army, Battle of Berestechko, Battle of Okinawa, Battle of Adwa, Continuity Irish Republican Army, Cavalry, Arthur Wellesley, 1st Duke of Wellington, Dragoon, Distinguished Service Medal (U.S. Army), Erwin Rommel, Prince Eugene of Savoy, Albert of Saxony, Frederick William, Elector of Brandenburg, First Italo-Ethiopian War, First Battle of El Alamein, George Washington, Gatling gun, Humayun, Irish Republican Army (1919-1922), Iran-Iraq War, Impi, Isoroku Yamamoto, Johann von Werth, J. E. B. Stuart, Kamikaze, Kul Tigin, Korean War, Kliment Voroshilov, Luxembourg Army, Lavr Kornilov, Laconia incident, Macedonian phalanx, Macao Garrison, Mechanized infantry, Medieval warfare, Oberkommando des Heeres, Operation Barbarossa, Private (rank), Red Army, Robert E. Lee, Ralph Abercromby, Russian Civil War, Reforms of Amānullāh Khān and civil war, Siege, Saladin, Sigismund Báthory, SNAFU, Six-Day War, Second Battle of El Alamein, Tonyukuk,\n",
      "\n",
      "Cluster 113 titles: ASCII, Amber Diceless Roleplaying Game, Blissymbols, Bi-directional text, Baudot code, Code, Printer (computing), Character encoding, Control character, Character encodings in HTML, Cladistics, Clown, Chinese input methods for computers, Cyril, Ellipsis, Emoticon, EBCDIC, Furigana, GURPS, Glyph, Hiragana, Ideogram, ISO/IEC 8859-1, ISO/IEC 8859, International Bank Account Number, Katakana, Kana, Morse code, Magnus, Pokey the Penguin, Player character, Plain text, Qi, Regular expression, Shot reverse shot, Kes (Star Trek), String (computer science), String-searching algorithm,\n",
      "\n",
      "Cluster 114 titles: Professional certification, Enterprise resource planning, Finance, File manager, Hedge fund, Library management, Management, Management science, Passive management, Risk management, Supply-chain management,\n",
      "\n",
      "Cluster 115 titles: Basel Convention, International Bureau of Weights and Measures, Environmental Modification Convention, Convention on Biological Diversity, General Conference on Weights and Measures, Convention (norm), Double-hulled tanker, Transportation in the Federated States of Micronesia, Genocide, Internalization, International Hydrographic Organization, International Convention for the Regulation of Whaling, International Maritime Organization, International Civil Aviation Organization, International Labour Organization, International Seabed Authority, International human rights instruments, ITU-R, International Association of Travel Agents Network, International Statistical Classification of Diseases and Related Health Problems, International Red Cross and Red Crescent Movement, Montevideo Convention, Metre Convention, Franc Poincaré,\n",
      "\n",
      "Cluster 116 titles: American National Standards Institute, ANSI C, British Standards, Carabiner, Deutsches Institut für Normung, Digital Access Signalling System 2, Extended Industry Standard Architecture, Electronic data interchange, Eurocard (printed circuit board), Federal Information Processing Standards, Giga-, H.263, IEEE 802.15, Internet Standard, ITU-T, International Organization for Standardization, ISO 9660, International Electrotechnical Commission, ISO 3864, International standard, MP3, Moving Picture Experts Group, MPEG-3, MPEG-2, MPEG-4, National Institute of Standards and Technology, Object Management Group, POSIX, Pollutant, Standard Chinese, Request for Comments, Standardization, Standard deviation, Standard conditions for temperature and pressure, SECAM, Standard Oil, Standard-gauge railway, SQL, Single UNIX Specification,\n",
      "\n",
      "Cluster 117 titles: Albert Speer, Alfred Lawson, Aga Khan I, Alexios V Doukas, Adhemar of Le Puy, American Airlines Flight 77, Al-Qaeda, American Revolution, Auschwitz concentration camp, Ahmad Shah Massoud, Antisemitism in the Arab world, Abu Sayyaf, Albert Pike, Abdur Rahman Khan, Ariel Sharon, Assassination, Adrian Lamo, Al Capone, British Airways, Barbara Olson, Blackbeard, Boston Corbett, Balfour Declaration, Bohdan Khmelnytsky, Bloody Sunday (1972), Capital punishment, CSS Virginia, Chechnya, Cheka, Cuban Missile Crisis, Chiang Kai-shek, Commonwealth Heads of Government Meeting, Cem Karaca, The Family International, Dalai Lama, HM Prison Dartmoor, David Hayes Agnew, Dictator, Democide, D. B. Cooper, Denis Auguste Affre, European influence in Afghanistan, Duke Kahanamoku, Exile, Eureka Rebellion, Ernst Kaltenbrunner, Final Solution, Louis Mountbatten, 1st Earl Mountbatten of Burma, Extermination camp, Easter Rising, Fatah, Fox News, Fridtjof Nansen, Gaza Strip, Guglielmo Marconi, Greenpeace, Grigori Rasputin, Gavrilo Princip, Gulag, Hermetic Order of the Golden Dawn, Hezbollah, Hamas, Helen Gandy, Great Famine (Ireland), Israeli settlement, Ismail Khan, Institute of National Remembrance, Irgun, Zionist political violence, John Graves Simcoe, Gyula Andrássy, Jeffrey Dahmer, Jim Bakker, Jack Ruby, Jewish Defense League, Josip Broz Tito, Kosovo War, Krav Maga, Koh-i-Noor, Kim Philby, KHAD, Kit Carson, Sara Jane Olson, Knights of Labor, Kuwaiti oil fires, Lee Harvey Oswald, History of Lebanon, Latveria, Leonard Peltier, Lavrentiy Beria, Liberation Tigers of Tamil Eelam, Loya jirga, Michael Reagan, Mahatma Gandhi, Mao Zedong, Mary Rose, Mohamed Al-Fayed, Médecins Sans Frontières, Mark Whitacre, Montoneros, Menachem Begin, Mohammed Zahir Shah, Paul Robeson, Provisional Irish Republican Army, Professor Griff, Pandemic, Peace Now, Palestine Liberation Organization, Quarantine, Qusay Hussein, Robert Falcon Scott, Roger Casement, Real Irish Republican Army, Rupert Murdoch, Revolutionary Armed Forces of Colombia, Rehavam Ze'evi, Ruhollah Khomeini, Russian submarine Kursk (K-141), History of San Marino, Human rights in Sudan, Samurai, Stolen Generations, Shining Path, Soong sisters, Shaka, Soong Mei-ling, Symbionese Liberation Army, Samuel Mudd, Shōgun, Soviet submarine K-19, Lehi (militant group), Sikhs, Saddam Hussein,\n",
      "\n",
      "Cluster 118 titles: Ada Lovelace, Alan Turing, Alan Kay, Automated theorem proving, Andrew S. Tanenbaum, Bjarne Stroustrup, Bell Labs, Bill Gates, Bill Joy, Bob Frankston, Cyberspace, Douglas Engelbart, Donald Knuth, Dennis Ritchie, Dan Bricklin, Douglas Hofstadter, DARPA, Edsger W. Dijkstra, Fred Brooks, Grace Hopper, Gary Kildall, International Olympiad in Informatics, Information Sciences Institute, Jon Postel, Jerry Pournelle, Kludge, Knowledge Systems Laboratory, Linus Torvalds, Marvin Minsky, Max Newman, Mike Muuss, Nevanlinna Prize, Niklaus Wirth, Paul Allen, Ray Kurzweil, Silicon Valley, Steve Crocker, Seymour Papert, Steve Wozniak, Search for extraterrestrial intelligence, Self-reference, Stephen Cole Kleene, Self-replication, The Shockwave Rider, Tim Berners-Lee,\n",
      "\n",
      "Cluster 119 titles: Civil Rights Memorial, Cognitive psychology, Carolyn Beug, Charles Edward Jones, Chapterhouse: Dune, Garbage collection (computer science), Computer memory, DDR SDRAM, Entorhinal cortex, Fugue state, Forgetting curve, Forgetting, Garnet Bailey, Granville rail disaster, Hermann Ebbinghaus, Kendall Square Research, Long-term memory, Maya Lin, Memory leak, Mark Bingham, Memory address register, Ninth Fort, Sleep and learning, Memorials and services for the September 11 attacks, Segmentation fault, Short-term memory,\n",
      "\n"
     ]
    },
    {
     "name": "stdout",
     "output_type": "stream",
     "text": [
      "Cluster 120 titles: Amsterdam, Aarhus, Adelaide, Athens, Acapulco, Aberdeen, Algiers, Ann Arbor, Michigan, Albion, Michigan, Alicante, Ajaccio, Alexandria, Romania, Atlanta, Bursa, Brussels, Buffalo, New York, Bristol City F.C., Barcelona, Baghdad, Bishkek, Baku, Brasília, Ballarat, Belfast, Copenhagen, City, Cardiff, Chernobyl, Cairo, City of London, Chicago, Casablanca, Carson City, Nevada, Delft, Darwin, Northern Territory, Dar es Salaam, Dublin, Denver, Davenport, Iowa, Detroit, Dundee, Damascus, Catan: Cities & Knights, Derry, Dimona, Eindhoven, Edinburgh, Edo, Fredericton, Fortaleza, Fort Wayne, Indiana, Florence, Guatemala City, Gothenburg, Ghent, Guangzhou, Glasgow City Chambers, Gotham City, Hobart, Helsinki, Houston, Hamilton, Ontario, Islamabad Capital Territory, Jerusalem, Jalalabad, Jakarta, Kabul, Kraków, Kuala Lumpur, Kagoshima, Kaohsiung, Kemerovo, Karachi, Kathmandu, Kandahar, Kansas City, Missouri, Lincoln, England, London, Lisbon, Liverpool, Los Angeles, Luanda, Mexico City, Malmö, Moscow, Mumbai, Moncton, Manchester, Mazar-i-Sharif, Marrakesh, Mecca, Nairobi, Nagasaki, Nanjing, Nassau, Bahamas, Nashville, Tennessee, Ottawa, Oslo, Oxford, Paris, Plymouth, Portland, Oregon, Poznań, Prague, Peterborough, Portsmouth, Perth, Pittsburgh, Quad Cities, Reykjavík, Rio de Janeiro, Rotterdam, Rural flight, Stockholm, Sarajevo, San Francisco Peninsula, Shanghai, St. Louis, Sydney, Culture in Stockholm, History of Stockholm, San Diego, Suburb, Skopje, Tenochtitlan, Tokyo, The Hague,\n",
      "\n",
      "Cluster 121 titles: Associative algebra, Alternative algebra, Boolean algebra (structure), Bézout's identity, C*-algebra, Commutator, Direct product, Geometric algebra, Homomorphism, Identity element, Integral domain, Monoid, Monoid ring, Product of group subsets, Pauli matrices, Product (mathematics), Peano axioms, Power associativity, Quasigroup, Ideal (ring theory), Ring homomorphism, Semigroup, Steiner system,\n",
      "\n",
      "Cluster 122 titles: Abraham Lincoln, Andrew Johnson, Andrew Jackson, Bill Clinton, Burhanuddin Rabbani, Barry Goldwater, History of Chile, History of Colombia, Calvin Coolidge, Colin Powell, Charles Evers, History of the Dominican Republic, Dwight D. Eisenhower, Donald Rumsfeld, David Rice Atchison, Dana Rohrabacher, Elias Boudinot, Elbridge Gerry, First Lady of the United States, Franklin D. Roosevelt, Frederick Douglass, Francisco I. Madero, Francesco Cossiga, George H. W. Bush, Grover Cleveland, History of Honduras, Herbert Hoover, Henry Kissinger, Hannibal Hamlin, Henry Bruce, 1st Baron Aberdare, Henry Middleton, Henry Laurens, Iran-Contra affair, Impeachment, John Quincy Adams, Johannes Rau, Dan Quayle, James Madison, James Monroe, James K. Polk, Jimmy Carter, J. Edgar Hoover, Janet Reno, Jefferson Davis, James G. Blaine, Jack Kemp, John Danforth, John Hancock, Joseph McCarthy, John Hanson, John Ashcroft, John Hay, Kansas-Nebraska Act, Kurt Waldheim, Kenneth Kaunda, Kurt Georg Kiesinger, History of Mexico, Martin Van Buren, Mary Robinson, Nancy Reagan, History of Nicaragua, History of Peru, History of Paraguay, History of the Philippines, Palestinian National Authority, President, President of the United States, Pervez Musharraf, President of Ireland, President of France, Robert Byrd, Rush Limbaugh, Ronald Reagan, Republic of Texas, Richard Nixon, Ralph Nader, Richard Henry Lee, Serbia and Montenegro, Thomas Jefferson,\n",
      "\n",
      "Cluster 123 titles: Andre Agassi, Anna Kournikova, Arsenal F.C., AZ Alkmaar, A.S. Roma, ACF Fiorentina, Bobby Charlton, Björn Borg, Brisbane Lions, Brisbane Broncos, Craven Cottage, Charlton Athletic F.C., Chelsea F.C., Dale Earnhardt, Dino Zoff, Diego Maradona, David Beckham, England national football team, Essendon Football Club, Franco Baresi, FA Cup, Fulham F.C., Premier League, Gordon Banks, Geoff Hurst, Gary Lineker, Garry Kasparov, Geelong Football Club, Inter Milan, Juventus F.C., Javier Saviola, Kenny Dalglish, Lleyton Hewitt, Lilia Podkopayeva, Liverpool F.C., Luton Town F.C., Martina Hingis, Cardiff Arms Park, Melbourne Cricket Ground, Manchester United F.C., Michael Schumacher, North Melbourne Football Club, Pat Rafter, Plymouth Argyle F.C., Port Adelaide Football Club, Rugby World Cup, Richard Petty, Roberto Baggio, Real Madrid CF, S.S. Lazio, Sydney Swans,\n",
      "\n",
      "Cluster 124 titles: Avery Hopwood, At bat, Earned run, Base on balls, Hit (baseball), On-base percentage, Baseball statistics, Sacrifice fly, Plate appearance, On-base plus slugging, Stolen base, Barry Bonds, BASE jumping, Ellen van Langen, Home page, Hank Greenberg, Home run, Hank Aaron, John Akii-Bua, Johnny Bench, Kentucky Derby, Mark McGwire, Running, Sammy Sosa,\n",
      "\n",
      "Cluster 125 titles: American Football Conference, Asociación Alumni, Albert Spalding, AFC Ajax, Baseball positions, American League Championship Series, National League Championship Series, American League Division Series, National League Division Series, Basketball, Bocce, Bandy, Blue Angels, Brabham, Curling, Cheerleading, Crew, Carlos Valderrama, A.C. ChievoVerona, Canadian football, Community emergency response team, Cricket World Cup, Drop kick, Association football, Goal line (gridiron football), Play from scrimmage, Frisbee, Football team, Formula One, First-class cricket, Floorball, FIFA World Cup, International Formula 3000, Gheorghe Hagi, Handball, Hellas Verona F.C., Hoosier Hysteria, Irina Krush, Ice hockey, Italian Football League, Serie A, Korfball, Kabaddi, Knute Rockne, K2, Bodyline, Lacrosse, McLaren, Netball, Oakland Athletics, Limited overs cricket, Pelé, Quarterback, Rugby union, Rugby league, Tug of war, Sabermetrics, Anton Schumacher,\n",
      "\n",
      "Cluster 126 titles: Geography of Antarctica, Geography of the British Virgin Islands, Coral Sea Islands, Geography of Cyprus, Geography of the Comoros, Cayuga Lake, Geography of the Cook Islands, Geography of Denmark, Geography of Dominica, Geography of the Dominican Republic, Geography of Equatorial Guinea, Geography of Estonia, Geography of the Faroe Islands, Geography of French Polynesia, Geography of the Federated States of Micronesia, Geography of Greenland, Geography of Grenada, Geography of Guam, Province of Grosseto, Geography of Haiti, Geography of Hong Kong, Geography of Indonesia, Geography of Italy, Geography of the Isle of Man, Geography of Japan, Geography of Jamaica, Kingman Reef, Mälaren, Geography of the Marshall Islands, Geography of Montserrat, Mozambique Channel, Geography of Myanmar, Mindanao, Geography of Nauru, Geography of the Netherlands Antilles, Geography of New Zealand, Geography of Niue, Hoy, Pacific Ocean, Geography of Palau, Geography of Papua New Guinea, Geography of the Philippines, Geography of Puerto Rico, Puget Sound, Geography of Qatar, Geography of Réunion, Rockall, Geography of Saint Kitts and Nevis, Transport in Saint Kitts and Nevis, Geography of Saint Lucia, Geography of Samoa, Geography of São Tomé and Príncipe, Geography of Svalbard, Geography of Taiwan, Geography of Trinidad and Tobago, Geography of Tuvalu,\n",
      "\n",
      "Cluster 127 titles: Foreign relations of Azerbaijan, Acquis communautaire, Foreign relations of Belarus, Benelux, Foreign relations of Cyprus, Foreign relations of the Czech Republic, Council of the European Union, Council of Europe, Unitary patent, European Conference of Postal and Telecommunications Administrations, European Union, European Central Bank, Euro, European Coal and Steel Community, European Council, European Economic Community, European Free Trade Association, European Parliament, Economic and monetary union, European Environment Agency, European Democrats, European Commission, Anthem of Europe, Flag of Europe, European Investment Fund, European Currency Unit, European Broadcasting Union, Foreign relations of Greenland, Intergovernmentalism, Trade union, Foreign relations of Luxembourg, Foreign relations of Moldova, Maastricht Treaty, Foreign relations of Poland, President of the European Commission, Foreign relations of Romania, Republics of the Soviet Union, Foreign relations of Turkey,\n",
      "\n",
      "Cluster 128 titles: Analysis of variance, The Ashes, Anti-ballistic missile, Ames test, Arthur Jensen, Acceptance testing, Brian Lara, Basenji, Inedia, Cistron, Code coverage, Cardiology diagnostic tests and procedures, Comprehensive Nuclear-Test-Ban Treaty, Enterobacteriaceae, Flynn effect, GRE Physics Test, High fidelity, Hansie Cronje, Intelligence quotient, In vivo, Ian Botham, JUnit, James Flynn (academic), Kuiper's test, Kolmogorov-Smirnov test, Khornerstone, Left-arm unorthodox spin, Median lethal dose, Mutagen, Muttiah Muralitharan, Psychological statistics, Pentose, UGM-73 Poseidon, Psychometrics, Peenemünde Army Research Center, Richie Benaud, Race and intelligence, Space Shuttle Enterprise, Smiling Buddha, Software testing, Miller test, The Big Test, Statistical hypothesis testing,\n",
      "\n",
      "Cluster 129 titles: Aristotle, Agnosticism, Arminianism, Alexandrists, An Enquiry Concerning Human Understanding, Argument from morality, Abstraction, Antinomy, Being, Baruch Spinoza, Buddhist philosophy, Charles Sanders Peirce, Cosmological argument, Concept, Chemical affinity, Creation myth, Cogito, ergo sum, Jews as the chosen people, David Hume, Democritus, Divinity, Deism, Darwin's Dangerous Idea, Dharma, Demiurge, Deconstruction, Ethical egoism, Epistemology, Ethics, Ethical naturalism, Ethical non-naturalism, Existence, Epiphenomenalism, Existentialism, Evil, Epicurus, Empiricism, Epictetus, Faith and rationality, Faith, Foundationalism, G. E. Moore, George Berkeley, Guilt (emotion), Gödel's ontological proof, Gilles Deleuze, Georg Wilhelm Friedrich Hegel, Golden Rule, Grok, Hedonism, Heraclitus, Immanuel Kant, Internalism and externalism, Immaculate Conception, Idealism, Incompatible-properties argument, Jacques Lacan, Jacques Dupuis (Jesuit), Karma, Kami, Love, False dilemma, Irrelevant conclusion, Slippery slope, Metaphilosophy, Metaphysics, Monism, Maurice Merleau-Ponty, Mind, Magick (Thelema), Meaning of life, Metaphor, Non-cognitivism, Nominalism, Neutral monism, Natural theology, Nihilism, Naturalistic fallacy, Normative ethics, Nagarjuna, Ontology, Objectivism (Ayn Rand), Omphalos hypothesis, Original sin, Omniscience, Plato, Philosophy of religion, Philosophical methodology, Problem of universals, Parmenides, Panentheism, Postmodern philosophy, Pantheism, Platonic idealism, Predestination, Protagoras, Pre-existence, Platonic realism, Pessimism, Proclus, Pelagianism, René Descartes, Reincarnation, Skepticism, Substance theory, Sin, Soul, Second-order predicate, Thomas Reid, Tractatus Logico-Philosophicus, Thales of Miletus, Theodicy, Problem of evil, Regress argument,\n",
      "\n",
      "Cluster 130 titles: Demographics of Angola, Demographics of American Samoa, Demographics of Bosnia and Herzegovina, Demographics of Botswana, Demographics of Burkina Faso, Demographics of Burundi, Demographics of Canada, Demographics of Chad, Demographics of Cambodia, Demographics of Cameroon, Demographics of Cape Verde, Demographics of the Central African Republic, Demographics of the Comoros, Demographics of the Cook Islands, Demographics of Djibouti, Demographics of Denmark, Demographics of Ethiopia, Demographics of the Faroe Islands, Demographics of French Polynesia, Demographics of the Federated States of Micronesia, Demographics of Georgia (country), Demographics of Guam, Demographics of Guinea, Demographics of Guinea-Bissau, Demographics of Indonesia, Demographics of the Isle of Man, Demographics of Jamaica, Demographics of Jersey, Demographics of Jordan, Demographics of Kiribati, Demographics of Kuwait, Demographics of Liechtenstein, Demographics of Malawi, Demographics of the Maldives, Demographics of the Marshall Islands, Demographics of Mauritania, Demographics of Mayotte, Demographics of Monaco, Demographics of Mozambique, Demographics of Namibia, Demographics of the Netherlands Antilles, Demographics of New Caledonia, Demographics of Niger, Demographics of the Northern Mariana Islands, Demographics of Oman, Demographics of Palau, Demographics of Papua New Guinea, Demographics of Qatar, Demographics of the Republic of the Congo, Demographics of Romania, Demographics of Rwanda, Demographics of Saint Pierre and Miquelon, Demographics of Samoa, Demographics of San Marino, Demographics of São Tomé and Príncipe, Demographics of Saudi Arabia, Demographics of Senegal, Demographics of Seychelles, Demographics of Sierra Leone, Demographics of Solomon islands, Demographics of Sri Lanka, Demographics of Eswatini, Demographics of Tajikistan, Demographics of Togo, Demographics of Turkmenistan, Demographics of Tuvalu,\n",
      "\n",
      "Cluster 131 titles: Agriculture, Asphalt, Aluminium, Ammonia, Agate, Aquaculture, Acetylene, Chemistry of ascorbic acid, Abacá, Aspartame, Ash, Amyl alcohol, Brass, Benzoic acid, Bacteriophage, Brewing, Biotechnology, Background radiation, Chemical equilibrium, Cooking, Combustion, Cadmium, Carbon dioxide, Cyanide, Catalysis, Carbon sink, Carboxylic acid, Cream, Carbon monoxide, Chemical reaction, Chromatography, Cement, Cereal, Citric acid cycle, Cellulose, Carotene, Cranberry, Chocolate, Coal tar, Cavitation, Dairy product, Diamond, Dye, Distillation, Damascus steel, Diene, Ethylene, Emerald, Exothermic process, Flavor, Food, Fatty acid, Fire, Flatulence, Forcemeat, Filtration, Food additive, Glycine, Graphite, Glucose, Granite, Gluten, Gelatin dessert, Gelatin, Helium-3, Honey, Hashish, Hydrogen peroxide, Food irradiation, Knitting, Ketene, Kaolinite, Kerosene, Kiln, Leather, Lubricant, Lithium carbonate, Lactose, Methanol, Milk, Maple syrup, Marmite, Macrobiotic diet, Mining, Mozzarella, Metabolic pathway, Mica, Nylon, Nitroglycerin, Nutrition, Nitric acid, Nori, Natural gas, Olive oil, Ozone, Ozone layer, Poultry, Petroleum, Propane, Purine, Polymerase chain reaction, Gasoline, Phosphate, Paint, Polymerization, Pyridine, Pasta, Paraffin wax, Phenol, Pattern welding, Polyvinyl chloride, Pottery, Product liability, Production team, Preservative, Pollution, Product ring, Riboflavin, Raku ware, Rennet, Smoke, Steel, Stainless steel, Starch, Sugar, Salicylic acid, Stevia, Smelting, Scotch whisky, Cyanoacrylate, Solder, Sodium laureth sulfate,\n",
      "\n",
      "Cluster 132 titles: Albedo, Augustin-Jean Fresnel, Afterglow, Burning glass, Beacon, Candela, Color, Cyan, Rendering (computer graphics), Chlorophyll, Crookes radiometer, Color temperature, Hanukkah, Diffraction, Double-slit experiment, Electric light, Electromagnetic spectrum, Fresnel equations, Faster-than-light, Fluorescence, Global illumination, Gegenschein, HMAS Sydney, Interstellar travel, Infrared, Wave interference, Jones calculus, Kennelly-Heaviside layer, Laser, Equivocation, Lighthouse, Light, Laser construction, Light pollution, Lunar eclipse, Light-emitting diode, Luminance, Luminiferous aether, Microphotonics, Microscope, Mousse, Mirror, Neodymium, Nonlinear optics, Optics, Optical brightener, Photon, Photoelectric effect, Photolithography, Photoresist, Photosynthetic pigment, Photosynthesis, Radiation, Refractive index, Refraction, Radiosity (computer graphics), Ray tracing (graphics), Rayleigh scattering, Red-eye effect, Special relativity, Sunlight, Speed of light, Optical spectrometer, Spectrum, Solar sail, Torch,\n",
      "\n",
      "Cluster 133 titles: Banach space, Bilinear map, Bra-ket notation, Banach algebra, Compact space, Connected space, Contraction mapping, Cotangent space, Compactification (mathematics), Complete metric space, Dual space, Dimension, Differential geometry, Dynamical system, Euclidean space, Functor, Functional analysis, Hausdorff space, Homeomorphism, Hahn-Banach theorem, Hausdorff dimension, Isomorphism, Inner product space, Klein bottle, Linear map, Basis (linear algebra), Linear algebra, Metrization theorem, Metric space, Normed vector space, Net (mathematics), Sample space, Event (probability theory), Pointless topology, Product topology, Riesz representation theorem, Rank (linear algebra), Space, Sequence, Separable space, Surface (topology), Symplectic manifold, Spandrel, Spinor, Subspace, Topology, Tensor,\n",
      "\n",
      "Cluster 134 titles: Agrarianism, Antarctic Treaty System, Australian Labor Party, Australian Democrats, Anton Drexler, National Alliance (Italy), Bal Thackeray, Big Brother (Nineteen Eighty-Four), British National Party, Liberal Party (UK), Bolsheviks, Politics of Canada, Christian Social Union in Bavaria, Cornish Nationalist Party, Coalition government, Country Liberal Party, Conservatism, Communist Party of China, Communist Party of the Soviet Union, Conciliation, Democratic Progressive Party, Europe of Democracies and Diversities, European United Left-Nordic Green Left, Alliance of Liberals and Democrats for Europe Party, European Free Alliance, Euroscepticism, Engelbert Dollfuss, Free Democratic Party (Germany), Fine Gael, Floor leader, Fianna Fáil, Alliance 90/The Greens, Politics of India, Green Party (Ireland), Politics of Japan, Kyoto Protocol, Kuomintang, Konstantin Chernenko, Klement Gottwald, Politics of Latvia, Politics of Libya, Politics of Luxembourg, Liberal Party of Australia, Leninism, Mebyon Kernow, Mediation, Mario Berlinguer, Michele Columbu, Nasjonal Samling, Nazi Party, Natural Law Party, National Party of Australia, Neil Kinnock, Nomenklatura, Non-disclosure agreement, Negotiation, Nikolai Bukharin, Official Monster Raving Loony Party, Organization of the Communist Party of the Soviet Union, Politics of China, Party of Democratic Socialism (Germany), Post-communism, Politics of Puerto Rico, Party-list proportional representation, Party, Civic Platform, Political party, Party of European Socialists, Paavo Lipponen, Politburo, Socialism, Shiv Sena, Politics of Samoa, Politics of Switzerland, Politics of Syria, Sinn Féin, Democratic Left Alliance, Scottish National Party, Time constraint, Politics of Tajikistan,\n",
      "\n",
      "Cluster 135 titles: Alternate history, Annales school, Andrea Alciato, C. Northcote Parkinson, Cultural production and nationalism, Chinese historiography, Chronicle, Edward Gibbon, Frederick Copleston, Great man theory, Historical revisionism, Historiography, Historian, Herodotus, History painting, Historicism, Jordanes, John Stevens Cabot Abbott, Karl Böttiger, Livy, Marc Bloch, Oral history, Procopius, Polybius, Psychohistory, Historical negationism, Sima Qian,\n",
      "\n",
      "Cluster 136 titles: Miss Marple, Arnold Schwarzenegger, Ardal O'Hanlon, Adam Carolla, Blythe Danner, Billy Crystal, Bruce Campbell, Bill Macy, Bill Mumy, Bela Lugosi, Chris Morris (satirist), Caitlin Clarke, Chris Sarandon, Carol Kane, Christopher Guest, Calista Flockhart, The Amazing Criswell, David Janssen, Dwight Schultz, Dirk Benedict, Denis Leary, Danny Kaye, Dana Plato, Elizabeth Gracen, Eve Arden, Eli Wallach, Fred Savage, Gary Coleman, Groucho Marx, George Peppard, Gene Hackman, Gavin MacLeod, Graham Chapman, Gary Busey, Harry Secombe, Izabella Scorupco, Ian McKellen, Joshua Jackson, Johnny Got His Gun, John Cleese, James Spader, Jim Henson, John Fink, John Belushi, Jason Alexander, Jon Voight, Johnny Weissmuller, Kyle MacLachlan, Kabir Bedi, Kelsey Grammer, Koo Stark, Keystone Cops, Khandi Alexander, Katina Paxinou, Kimberly Beck, Lee Marvin, Lou Ferrigno, Lee Van Cleef, Monty Python, Mr. T, Michael Palin, Marx Brothers, Miranda Richardson, Mel Smith, Mary Tyler Moore, Norma MacMillan, Pamela Anderson, Peter Cook, Peter Falk, Paul Reubens, Patrick Macnee, Rob Reiner, Shannon Elizabeth, Sarah Michelle Gellar, Sid James, Sweeney Todd, Tiffani Thiessen,\n",
      "\n",
      "Cluster 137 titles: AOL, American Registry for Internet Numbers, Active Directory, BBC Red Button, Conscription, Canadian Unitarian Council, Digital Access Signalling System 1, Defense Distinguished Service Medal, Transport in Equatorial Guinea, Telecommunications in the Falkland Islands, Hydrofoil, Hotel, HMS Hercules, Tertiary sector of the economy, Transport in Ireland, Knowbot Information Service, Reference desk, Limited-stop, MV Tampa, OSGi, Pasporta Servo, Post office, QSIG, Railway Mail Service, Service mark, Economy of Saint Helena,\n",
      "\n",
      "Cluster 138 titles: Politics of Angola, Politics of Antigua and Barbuda, Politics of Armenia, Government of Barbados, Government of Belarus, Politics of Bosnia and Herzegovina, Politics of Botswana, Politics of Brazil, Politics of Burkina Faso, Politics of Burundi, Bank of Italy, Constitution, Politics of Chad, Politics of Cambodia, Politics of Cameroon, Politics of the Central African Republic, Foreign relations of Costa Rica, Politics of Ivory Coast, Politics of Cyprus, Constitutional monarchy, Politics of Colombia, Politics of the Czech Republic, Politics of the Comoros, Constitution of Canada, Constitution of Chile, Democracy, Politics of the Democratic Republic of the Congo, Politics of Djibouti, Politics of Ecuador, Politics of Equatorial Guinea, Politics of Eritrea, Politics of Estonia, Executive (government), Politics of Finland, Politics of the Federated States of Micronesia, Federalism, Politics of Gabon, Gabon, Politics of Georgia (country), Politics of Greece, Politics of Greenland, Politics of Grenada, Politics of Guatemala, Politics of Guinea, Politics of Guinea-Bissau, Government, Governor-General of Australia, Politics of Honduras, Politics of Hong Kong, Politics of Hungary, Head of state, Politics of Indonesia, Politics of the Republic of Ireland, Politics of the Isle of Man, Politics of Jamaica, Politics of Jordan, Politics of Kazakhstan, Politics of Kenya, Government of Kuwait, Politics of Kyrgyzstan, Politics of Laos, Politics of Lesotho, Politics of Liberia, Politics of Liechtenstein, Politics of Lithuania, Politics of Macau, Politics of North Macedonia, Politics of Malaysia, Politics of Mali, Politics of Mauritius, Politics of Mayotte, Politics of Moldova, Politics of Monaco, Politics of Montserrat, Politics of Myanmar, Politics of Namibia, Politics of Nauru, Politics of Nepal, Politics of New Caledonia, Politics of Nicaragua, Politics of Niger, Federal government of Nigeria, Oath of office, Politics of Oman, Politics of Pakistan, Politics of Palau, Politics of Panama, Politics of Papua New Guinea, Politics of Paraguay, Politics of the Philippines, Prime minister, Prime Minister of India, Politics of Qatar, Politics of the Republic of the Congo, Republic, Politics of Réunion, Politics of Rwanda, Politics of Russia, Responsible government, Politics of South Korea, History of South Korea, Politics of Saint Helena, Politics of San Marino, Politics of São Tomé and Príncipe, Politics of Senegal, Politics of Sierra Leone, Politics of Slovenia, Politics of Somalia, Politics of South Africa, Politics of Spain, Politics of Sri Lanka, Politics of Sudan, Politics of Suriname, Sejm, Separation of powers, Politics of Thailand, Politics of Togo, Politics of Tonga, Politics of Turkey, Politics of Turkmenistan,\n",
      "\n",
      "Cluster 139 titles: Alberta, Aberdeenshire, Aalborg Municipality, Area, Andes, Amaryllis, Natural history of Africa, Australian Capital Territory, Angus, Scotland, Abercarn, Aberdour, Aberfoyle, Stirling, Abersychan, Akihabara, Interior Alaska, Achduart, Outback, Bay of Quinte, Galjoen, Balsall Heath, Barbagia, County Fermanagh, Canadian Shield, Cambridgeshire, Cheddar, Somerset, County Dublin, Cotswolds, Cholistan Desert, London Borough of Croydon, Cheshire, Crete Senesi, Costa Smeralda, Chianti, Dumbarton Bridge (California), Dartmoor, Devon, London Docklands, European route E4, Ebor, New South Wales, Forest, Granville, New South Wales, Great Victoria Desert, Gosford, Hampshire, Hertfordshire, Counties of Ireland, Papua (province), Jackson County, Michigan, Kent, Kangchenjunga, Kalahari Desert, Krugerrand, Kinglassie, Kalat, Pakistan, Roxen, Lower Peninsula of Michigan, Lamorna, Aoraki / Mount Cook, Maasai Mara, Lesser Poland Voivodeship, Millbridge, Plymouth, Mount Baker, Province of Massa and Carrara, Northern Territory, New South Wales, New Malden, Plain, Mutley Plain, Pacific Beach, San Diego, Premier of New South Wales, Pretoria, Rocky Mountains, Roslagen, Roppongi, South Australia, South Korea, Geography of San Marino, Surface area, Suffolk, Steradian, Soweto, South Holland, Sherwood Forest, Serengeti, Snowy Mountains, Scottish Highlands, Simpson Desert, Southcentral Alaska,\n",
      "\n",
      "Cluster 140 titles: Plum pudding model, BMW, Bohr model, Bentley, Ferrari, Golgi apparatus, Grand Unified Theory, Holden, Harley-Davidson, Information retrieval, AMD K6, Linear model, Lexus, Mitsubishi A6M Zero, Rail transport modelling, Mathematical model, Nuclear winter, Opel, Object-modeling language, Pocketbike racing, Porsche 928, Porsche 924, Porsche 968, Porsche 356, PowerBook, Revolver, Rickenbacker, Škoda Auto, Statistical model, Stimulus-response model, Statistical assumption, IBM System/360, Subaru Forester, Speech recognition,\n",
      "\n",
      "Cluster 141 titles: Archimedean solid, Bipyramid, Cahn-Ingold-Prelog priority rules, Cuboctahedron, Cube, Dodecahedron, Dual polyhedron, Regular icosahedron, Icosidodecahedron, Johnson solid, Kepler-Poinsot polyhedron, Octahedron, Polytope, Polyhedron, Polytope compound, Prismatoid, Platonic solid, Parallelepiped, Planar graph, 4-polytope, Rhombicuboctahedron, Smiley,\n",
      "\n"
     ]
    },
    {
     "name": "stdout",
     "output_type": "stream",
     "text": [
      "Cluster 142 titles: Abdul Alhazred, Aaron, Afterlife, Abraham, Asgard, Álfheimr, Ask and Embla, Alcmene, Amalric of Bena, Amram, Anaxarchus, Anaxagoras, Andocides, Ānanda, Ark of the Covenant, Abba Arika, Abbahu, Ahimsa, Amphisbaena, Armageddon, Androphagi, Gautama Buddha, Bifröst, Baldr, Bodhidharma, Book of Proverbs, Book of Hosea, Book of Obadiah, Circe, Childe's Tomb, Cerberus, Callisto (mythology), Cuauhtémoc, Covenant-breaker, Death, Death metal, Draupnir, Draugr, Devil, Dragon, Dune Messiah, Donn, Danse Macabre, Dagome iudex, Enlil, Elijah, Ezekiel, Epitaph, Fenrir, Freyr, Freyja, Frigg, Forseti, Four Noble Truths, Father Christmas, Geri and Freki, Gospel of Barnabas, Gospel of Mark, Gospel of Matthew, Ghost, Book of Genesis, Goddess, Götterdämmerung, Garden of Eden, Gilgamesh, Hypnos, Huginn and Muninn, Heimdallr, Hel (being), Hero, Hadith, Heaven, Heracles, Hollow Earth, Höðr, Haddocks' Eyes, Horned God, Hengist and Horsa, Henotheism, Incest, Imhotep, Imbolc, Inquests in England and Wales, Islamic eschatology, Iblis, Judah ha-Nasi, Jötunheimr, Joshua, Jewish eschatology, Jahangir, Kaddish, Knock-knock joke, Guanyin, Kipsigis people, Knights Who Say Ni, Lagâri Hasan Çelebi, Loki, Book of Leviticus, La Malinche, Lilith, Muhammad, Bruces' Philosophers Song, Cheese Shop sketch, Mokele-mbembe, Moses, Mahabharata, The Morrígan, Minotaur, Menorah (Temple), Nirvana, Niflheim, Norns, Njörðr, Munkar and Nakir, Nicolas Chauvin, Old Glory, Osiris, Pythagoras, Pytheas, Parable of the Pearl, Philistines, Pope Silverius, Pāramitā, Ragnarök, Rurik, Samaritanism, Succubus, Skíðblaðnir, Sleipnir, Scylla, Simon Magus, Samaritans, Samhain, Sampo, Aos Sí, Generalissimo Francisco Franco is still dead, Sir Gawain and the Green Knight, Sigyn, Shiva, Sinners in the Hands of an Angry God, Troll, Mort,\n",
      "\n",
      "Cluster 143 titles: AK-47, Armour, Armoured fighting vehicle, Aircraft carrier, Assault gun, Armored car (military), Self-propelled anti-aircraft weapon, Tank destroyer, Artillery, Bomber, Bletchley Park, Battlecruiser, Battleship, Battle, Carbine, Cruiser, Cannon, RDX, Dog tag, Destroyer, Enigma machine, Electrical telegraph, Escort carrier, Fighter aircraft, Frigate, Firearm, Gas mask, W. Heath Robinson, Howitzer, Intercontinental ballistic missile, Infantry fighting vehicle, Italian battleship Giulio Cesare, Jeep, Katyusha rocket launcher, Krag-Jørgensen, Luftwaffe, Finnish markka, Missile, Machine gun, Motorcycle, M16 rifle, Machine pistol, Molotov cocktail, Navy, Nerve agent, Napalm, Naval mine, Office of Strategic Services, Pegasus, Pickelhaube, Plastic explosive, Quisling, Rifle, Rocket-propelled grenade, Shotgun, Sword, Sniper, Submachine gun, Self-propelled artillery, Submarine, Special Operations Executive, Sabotage, Tank,\n",
      "\n",
      "Cluster 144 titles: Axiom, Applied ethics, Alexander Grothendieck, Acid-base reaction, Bundle theory, Leg theory, BCS theory, Combinatorics, Conspiracy theory, Constellations (journal), Consequentialism, Category theory, Chemical bond, Continental drift, Covalent bond, Chaos theory, Darwinism, Discrete mathematics, David Deutsch, Emotion, Felix Hausdorff, Falsifiability, Graviton, Gregory Chaitin, Gaia philosophy, Gödel's completeness theorem, Harmonic analysis, Huygens-Fresnel principle, Information theory, Instructional theory, Justice, Johannes Nicolaus Brønsted, Karl Popper, Kolmogorov-Arnold-Moser theorem, Learning theory (education), Mathematics, Meta-ethics, Mathematical logic, Model theory, M-theory, Niklas Luhmann, Number theory, Naive Set Theory (book), Neural Darwinism, Recapitulation theory, Proper name (philosophy), Pangenesis, Psychoanalysis, Primitive notion, Phlogiston theory, Phylogenetics, Post-structuralism, Punctuated equilibrium, Phonation, Quantum chromodynamics, Quantum field theory, Quantum gravity, Rational choice theory, Reliabilism, Robert Nozick, Syntax, String theory, Systems theory, Truth,\n",
      "\n",
      "Cluster 145 titles: The Plague, Hercule Poirot, Dodo (Alice's Adventures in Wonderland), Al Capp, Beachcomber (pen name), Batman, Banshee, The Beano, Bagpuss, Comic strip, Celebrity, Calvin and Hobbes, Children of Dune, Coronation Street, Car Talk, Clark Kent, Corum Jhaelen Irsei, Professor X, The Cider House Rules, Vladimir Harkonnen, Dilbert, Doonesbury, David Letterman, Doctor Syn, Dan DeCarlo, Daisy Duck, DC Comics, Davros, Dalek, EastEnders, Flying car, Fu Manchu, Father Dougal McGuire, Fantastic Four, Garfield, Galactus, High fantasy, Huey, Dewey, and Louie, Iceman (Marvel Comics), James Randi, Jay Leno, Jean Grey, Jack Kirby, Kinky Friedman, The Katzenjammer Kids, Kermit the Frog, Kryptonite, Lord Peter Wimsey, Little Nemo, Lois Lane, Lex Luthor, Microserfs, Megatokyo, Shang-Chi, Michael Bentine, Mickey Mouse, Marvel Comics, Marvel Universe, Vorkosigan Saga, Mad (magazine), Cryptonomicon, Punch and Judy, Playboy, The Three Stigmata of Palmer Eldritch, Time Out of Joint, The Night's Dawn Trilogy, Pellucidar, Ringworld, Roger the Dodger, Retroactive continuity, Rachel Summers, B'Elanna Torres, Sonic screwdriver, Steampunk, Spider-Man, Sontaran, Survivor: Africa, Spoonerism, Spawn (comics), Sentinel (comics), Marge Simpson, The Singularity (Agents of S.H.I.E.L.D.), The Hound of the Baskervilles, TARDIS,\n",
      "\n",
      "Cluster 146 titles: International Atomic Time, Clock, ΔT, Ephemeris time, Gallifrey, Greenwich Mean Time, Goodtimes virus, Hour, Ithaca Hours, ISO 8601, Linear timecode, Leap second, Minute, MIDI timecode, Prime time, Pendulum clock, Second, Session Description Protocol, Speed, The Time Machine, Time,\n",
      "\n",
      "Cluster 147 titles: Audi, Analytical Engine, Biomedical engineering, Charles Babbage, Civil engineering, Chemical engineering, Carnot heat engine, Charles Proteus Steinmetz, Clutch, Military engineering vehicle, Compression ratio, Control engineering, Crankshaft, Difference engine, Diesel cycle, Diesel engine, Ducati Motor Holding S.p.A., DKW, Engineering, Electrical engineering, Engine, Felix Wankel, Fabio Taglioni, McDonnell FH Phantom, Ford GT40, Geotechnical engineering, Genetic engineering, George Stephenson, Heat engine, Horsepower, HOTOL, Hawker Harrier, Inventor, Jet engine, Jetsprint, James Watt, Jack Brabham, Karl Benz, Mechanical engineering, Messerschmitt Me 262, Meta element, Ignition magneto, Porsche 944, Porsche 912, Impulse drive, Permanent Way Institution, Piston, Reciprocating engine, Rudolf Diesel, Rotary engine, Rainhill Trials, Rocket, Ramjet, Software Engineering Institute, Software engineering, Steam engine, Systems engineering, Search engine (computing), Nicolas Léonard Sadi Carnot, Maritime transport, Software Engineering Body of Knowledge, Safety engineering, STOVL, Single-stage-to-orbit,\n",
      "\n",
      "Cluster 148 titles: Affirming the consequent, Biconditional introduction, Biconditional elimination, Conditional proof, Conjunction introduction, Chomsky normal form, Disjunctive syllogism, Disjunction introduction, Disjunction elimination, Epimenides paradox, First-order logic, Frame problem, Original proof of Gödel's completeness theorem, Relativist fallacy, Liar paradox, LR parser, Propositional calculus, L'Hôpital's rule, Modus ponens, Modus tollens, Morphophonology, Paradox, Proof by contradiction, Rule of Saint Benedict, Soundness, Slide rule,\n",
      "\n",
      "Cluster 149 titles: Altruism, Analysis, Acoustics, Arachnophobia, Alternative medicine, Alexander Technique, Ayahuasca, Romantic orientation, Attribution of recent climate change, Bigfoot, Genetically modified maize, BDSM, B. F. Skinner, Coitus interruptus, Chemist, Consciousness, Traditional Chinese medicine, Cryonics, Reaction kinetics in uniform supersonic flow, Carl Rogers, Clairvoyance, Critical psychology, Dianetics, Diagnostic and Statistical Manual of Mental Disorders, N,N-Dimethyltryptamine, Déjà vu, Developmental psychology, Dementia praecox, Empirical research, Egoism, Expert, Etiology, Econometrics, Extrasensory perception, Environmental skepticism, Football player, Flaming (Internet), Fear, Free-running sleep, Formant, Fellatio, Geology, Genius, Gregor Mendel, Gossip, Griffith's experiment, Global warming controversy, Habitus (sociology), Heterosexuality, Human sexual activity, Hypnotherapy, Hypnosis, Internet troll, Intergovernmental Panel on Climate Change, Differential psychology, Industrial and organizational psychology, Joke, Kōan, Kundalini, Kinsey Reports, Leisure, Sampling bias, Relative direction, Lucid dream, Medicine, Milgram experiment, Mental disorder, Mind map, Miller-Urey experiment, Neurology, Neuroscience, Neurosurgery, Nuremberg Code, Fertility awareness, Psychology, Phobia, Philosophy of perception, Paraphilia, Philately, Psychophysiology, Parapsychology, Phenetics, Psychology of torture, Peter principle, Paranoia, Polyamory, Peppered moth, Persuasion, Psychotherapy, Personality psychology, Pearl Index, Prayer, Polymath, Perception, Conversion therapy, Retirement, Scientific method, Social psychology, Sanity, Stendhal syndrome, Stanley Milgram, Social epistemology, Subud, Sequencing, Stethoscope, Stereochemistry, Sex worker, Seismology, Sexual orientation, Social dynamics, Telepathy,\n",
      "\n",
      "Cluster 150 titles: Astronomer Royal, Buckingham Palace, Ceres Brewery, Davy lamp, Edward Jenner, E. H. Shepard, Frederick Abel, Heart of Oak, HMS Dreadnought, HMS Resolution, HMS Ark Royal, Prince Harry, Duke of Sussex, Johann Friedrich Endersch, Jan Borukowski, Joseph Lister, Kansas City Royals, King's Royal Rifle Corps, Loonie, Michael Faraday, Diana, Princess of Wales, Victoria, Crown Princess of Sweden, Plymouth Hoe, Royal Navy, Royal Botanic Gardens, Kew,\n",
      "\n",
      "Cluster 151 titles: Cambrian, Carboniferous, Cretaceous, Cenozoic, Climate, Devonian, Deccan Traps, Ediacaran, Eocene, Extinction event, El Niño, Holocene, Ice age, Jurassic, Mississippian (geology), Miocene, Mesozoic, Neogene, Neoproterozoic, Ordovician, Oligocene, Pennsylvanian (geology), Permian, Paleozoic, Pliocene, Pleistocene, Paleogene, Precambrian, Periodization, Phanerozoic, Permian-Triassic extinction event, Quaternary, Silurian, Supervolcano, Supercontinent, Snowball Earth, Triassic, Tertiary,\n",
      "\n",
      "Cluster 152 titles: Advance Australia Fair, Anthem, National Anthem of Chile, Corrado Gini, Delicate Arch, Dartmoor Preservation Association, European Convention on Nationality, First National Pictures, Flag, Fatherland, Gettysburg Address, Hen Wlad Fy Nhadau, Homeland, Israeli Declaration of Independence, Kitt Peak National Observatory, League of Nations mandate, Transport in Morocco, Poland Is Not Yet Lost, Foreign relations of Niger, National Geographic Society, Nationality, Nation state, Nation of Islam, Nation, Nationalism, National flag, National park, National Lampoon (magazine), National War College, O Canada, Passport, Patriotism, Romantic nationalism, Six Nations Championship, Foreign relations of Eswatini, Special administrative regions of China, Sylvia Sayer, Principality of Sealand,\n",
      "\n",
      "Cluster 153 titles: Boxing, Ballu tundu, Flipper (cricket), Mojo (African-American culture), Mahjong, Poker, Bug (poker), High-low split, Kicker (poker), Showdown (poker), One player to a hand, Cards speak, Declaration (poker), Value (poker), Protection (poker), Nut hand, Out (poker), Position (poker), Steal (poker), Isolation (poker), Starting hand, Draw (poker), Pot odds, Freeroll, Aggression (poker), Omaha hold 'em, Shuffling, Pai gow, Pai gow poker, Pankration, Split (poker), SignWriting,\n",
      "\n",
      "Cluster 154 titles: Asia, Alps, Angles, Arabs, Canton of Aargau, Azad Kashmir, Andalusia, Albanians, Bohemia, Balts, Basques, Balochistan, Pakistan, Balkans, Bengal, Central Europe, Cornwall, County Mayo, Central Asia, Diaspora, Europe, Flanders, Friesland, Franconia, Far East, Frisians, Galilee, Galicia (Spain), Holland, History of the Netherlands, Hazaras, Iberian Peninsula, Irredentism, Kickapoo people, Kurds, Kaliningrad Oblast, Kashmir, Levant, Lake Balaton, Laconia, Lower Mainland, Limburg (Netherlands), Lazio, Lesser Poland, Middle East, Moravia, Northwest Territories, North Africa, Khyber Pakhtunkhwa, Ontario, Opole Voivodeship, Oromo people, Palestinians, Punjab, Punjab, Pakistan, Piedmont, Romani people, Rajasthan, South America, Scandinavian Peninsula, Sub-Saharan Africa, Sámi people, Sinai Peninsula, Sápmi, Sudetes, Southeast Asia, Silesian Voivodeship, Sindh, Sinhalese people, Slavs, Siberia,\n",
      "\n",
      "Cluster 155 titles: Arizona Cardinals, Atlanta Falcons, Arizona Diamondbacks, Atlanta Braves, American Football League, Hit by pitch, Baseball, History of baseball in the United States, British and Irish Lions, Bernie Federko, Bill Walsh (American football coach), Babe Ruth, Baltimore Ravens, Buffalo Bills, Baltimore Orioles, Boston Red Sox, Bud Selig, Bob Knight, Bert Bell, Bob Costas, Casey at the Bat, Chicago White Sox, Cleveland Browns, Cincinnati Bengals, Carolina Panthers, Chicago Bears, Colorado Rockies, Cleveland Indians, Chicago Cubs, Cincinnati Reds, College football, Dallas Cowboys, Denver Broncos, Detroit Lions, Detroit Tigers, Detroit Red Wings, Fenway Park, Miami Marlins, Green Bay Packers, Houston Texans, Houston Astros, Indianapolis Colts, Jacksonville Jaguars, Jackie Robinson, Kenesaw Mountain Landis, Sporting Kansas City, Kareem Abdul-Jabbar, Los Angeles Dodgers, Miami Dolphins, Minnesota Twins, Minnesota Vikings, Milwaukee Brewers, Montreal Expos, Michael Jordan, National Football League, New York Jets, New England Patriots, New York Mets, New Orleans Saints, New York Giants, National Hockey League, National Basketball Association, Oakland Raiders, Ottawa Senators, Ozzie Smith, Philadelphia Eagles, Pittsburgh Steelers, Philadelphia Phillies, Pittsburgh Pirates, Pedro Martínez, Roberto Clemente, Roger Clemens, Rube Foster, Sonic Team, Los Angeles Chargers, San Francisco 49ers, Seattle Mariners, Super Bowl, Seattle Seahawks, San Diego Padres, San Francisco Giants, Satchel Paige, Shea Stadium,\n",
      "\n",
      "Cluster 156 titles: Ahmed II, Alexander II of Epirus, Alexander Aetolus, Alexios II Komnenos, Amasis II, Alphons, Andronikos II Palaiologos, Alexius, Apple II series, Adelaide of Italy, Abbas II of Egypt, Abd al-Rahman II, Abdülaziz, Bayezid II, Constantine II (emperor), Cuitláhuac, Diogo Cão, Della Rovere, Francis II, Hedwig of Silesia, Judith of Poland, Leo III the Isaurian, Mehmed the Conqueror, Murad II, Mehmet Ali Ağca, Mieszko II Lambert, Osman II, Polymerase, Pope Alexander II, Pope-elect Stephen, Pope Adrian II, Pope Agapetus II, Pope Anastasius IV, Pope Anastasius II, Pope Honorius II, Pope Marinus I, Pope Marinus II, Ptolemaic dynasty, Pope Benedict II, Pope Benedict VII, Pope Benedict VIII, Pope Boniface II, Antipope Boniface VII, Pope Pius III, Pope Pius II, Pope Celestine II, Pope Celestine IV, Pope Gregory V, Pope Gregory IX, Pope Callixtus II, Pope Sixtus II, Pope Stephen IX, Pope Victor II, Pope Innocent II, Pope Theodore II, Pope Sylvester II, Premier of Victoria, Anastasios II, Selim II,\n",
      "\n"
     ]
    },
    {
     "name": "stdout",
     "output_type": "stream",
     "text": [
      "Cluster 157 titles: Abensberg, Anbar (town), Anah, Aalen, Abae, Aeclanum, Abertillery, Abergavenny, Accrington, Alexandria, West Dunbartonshire, Transport in the British Virgin Islands, Barcelonnette, Boone, North Carolina, Bodmin, Bamberg, Chojnów, Cape Town, County town, Cluny, Dartmouth, Devon, Dedham, Massachusetts, Dachau, Enniskillen, Emsworth, Fairmount, Indiana, Fort William, Highland, Guernica, Gilbert Plains, Gavoi, Hilter, Helsingborg Municipality, Hilversum, Hradčany, Hastings, Hanover, New Hampshire, Hultsfred Municipality, Hawick, Hatfield, Hertfordshire, Harwich, Harwich, Massachusetts, Hedeby, Hamar, Kingston upon Thames, Kajang, Kemp Town, Knaresborough Castle, Lincoln, New Hampshire, Longmeadow, Massachusetts, Limburg an der Lahn, Landau, Maser, Montauban, Montalcino, Merseburg, Oelde, People Against Gangsterism and Drugs, Posada, Sardinia, Padstow, Quedlinburg, Quantico, Virginia, Rungholt, Rosmalen, Stow-on-the-Wold, Sigtuna Municipality, Srebrenica, Scansano,\n",
      "\n",
      "Cluster 158 titles: Foreign relations of Armenia, Extreme poverty, Foreign relations of Bosnia and Herzegovina, Foreign relations of Botswana, Foreign relations of Chad, Foreign relations of Cambodia, Foreign relations of Cape Verde, Politics of Chile, Foreign relations of Colombia, Foreign relations of the Dominican Republic, Foreign relations of Eritrea, Esperantujo, Food and Agriculture Organization, Foreign relations of the Federated States of Micronesia, Foreign relations of Grenada, Foreign relations of Guyana, Global Climate Coalition, Holy See, Foreign relations of Hungary, Foreign relations of Iraq, International Telecommunication Union, Intergovernmental organization, International Mathematical Union, International Union of Pure and Applied Chemistry, International Astronomical Union, International Tropical Timber Agreement, 1983, International Tropical Timber Agreement, 1994, International Atomic Energy Agency, ICANN, International Refugee Organization, Foreign relations of Jamaica, Foreign relations of Latvia, Foreign relations of Lesotho, Foreign relations of Liechtenstein, Foreign relations of Lithuania, Lions Clubs International, Foreign relations of Madagascar, Foreign relations of Malawi, Foreign relations of Mali, Foreign relations of the Netherlands, Foreign relations of Namibia, Foreign relations of Nicaragua, Foreign relations of Nigeria, North Atlantic Salmon Conservation Organization, Organization of Asia-Pacific News Agencies, Organization of American States, Organization for Security and Co-operation in Europe, Foreign relations of Panama, Foreign relations of Paraguay, Politics of Peru, Foreign relations of the Republic of the Congo, Foreign relations of Saint Lucia, Foreign relations of Saint Vincent and the Grenadines, Foreign relations of San Marino, Foreign relations of Senegal, Foreign relations of Somalia, Foreign relations of Suriname, Foreign relations of Syria, Scouting, Foreign relations of Tajikistan, Foreign relations of Turkmenistan,\n",
      "\n",
      "Cluster 159 titles: Alder, Acacia sensu lato, Agapanthus africanus, Amaranth, Aloe, Biennial plant, Bay leaf, Chervil, Chives, Nepeta, Coffea, Celery, Aquilegia, Dill, Datura, Ceiba pentandra, Kohlrabi, Protea cynaroides, Kumquat, Kalmia latifolia, Lemon balm, Marjoram, Mentha, Mimosa, Oregano, Orchidaceae, Peppermint, Parsley, Asimina, Pear, Rosemary, Podocarpus latifolius, Spearmint, Satureja, Sorrel, Thyme, Herbal tea,\n",
      "\n",
      "Cluster 160 titles: Ampere, Agarose gel electrophoresis, Anode, Ammeter, Electric current, Cathode, Cathode ray, Diode, Electron, Electricity, Electrochemistry, Electric charge, Electrode, Electrochemical cell, Gel electrophoresis, Hall effect, Inductor, Ionic bonding, Isoelectric point, Leyden jar, Multivibrator, North Atlantic Current, Operational amplifier, Particle radiation, Polyatomic ion, Scanning tunneling microscope, Transistor,\n",
      "\n",
      "Cluster 161 titles: Alain Connes, Agricultural science, Arne Kaijser, André-Marie Ampère, Benoit Mandelbrot, Bliss bibliographic classification, Bill Bryson, Cognitive science, Carl Sagan, Colon classification, Creation science, Claude Louis Berthollet, David Brewster, First Fandom, Futurians, Fossil Record, Friedrich Bessel, Gerald Schroeder, History of science and technology, History of science, International Council for Science, Junk science, Science and technology in Jamaica, John von Neumann Theory Prize, James P. Hogan (writer), K. Eric Drexler, Ken MacLeod, Karl Ernst von Baer, Large technical system, Leon M. Lederman, Logical positivism, Mathematician, Michael Polanyi, Museum of Jurassic Technology, Norman Hackerman, Pseudoscience, Peter Nilson, Protoscience, Political science, Pathological science, Paradigm shift, Richard Smalley, Roald Hoffmann, Science, Social science, Science fiction, Scientist, Sture Allén, Slow fire, Sokal affair, Sultan Bashiruddin Mahmood, Science fiction fandom, Relationship between religion and science, Science & Environmental Policy Project, Scientific American, Stephen Schneider, Tor Nørretranders,\n",
      "\n",
      "Cluster 162 titles: Acorn Electron, Accelerated Graphics Port, Athlon, Amiga 1000, Accumulator (computing), Binary prefix, Buffer overflow, BIOS, Central processing unit, Computer data storage, Control unit, Control store, Bus (computing), Computer multitasking, Cyrix 6x86, Complex instruction set computer, Data General Nova, DEC Alpha, Field-programmable gate array, Gigabyte, Intel 80286, Intel 8088, Intel 8080, Intel 8086, Instruction register, Intel 80386, Intel 80486, Intel 80188, Jupiter Ace, Microprocessor, MVS, Microcode, Microkernel, MIPS architecture, Motorola 68000, MOS Technology 6510, Motorola 68020, Motorola 68030, Motorola 68040, Motorola 68060, Freescale 68HC11, Motorola 6809, Microcontroller, Mach (kernel), Roland Octapad, Original Chip Set, PDP-10, PDP-8, PDP-11, P5 (microarchitecture), Real-time operating system, Reduced instruction set computer, StrongARM,\n",
      "\n",
      "Cluster 163 titles: All Souls' Day, Arbor Day, Boxing Day, Canada Day, Christmas in Poland, Doris Day, Day, Equinox, Holiday, Jewish holidays, Labour Day, Lammas, Liberation Day (Netherlands), May Day, Moveable feast, Mole Day, Passover, Parade, Pi Day, Sabbath in Christianity, Solstice, Sukkot, Shabbat, Shiva (Judaism), Summer, Tax Freedom Day,\n",
      "\n",
      "Cluster 164 titles: Animation, Animal Farm, Anime, Animism, Anus, Lhop people, Bluetongue disease, Beast of Bodmin Moor, Bunyip, Bestiary, Bokken, Cryptozoology, Chupacabra, Camouflage, Cow tipping, Carnivore, Computer animation, Cartoon, Chuck Jones, Coprophagia, Desmond Morris, Ethology, Fable, Franz Mesmer, Gestation, Hentai, Warm-blooded, Invertebrate, Koala, KISS principle, Knights of the Lambda Calculus, Katsuhiro Otomo, Linnaean taxonomy, Lascaux, Meat, Model organism, Masamune Shirow, Maremma, Naoko Takeuchi, Otaku, Otaku no Video, World Organisation for Animal Health, Do Androids Dream of Electric Sheep?, Peter Singer, Phantom kangaroo, Pet, Quadrupedalism, Rift Valley fever, Stop motion, Superfetation, Speciesism, International Society of Cryptozoology,\n",
      "\n",
      "Cluster 165 titles: Mouthwash, Aspirin, Acupuncture, Antibiotic, Ampicillin, Antimicrobial resistance, Analgesic, Audio signal processing, Auger effect, Antidepressant, Amphetamine, Antidiarrhoeal, Antacid, ACE inhibitor, Anxiolytic, Amoxicillin, Antipsychotic, Amyl nitrite, Amygdalin, Acid rain, Butterfly effect, BCG vaccine, Benzodiazepine, Condom, Cognitive behavioral therapy, Chloramphenicol, Ciprofloxacin, Caffeine, Carbamazepine, Chemotherapy, Cocaine, Chiropractic, Alcohol intoxication, Domino effect, Major depressive disorder, DDT, Recreational use of dextromethorphan, MDMA, Erythromycin, Experimental cancer treatment, Effects unit, Flunitrazepam, Greenhouse effect, General anaesthetic, Gamma-Hydroxybutyric acid, Hydrostatic shock (firearms), High-density lipoprotein, Heroin, Hypnotic, Homeopathy, Hydrocodone, Inhalant, Ketoprofen, Ketamine, Lysergic acid diethylamide, Lycopene, Emergency contraception, Mood stabilizer, Macrolide, Morphine, Modafinil, Monoamine oxidase inhibitor, Methadone, Migraine, Nitrogen narcosis, Nonsteroidal anti-inflammatory drug, Omega-3 fatty acid, Oxycodone, Pharmacology, Proton-pump inhibitor, Phencyclidine, Pauli effect, Quinine, Recreational drug use, Radiation therapy, Synergy, Synchronization, Safe sex, Hyoscine, Sodium thiopental, Side effect (computer science),\n",
      "\n",
      "Cluster 166 titles: Telecommunications in Belgium, Telecommunications in Brazil, Telecommunications in the British Virgin Islands, Telecommunications in Brunei, Wireless broadband, BT Group, Telecommunications in Canada, Canadian Radio-television and Telecommunications Commission, Telecommunications in the Comoros, Communications in Afghanistan, Telecommunications in the Dominican Republic, Telecommunications in Egypt, Telecommunications in Ethiopia, Communications in Gibraltar, Communications in Guam, Telecommunications in Haiti, Communications in Hong Kong, Telecommunications in India, Communications in Indonesia, Telecommunications in the Republic of Ireland, Communications in the Isle of Man, Integrated Services Digital Network, Intelsat, Communications in Japan, Telecommunications in Jordan, Telecommunications in Kyrgyzstan, Telecommunications in Lebanon, Telecommunications in Liechtenstein, Local-loop unbundling, Telecommunications in Mauritius, Telecommunications in Moldova, Telecommunications in Mongolia, Telecommunications in Morocco, Telecommunications in Myanmar, Telecommunications in the Netherlands, Telecommunications in North Korea, Telecommunications in Nepal, Telecommunications in New Zealand, Communications in Niue, Telecommunications in Oman, Telecommunications in Pakistan, Telecommunications in Peru, Telecommunications in the Philippines, Personal Communications Service, Telecommunications in Russia, Telecommunications in Sweden, Telecommunications in South Korea, Telecommunications in Samoa, Telecommunications in Saudi Arabia, Telecommunications in Seychelles, Telecommunications in Singapore, Telecommunications in Slovakia, Communications in Somalia, Telecommunications in South Africa, Telecommunications in Sri Lanka, Telecommunications in Syria, Telefónica, Telecommunications in Tanzania, Telecommunications in Thailand, Telecommunications in Turkmenistan, Telecommunications in Tuvalu,\n",
      "\n",
      "Cluster 167 titles: Anthropology, Conservation-restoration of cultural heritage, Running amok, Cultural anthropology, Collectivism, Cultural imperialism, Civilization, Cemetery H culture, Divination, Ethnocentrism, Ethnology, Folklore, Flirting, Franz Boas, History of the ancient Levant, Infusoria, You have two cows, Klamath people, La Tène culture, Meme, Marshall McLuhan, Margaret Mead, Memetics, Nerd, Proverb, Postmodernism, Pearl, Proto-Indo-Europeans, Ruth Benedict, Shamanism, Semiotics, Syncretism, Tourism,\n",
      "\n",
      "Cluster 168 titles: Bilskirnir, Bash (Unix shell), Charles d'Abancour, Commandant of the Marine Corps, Charles C. Krulak, Claude Auchinleck, David Beatty, 1st Earl Beatty, HMS Beagle, HMS Dunraven, Harold Alexander, 1st Earl Alexander of Tunis, John Paul Jones, Sandy Woodward, John Jellicoe, 1st Earl Jellicoe, James L. Jones, Killer poke, In the Beginning... Was the Command Line, Nikolay Kuznetsov (officer), Pico (text editor), Richard Myers, Royal Australian Navy, Reichsmarine,\n",
      "\n",
      "Cluster 169 titles: Ancyra (genus), String Quartet No. 16 (Beethoven), Piano Trios, Op. 1 (Beethoven), Piano Trios, Op. 70 (Beethoven), Violin Sonata No. 5 (Beethoven), Symphony No. 9 (Beethoven), Cultural movement, Connection (dance), Environmental movement in the United States, Hasid (term), Carl Friedrich Abel, Luddite, Left-arm orthodox spin, La Espero, Lead and follow, Major scale, Minor scale, Orange Alternative, Stayman convention,\n",
      "\n",
      "Cluster 170 titles: Azincourt, Amalric, Arc de Triomphe, Antoine Thomson d'Abbadie, Bassas da India, Bastille Day, Battle of Ramillies, Bertrand Andrieu, Battle of Waterloo, Battle of Poitiers, Battle of Agincourt, Battle of the Nile, Baroque dance, Battle of Bouvines, Charles Ancillon, Espagnole sauce, Esbat, French language, French Guinea, Transport in French Polynesia, History of French Guiana, Politics of French Guiana, Demographics of French Guiana, French Polynesia, French materialism, French fries, French cuisine, French Foreign Legion, Gimlet (tool), Hilaire Rouelle, Historical African place names, Joual, Klaus Barbie, History of Laos, Mayotte, Maginot Line, Normandy, Québécois (word), Savate, Suprême sauce, Tarragon,\n",
      "\n",
      "Cluster 171 titles: Atomic physics, Condensed matter physics, Felix Bloch, John Hagelin, Karl Ferdinand Braun, Laser science, Mental event, Muonium, Murray Gell-Mann, Physics, Physical quantity, Physical constant, Particle physics, Physical geography, Physicist, Physicalism, Physical chemistry, Physical therapy, Robert Freitas, Statistical physics,\n",
      "\n"
     ]
    },
    {
     "name": "stdout",
     "output_type": "stream",
     "text": [
      "Cluster 172 titles: Ambiguity, Allah, Angst, Allophone, Affix, Australian English, Comparison of American and British English, Afghan, Abracadabra, British English, Basic English, Khmer language, Copula (linguistics), Cognate, Canadian English, English in the Commonwealth of Nations, Clitic, Collective noun, Rhyming slang, Clabbers, Dictionary, Dyslexia, Daoism-Taoism romanization issue, Dolmen, Daffynition, Longest word in English, Euphemism, Elf, English orthography, E-Prime, Esperanto grammar, West Flemish, Forth (programming language), Fart (word), False cognate, False friend, False etymology, Felsic, Gibberish, Great Vowel Shift, Grammatical conjugation, -gry puzzle, Modern Hebrew phonology, Hungarian language, Hiberno-English, Hoosier, Intension, International English, Infinitive, Jabberwocky, Kenning, Knout, Calligra Words, Loglan, Louchébem, Loch, Lexicography, Lexeme, Lexicology, Leet, Morpheme, Muslims, Midgard, Manner of articulation, Macaroni, Microsoft Word, Morphology (linguistics), New Zealand English, Newfoundland English, New Oxford American Dictionary, Oi (interjection), Onomatopoeia, Oxford English Dictionary, Oxymoron, Old Norse, Old English, Pig Latin, Phone (phonetics), Pun, Palindrome, Profanity, Parousia, Prefix, Pompatus, Passive voice, Pronoun, Retronym, Receptive aphasia, Rhyme, Received Pronunciation, Semantic dispute, Seat, Serendipity, Slang, Singular they, South African English, Simile, Split infinitive, Semantics, Sound change, Names of God in Judaism,\n",
      "\n",
      "Cluster 173 titles: Aircraft, Amplitude modulation, Anchor, Abd al-Rahman IV, Advanced Power Management, Amplifier figures of merit, Bogie, Bathyscaphe Trieste, Coal, CANDU reactor, Cruising (maritime), Diffusion pump, Electricity generation, Electronic oscillator, Amplifier, Fuel cell, Francis Gary Powers, Go-fast boat, Hoover Dam, Hero System, Indoor rower, Kariba Dam, Locomotive, Multihull, Microwave, Cavity magnetron, Nuclear reactor, Nuclear power, Orimulsion, Omnipotence, Pump, Propeller, Plough, Energy storage, Power (physics), Power Macintosh, Paradoxical intention, Prayer wheel, QRP operation, Radar, Resistor, Renewable energy, Relay, Ship, Soldering iron, Sailing, Solar energy, Switch, Slingshot, Scuba set, Skuld (Oh My Goddess!), Superconducting magnetic energy storage, Single-sideband modulation, Steam turbine, Sonar, S7G reactor, Tim Powers,\n",
      "\n",
      "Cluster 174 titles: Attila, Alypius of Antioch, Ambiorix, Ancus Marcius, Andriscus, Ambush, Act of Settlement 1701, Antipope Felix II, Aedicula, Aedui, Abdera, Spain, Burgundians, Batavi (Germanic tribe), Boii, Bastarnae, Bishopric of Brandenburg, Boudica, Roman Breviary, Battle of Abritus, Consul, Cimbri, Celts, Denarius, Diana (mythology), Epistle to the Romans, Quintus Fabius Maximus Verrucosus, First Punic War, Gladiator, Gnaeus Julius Agricola, Goths, Galatia, Gusana, Huns, Roman Britain, Hercules, Helvetii, Hannibal, Prince-elector, Josephus, Louis Aleman, Latin literature, Lupercalia, Lorica segmentata, Lucius Afranius (poet), Lusitania, Lupercal, History of Monaco, Marcus Claudius Tacitus, Minerva, Maroboduus, Marcomanni, Minestrone, Mithraism, Masada, Ostrogoths, Obelix, Pope Alexander I, Pope Leo III, Pope Anastasius III, Peace of Westphalia, Pope Benedict V, Pope Benedict VI, Pope Pius I, Pope Clement II, Pope Sixtus I, Pope Stephen IV, Pope Stephen VI, Pope Valentine, Punic Wars, Pope Felix I, Pecorino Romano, Roman Empire, Roman numerals, Romulus Augustulus, Roman Republic, Roman Missal, Roman roads, Roman legion, Roman Inquisition, Simon bar Kokhba, Servius Tullius, Second Punic War,\n",
      "\n",
      "Cluster 175 titles: Austrian School, Anarcho-capitalism, Adam Smith, Alcopop, Behavior, Crony capitalism, Capitalism, Central bank, Carl Menger, Classical liberalism, Consumer, Planned economy, Duopoly, Derivative (finance), Economics, Economic calculation problem, Cost-push inflation, Economic security, Economies of scale, Free to Choose, Factors of production, Frédéric Bastiat, Franchising, Fundamental analysis, Friedrich Hayek, Free market, Gustave de Molinari, Hyperinflation, Income, Joseph Schumpeter, James Tobin, Kondratiev wave, Keynesian economics, Labour economics, Microeconomics, Macroeconomics, Minimum wage, Monopolistic competition, Monopoly, Milton Friedman, Natural monopoly, NASDAQ, Neoclassical economics, Oligopoly, Ore, Perfect competition, Pawnbroker, Privatization, Recession, Ronald Coase, Reaganomics, Stagflation, Single market, Sustainable development, Supply and demand, Tax,\n",
      "\n",
      "Cluster 176 titles: Economy of Angola, Economy of Azerbaijan, Economy of American Samoa, Economy of Armenia, Economy of Alberta, Asian Development Bank, Economy of the Bahamas, Economy of Benin, Economy of Bhutan, Economy of Bosnia and Herzegovina, Economy of Botswana, Economy of Brunei, Economy of Brazil, Economy of Burkina Faso, Economy of Burundi, Economy of Bulgaria, Economy of Chad, Economy of Cambodia, Economy of Cameroon, Economy of the Central African Republic, Economy of Costa Rica, Economy of Croatia, Economy of Cuba, Economy of Cyprus, Economy of Colombia, Economy of the Czech Republic, Economy of the Democratic Republic of the Congo, Economy of Djibouti, Economy of Denmark, Economy of the Dominican Republic, Deforestation, Economy of Ecuador, Economy of El Salvador, Economy of Equatorial Guinea, Economy of Eritrea, Economy of Egypt, Economy of Estonia, Economy of Ethiopia, Economy of Afghanistan, Economy of Finland, Economy of the Federated States of Micronesia, Economy of Gabon, Economy of Georgia (country), Economy of Ghana, Economy of Gibraltar, Economy of Greenland, Economy of Grenada, Economy of Guinea, Economy of Greece, Gross domestic product, Economy of Haiti, Economy of Honduras, Economy of Hong Kong, Economy of Hungary, Industry, Secondary sector of the economy, Economy of Indonesia, Economy of Iraq, Economy of Israel, Economy of Italy, Industrial Revolution, Industrial espionage, Economy of Japan, Economy of Jamaica, Economy of Jordan, Economy of Kazakhstan, Economy of Kenya, Economy of Kuwait, Economy of Kyrgyzstan, Economy of Laos, Economy of Latvia, Economy of Lebanon, Economy of Lesotho, Economy of Liberia, Economy of Libya, Economy of Liechtenstein, Economy of Luxembourg, Economy of Macau, Economy of Malawi, Economy of the Maldives, Economy of Malaysia, Economy of Mali, Economy of Malta, Economy of Mauritania, Economy of Mauritius, Economy of Mexico, Economy of Moldova, Economy of Monaco, Economy of Mongolia, Economy of Montserrat, Economy of Morocco, Marshall Plan, Montreal Protocol, Economy of Myanmar, Economy of North Korea, Economy of Namibia, Economy of Nauru, Economy of Nepal, Economy of the Netherlands Antilles, Economy of Nicaragua, Economy of New Zealand, Economy of Niger, Economy of Nigeria, Economy of Oman, Economy of Poland, Economy of Palau, Economy of Pakistan, Economy of Paraguay, Economy of the Philippines, Economy of Peru, Perestroika, Economy of Qatar, Economy of the Republic of the Congo, Economy of Romania, Economy of Rwanda, Economy of Russia, Economy of South Korea, Economy of Saint Lucia, Economy of Saint Vincent and the Grenadines, Economy of Samoa, Economy of Senegal, Economy of Saudi Arabia, Economy of Seychelles, Economy of Sierra Leone, Economy of Slovakia, Economy of Slovenia, Economy of Somalia, Economy of South Africa, Economy of Spain, Economy of Sri Lanka, Economy of Sudan, Economy of Suriname, Economy of Eswatini, Economy of Switzerland, Economy of Syria, Economy of Taiwan, Economy of Tajikistan, Economy of Tanzania, Economy of Togo, Economy of Trinidad and Tobago, Economy of Thailand, Economy of Turkey, Economy of Turkmenistan,\n",
      "\n",
      "Cluster 177 titles: Audio file format, Asynchronous communication, Au file format, AutoCAD DXF, Byte, Business statistics, Biostatistics, Bioinformatics, Binary tree, Badtrans, Compact disc, Codec, CD-R, Cache (computing), Census, Code-division multiple access, Checksum, Committee on Data for Science and Technology, Data warehouse, Data compression, Descriptive statistics, Digital data, Database, Disk storage, Data set, Data structure, Database normalization, Data compression ratio, Engineering statistics, Exabyte, Error detection and correction, European Centre for Medium-Range Weather Forecasts, Floppy disk, FIFO (computing and electronics), FileMan, Geographic information system, Galileo (spacecraft), Hard disk drive, Interpolation, Information explosion, Internet Control Message Protocol, IBM 3270, Joint Interoperability of Tactical Command and Control Systems, Kateretes, Lossy compression, Lossless compression, MIME, Multitier architecture, Multics Relational Data Store, MPEG-1, Magnetic tape, Nibble, Ogg, Petabyte, PDF, Conventional PCI, Punched card, PackBits, Quartile, Random access, RS-232, Real Time Streaming Protocol, Real-time Transport Protocol, Run-length encoding, Statistics, Sequential access, Statistical theory, Data storage, Super-Kamiokande, Serialization, Speech coding, Semantic Web,\n",
      "\n",
      "Cluster 178 titles: Applet, Kolmogorov complexity, Applesoft BASIC, Amdahl's law, Brian Kernighan, Brainfuck, Bootstrapping, Computer programming, Computer program, Cygwin, Common Gateway Interface, Coral 66, Dhrystone, Explorers Program, ELIZA, Editor war, Foobar, Fortran, GeekSpeak, Genetic programming, OpenGL Utility Toolkit, GNU Debugger, George Dantzig, \"Hello, World!\" program, Just another Perl hacker, Kent Beck, KISS (system), Logic programming, Literate programming, Linker (computing), Loyalty program, Metasyntactic variable, Mariner program, MOO (programming language), Machine code, MMIX, NC (complexity), Ncurses, Obfuscation (software), Prolog, Plug-in (computing), Programmer, Procedural programming, Pair programming, Programmable logic controller, Quine (computing), Code refactoring, Source code, Structured programming, Spreadsheet, Script kiddie, Spaghetti code, Static program analysis, Software cracking, Simula,\n",
      "\n",
      "Cluster 179 titles: Anatoly Karpov, America's National Game, Alarums and Excursions, Acquire, Sid Meier's Alpha Centauri, Aron Nimzowitsch, Alexey Pajitnov, Board game, Cue sports, Games played, 1903 World Series, 2001 World Series, Breidablik, Basic Role-Playing, Bunnies & Burrows, Casino, Casino game, Card game, Call of Cthulhu (role-playing game), Chinese dominoes, Castle of the Winds, Civilization (video game), Chaosium, Chuck-a-luck, Chrono Cross, Dungeons & Dragons, Day of the Tentacle, Drinking game, Diablo II, Duck Hunt, Evolutionarily stable strategy, Earthdawn, Everway, Elfenland, Final Fantasy, Forgotten Futures, Fudge (role-playing game system), Fantasy Games Unlimited, FASA, Gambling, Game theory, Game Boy family, Gamma World, Gamemaster, Game Boy Advance, Golden Heroes, GURPS Supers, Glorantha, Eurogame, Gary Gygax, Game Boy Color, Game show, Heretic II, Hunt the Wumpus, Henry Chadwick (writer), Interactive fiction, Illuminati: New World Order, International Olympic Committee, Interactive Fiction Competition, John Horton Conway, Journal of the Travellers Aid Society, Jaggies, Java (board game), Keno, Kult (role-playing game), Live action role-playing game, Libro de los juegos, Magic: The Gathering, MUSH, MUD, Machinima, Maniac Mansion, Mario Kart, Monopoly (game), Mage: The Ascension, Marvel Super Heroes (role-playing game), Mancala, Marv Albert, Mathematical game, Mecha, Massively multiplayer online role-playing game, Might and Magic, Nomic, Olympic Games, Rollout (poker), Blind (poker), Closed (poker), Paper-and-pencil game, Play-by-mail game, Pentomino, Pierre de Coubertin, Quest for Glory, Role-playing game, RuneQuest, Reversi, Richard Garfield, RPGnet, Recreational mathematics, Risus, Ringworld (role-playing game), Rock-paper-scissors, Sprouts (game), Summer Olympic Games, Star Frontiers, Solitaire, Steve Jackson Games, Space Quest, SameGame, Storytelling game, Stratego, Game Gear, Sonic the Hedgehog (character), Slot machine, Spiel des Jahres, Superworld, Tile-based game, Titanic Thompson, Traveller (role-playing game),\n",
      "\n",
      "Cluster 180 titles: Antisymmetric relation, Binary relation, Category of being, Denormalization, Equivalence relation, Kalsilite, Lorentz transformation, Finitary relation, Preorder, Public relations, Relational database, Relational model, Simultaneity, Theory of relativity,\n",
      "\n",
      "Cluster 181 titles: Aardvark, Agnostida, Apatosaurus, Allosaurus, Albertosaurus, Adaptive radiation, Armadillo, Ant, Afghan Hound, Archaeopteryx, Branchiopoda, Bryozoa, Bird, Blood, Bodybuilding, Beagle, Bear, Bee, Borzoi, Chondrichthyes, Calf, Camel, Cnidaria, Cat, Canidae, Beetle, Cyprinidae, Cetacea, Dinosaur, Sideroxylon grandiflorum, Dodo, Dachshund, Diprotodon, Drosophila, Dolphin, Elephant, Ecdysis, Fin, Fruitarianism, Felidae, Foot, Giraffe, Greyhound, Gecko, Horseshoe, Horse, Hydra (genus), Hyena, Hymenoptera, Horse breeding, Hammerhead shark, Homo habilis, Hamster, Ibizan Hound, Italian Greyhound, Irish wolfhound, Kick, Tettigoniidae, Kangaroo, Komondor, Komodo dragon, Loch Ness Monster, Longship, Llama, Lemuridae, Mouse, Mammal, Muay Thai, Meteorite, Mummy, Mushroom, Osteichthyes, Orbital resonance, Ötzi, Octopus, Olympus Mons, Primate, Pythonidae, Odd-toed ungulate, Platypus, Flatworm, Prairie dog, Pterodactylus, Pterosaur, Pteranodon, Pig, Quetzalcoatlus, Reptile, Rat, Rabbit, Seafood, Squirrel, Secondary sex characteristic, Scorpion, Sighthound, Scottish Deerhound, Saluki, Shiba Inu, Snake, Salamander,\n",
      "\n",
      "Cluster 182 titles: Anatole France, Agnes of Merania, Amblygonite, Centime, CFA franc, Cottingley Fairies, Eth, Nord, Telecommunications in France, Transport in France, French Armed Forces, Economy of French Polynesia, Economy of French Guiana, Foreign relations of France, Franc, Fontainebleau, French Revolution, History of France, Jean-Jacques Ampère, Louisiana Purchase, Louis XIV of France, Economy of Martinique, Monaco, Economy of New Caledonia, Pope Gregory XIV, Pyrenees, Economy of Réunion, Reign of Terror, Politics of Saint Pierre and Miquelon, Savoy,\n",
      "\n",
      "Cluster 183 titles: Acre, Unit of alcohol, British thermal unit, Conversion of units, Calorie, Carat (mass), Centimetre-gram-second system of units, Centimetre, Dimensional analysis, Dyne, Electronvolt, Execution unit, Erg, Furlong, Gauss (unit), Geographical mile, Gallon, Hertz, Inch, ISO 4217, Imperial units, Joule, Kilobyte, Kilo-, Katal, Kilobit, Litre, Length, Mile, Megabyte, Mega-, Metrication, Micrometre, Nautical mile, Nanometre, Pound (mass), International System of Units, SI base unit, SI derived unit, Metric prefix, Statistical assembly, Statistical unit, Saudi Arabian-Iraqi neutral zone,\n",
      "\n",
      "Cluster 184 titles: IBM AIX, Artistic License, Apache HTTP Server, AutoCAD, AbiWord, ArgoUML, AIM (software), Amiga 500 Plus, BearShare, Berkeley DB, Commodore 1581, Charge of the Goddess, Commodore 1571, DirectX, Document Object Model, Executable and Linkable Format, EasyWriter, EDIF, GIMP, Gzip, Gopher (protocol), GnuCash, Gnumeric, Galeon, GNU Lesser General Public License, GW-BASIC, HyperCard, MIRC, Irssi, XChat, Intel 80486SX, ICQ, Internet Explorer, Intel DX4, JPEG Network Graphics, KDE, Kermit (protocol), KornShell, Konqueror, LimeWire, Links (web browser), LaTeX, Lynx (web browser), MINIX, Mandriva Linux, MySQL, MultiMate, Multiplan, Microsoft Excel, Microsoft Office, Multiple document interface, Adobe Flash, Netscape Navigator, OS/2, PhpWiki, PostgreSQL, PHP-Nuke, PaintShop Pro, Qt (software), QuickTime, Rich Text Format, Red Hat Linux, Rob Roy (cocktail), SuperMemo, Sharable Content Object Reference Model, SimpleText, TeX,\n",
      "\n",
      "Cluster 185 titles: Apollo 8, Apollo 11, Arable land, Apollo program, Apollo 9, Apollo 7, Apollo 13, Apollo 10, Apollo 14, Apollo 12, Apollo 1, Apollo 17, Apollo 16, Apollo 15, Alaska Native Claims Settlement Act, Ariane 5, Blue Streak (missile), Fat Man, Gemini 10, Galileo (satellite navigation), Interplanetary spaceflight, Land's End, Land mine, Lunar Roving Vehicle, Little Boy, Land Rover, 2001 Mars Odyssey, Manhattan Project, Project Mercury, Mars Direct, Messerschmitt Me 163 Komet, Neil Armstrong, UGM-27 Polaris, Pioneer 11, Sputnik 1, Strategic Defense Initiative, Savage Land,\n",
      "\n",
      "Cluster 186 titles: Anatolia, Ancient Egypt, Ashoka, Ahmad Shah Durrani, Almoravid dynasty, Delian League, Assyria, Aurangzeb, Afghan Turkestan, Austria-Hungary, Durrani Empire, Muslim conquests of Afghanistan, British Empire, History of Cambodia, History of China, Chaldea, Colony, Emperor, Empire, Ancient history of Afghanistan, Fujiwara clan, Göktürks, History of Europe, Holy Roman Empire, Hittites, History of Spain, History of Islam, History of the Mediterranean region, History of Egypt, History of Afghanistan, History of ancient Israel and Judah, History of India, History of Asia, History of Africa, History of Indonesia, History of Iraq, Imperialism, Inca Empire, Imperial Conference, Western imperialism in Asia, Justinian I, History of Kazakhstan, Khazars, History of Kuwait, Korea, Kanem-Bornu Empire, Middle Ages, Mongols, History of Morocco, Murad IV, Mesopotamia, Makran, Moctezuma I, History of Oman, Ottoman Empire, Osman I, Ottoman Turks, History of Pakistan, Poll tax, Persian people, Pan-Slavism, Qing dynasty, History of Romania, Suleiman the Magnificent, History of Saudi Arabia, History of Senegal, History of Slovakia, History of Somalia, Seleucid Empire, History of Thailand, History of Turkmenistan,\n",
      "\n",
      "Cluster 187 titles: Berlin Wall, Brandenburg, Bavaria, Blitzkrieg, Baralong incidents, Central Powers, Continuation War, Deutschlandlied, Stab-in-the-back myth, Volkssturm, Dual Alliance (1879), Edmund Stoiber, East Berlin, Freikorps, Transport in Germany, Economy of Germany, Germany, Demographics of Germany, Foreign relations of Germany, Gleichschaltung, German Unity Day, German cuisine, German Empire, Gestapo, East Germany, History of Germany, Heinrich Himmler, Hermann Göring, Hans-Dietrich Genscher, Second Polish Republic, Ich bin ein Berliner, Josef Terboven, Joachim von Ribbentrop, Konrad Adenauer, Karl Dönitz, Krupp, Keeshond, Imperial German Navy, Kriegsmarine, History of Luxembourg, Molotov-Ribbentrop Pact, Munich massacre, Nazi Germany, Neville Chamberlain, Operation Sea Lion, Otto von Bismarck, Potsdam Conference, Potsdam Agreement, Reinhard Heydrich, Red Army Faction, Schutzstaffel, Saarland, Saxony, Sinatra Doctrine, SS Kaiser Wilhelm der Grosse, Stasi, Treaty of Versailles, Thomas Mann, History of Tanzania,\n",
      "\n",
      "Cluster 188 titles: Analog signal, Adiabatic process, Bauxite, Bioleaching, Booch method, Chemical thermodynamics, Chemical vapor deposition, Context switch, Capability Maturity Model, Digital signal processing, Molecular diffusion, Erlang (programming language), Endothermic process, Food preservation, Giovanni Aldini, Half-life, Haber process, Ham, Ice beer, Language center, Mass deacidification, Metallurgy, Mimeograph, Malt, Nitrogen fixation, Ostwald process, Paul Héroult, Pasteurization, Plasma ashing, Peer review, Process theology, Process philosophy, Palestinian views on the peace process, Pizza cheese, Quality management system, Real-time computing, Spinning (textiles), Semiconductor device fabrication, Speech processing, Signal processing,\n",
      "\n",
      "Cluster 189 titles: AI-complete, BQP, BPP (complexity), Bouldering, Boolean satisfiability problem, P versus NP problem, Conjecture, Co-NP, Computational complexity theory, Clay Mathematics Institute, Decision problem, Entscheidungsproblem, Eight queens puzzle, Graph theory, Knapsack problem, NP (complexity), Oracle machine, Online algorithm, Phoniatrics, ♯P, ♯P-complete, Search algorithm, Signal separation, Sam Loyd, Problem of other minds,\n",
      "\n",
      "Cluster 190 titles: Adenylyl cyclase, Antianginal, Beta-lactamase, Benjamin Franklin-class submarine, Chordate, Calreticulin, Class action, Class (computer programming), Drag racing, Dylan (programming language), Equivalence class, Eiffel (programming language), E2, Isomorphism class, Interior Gateway Routing Protocol, Java (programming language), Limousine liberal, Library of Congress Classification, Los Angeles-class submarine, Multiple inheritance, Misdemeanor, Class (set theory), Strategic sealift ships, Noun class, Proteobacteria, Resolution-class submarine, Swahili language, Sather, Seawolf-class submarine, Sturgeon-class submarine, Social class,\n",
      "\n",
      "Cluster 191 titles: Assembly line, AWK, Alexandrine, Bugzilla, Couplet, Cinquain, Clerihew, Dactylic hexameter, Endometrium, Ed (text editor), Edlin, End zone, Enjambment, Eligible receiver, Transport in French Guiana, Fax, Fencing, Front line, Hendecasyllable, Hexameter, Interrupt, Satires (Juvenal), Knot, Linear equation, Line of scrimmage, Metre (poetry), Mondegreen, Monometer, Poetry, PAL, Pantoum, RMS Laconia, Sed, Stanza, Sestina, Signature block, Slope, Telephone,\n",
      "\n",
      "Cluster 192 titles: Answer (law), Allomorph, Accusative case, Ablative case, Abeyance, Casuistry, Camel case, Compound turbine, Dative case, Declension, Genitive case, Grammatical case, Handloading, Judicial economy, Latin declension, Negligence per se, Neuromancer, Nominative case, Peremptory plea,\n",
      "\n",
      "Cluster 193 titles: Bill Bixby, Dean Koontz, Daily Planet, Gene Roddenberry, Jedi, Technology in Star Trek, Redshirt (stock character), Star Wars, The Doctor (Star Trek: Voyager), Worf, Star Trek: The Original Series, Odo (Star Trek), Star Trek: Deep Space Nine, Martok, Kathryn Janeway, Cardassian, Maquis (Star Trek), Star Trek: Enterprise, Star Trek: The Next Generation, Chakotay, Tom Paris, Q (Star Trek), Star Trek: The Animated Series, Beverly Crusher, Deanna Troi, Leonard McCoy, Hoshi Sato, Geordi La Forge, Romulan, Star Trek: Voyager, Starfleet,\n",
      "\n",
      "Cluster 194 titles: Autocorrelation, Antiderivative, Ackermann function, Asymptote, Arithmetic function, Binary function, Bijection, Borsuk-Ulam theorem, Bilinear transform, Bessel function, Calculus, Complex analysis, Common Lisp, Chain rule, Continuous function, Currying, Convolution, Cauchy-Riemann equations, Cyclone (programming language), Derivative, Discrete Fourier transform, Equation, Euler-Maclaurin formula, Exponential function, Elliptic integral, Linear filter, Entire function, Euclidean domain, Emacs Lisp, Elementary function, Factorial, Functional programming, Fourier analysis, Functional theories of grammar, Functional decomposition, Gamma function, Gradient, Hash function, Holomorphic function, Inverse function, Idempotence, Identity function, Integral, Joyce K. Reynolds, LiveScript, Logarithm, Likelihood principle, Logic gate, Lambda calculus, Laplace transform, MD5, Mutual recursion, Multiplicative function, Majority function, Supervised learning, Möbius function, Möbius inversion formula, Natural logarithm, B-spline, Newton's method, Polynomial, Partial function, Pi, Prime number theorem, Principia Mathematica, Primitive recursive function, Parameter, Recursion, Riemann zeta function, RIPEMD, Riemann integral, Μ-recursive function, Real analysis, Referential transparency, Surjective function, Structural isomer, Stone-Weierstrass theorem,\n",
      "\n",
      "Cluster 195 titles: A, Alphabet, Abjad, Abugida, Alpha, Abbreviation, Anagram, Amerigo Vespucci, Arabic alphabet, Abated, Abba Mari, Abbreviator, Alphabet song, Braille, Berry paradox, Cyrillic script, Collation, Cutter Expansive Classification, Cirth, D, Delta (letter), Diacritic, Devanagari, E, Epsilon, Eta, Epistle to the Philippians, Epistle to the Colossians, Epistolary novel, Eth, Epistle to the Laodiceans, F, First Epistle to the Corinthians, Gamma, G, Glagolitic script, Gematria, Grapheme, Gurmukhi, Hebrew alphabet, H, Hebrew numerals, Hangman (game), Iota, International Phonetic Alphabet, ITU prefix, Ignatius of Antioch, K, Klerer-May System, Letter game, Latin, Letter (message), Lambda, Latin spelling and pronunciation, Latin alphabet, Mater lectionis, M, Macron (diacritic), N, O, Omega, P, Pinyin, Pen pal, Q, R, S, Standard Alphabet by Lepsius, Second Epistle to the Corinthians, Second Epistle of Peter, Second Epistle to the Thessalonians, Standard Arabic Technical Transliteration System, Tifinagh, T,\n",
      "\n",
      "Cluster 196 titles: Park Güell, Abbotsford House, House of Ascania, Abd al-Rahman V, Big Brother (franchise), Balmoral Castle, Baron Aberdare, Burwash Hall, Capetian dynasty, Fern Hill, Frank Lloyd Wright, Governor of New South Wales, Georgian architecture, George Frederick, Margrave of Brandenburg-Ansbach, House, House of Lords, House of Commons of the United Kingdom, House music, Parliament of the United Kingdom, Joseph Gurney Cannon, Supreme Court of Judicature Act 1873, Orient House, Princetown, Palace, Palace of Westminster, Parliament, Pub, Prime Minister of Japan, Peyton Randolph, Squatting, Son House,\n",
      "\n"
     ]
    },
    {
     "name": "stdout",
     "output_type": "stream",
     "text": [
      "Cluster 197 titles: Atom, Acoustic theory, Alpha decay, Atomic theory, Angular momentum, Brownian motion, Baryon, Beta decay, Body mass index, Chandrasekhar limit, Concentration, Examples of differential equations, Density, Double planet, Energy, Enthalpy, Elementary particle, Googolplex, Galaxy groups and clusters, Giant planet, Global warming potential, Hadron, Kilogram, Kinetic energy, Law of definite proportions, Mass, Mass media, Molecular mass, Meson, Muon, Mole fraction, Mass transfer, Neutron, Nuclear physics, Neutrino, Nuclear fusion, Nucleon, Nuclear fission, Oscillation, Proton, Proteome, Proton decay, PCAA, Proton-proton chain reaction, Quark, Rutherford scattering, Simple harmonic motion, Spacecraft propulsion, Stoichiometry,\n",
      "\n",
      "Cluster 198 titles: Aegean civilization, Ajanta Caves, Archaeoastronomy, Bronze Age, Broch, Çatalhöyük, Crannog, Chambered cairn, Chalcolithic, Epipalaeolithic Near East, Geocaching, Shock site, Hot or Not, Harappa, Iron Age, Kenyanthropus, Kremvax, Maritime archaeology, Maeshowe, Mesolithic, Mehrgarh, Microlith, Neolithic, Obsidian, Pilgrimage, Passage grave, Restriction enzyme, Restriction fragment length polymorphism, Marine archeology in the Gulf of Khambhat, Slashdot, Stonehenge, RNA splicing, Skara Brae, Stone Age,\n",
      "\n",
      "Cluster 199 titles: Bayesian probability, Bistability, Copenhagen interpretation, Externalization, Many-worlds interpretation, Entropy, EPR paradox, Frequentist probability, Feedback, Grigory Barenblatt, Gambler's fallacy, Hydrogen atom, Mechanics, Mechanical advantage, Mathematical formulation of quantum mechanics, Probability, Probability axioms, Probability interpretations, Pulley, Particle in a box, Pantograph, Quantization (physics), Quantum chemistry, Quantum mechanics, Quantum electrodynamics, Quantum information, Reflux suppressant, Statistical mechanics,\n",
      "\n",
      "\n",
      "\n"
     ]
    }
   ],
   "source": [
    "from __future__ import print_function\n",
    "\n",
    "print(\"Top terms per cluster:\")\n",
    "print()\n",
    "#sort cluster centers by proximity to centroid\n",
    "order_centroids = km.cluster_centers_.argsort()[:, ::-1] \n",
    "\n",
    "for i in range(num_clusters):\n",
    "    #print(\"Cluster %d words:\" % i, end='')\n",
    "    \n",
    "    #for ind in order_centroids[i, :6]: #replace 6 with n words per cluster\n",
    "    #    print(' %s' % vocab_frame.ix[terms[ind].split(' ')].values.tolist()[0][0].encode('utf-8', 'ignore'), end=',')\n",
    "    #print() #add whitespace\n",
    "    #print() #add whitespace\n",
    "    \n",
    "    print(\"Cluster %d titles:\" % i, end='')\n",
    "    for title in frame.ix[i]['title'].values.tolist():\n",
    "        print(' %s,' % title, end='')\n",
    "    print() #add whitespace\n",
    "    print() #add whitespace\n",
    "    \n",
    "print()\n",
    "print()"
   ]
  },
  {
   "cell_type": "code",
   "execution_count": null,
   "metadata": {},
   "outputs": [],
   "source": []
  },
  {
   "cell_type": "code",
   "execution_count": null,
   "metadata": {},
   "outputs": [],
   "source": []
  }
 ],
 "metadata": {
  "kernelspec": {
   "display_name": "Python 3",
   "language": "python",
   "name": "python3"
  },
  "language_info": {
   "codemirror_mode": {
    "name": "ipython",
    "version": 3
   },
   "file_extension": ".py",
   "mimetype": "text/x-python",
   "name": "python",
   "nbconvert_exporter": "python",
   "pygments_lexer": "ipython3",
   "version": "3.7.1"
  }
 },
 "nbformat": 4,
 "nbformat_minor": 2
}
